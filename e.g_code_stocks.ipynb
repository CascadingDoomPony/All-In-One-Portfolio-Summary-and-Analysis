{
 "cells": [
  {
   "cell_type": "code",
   "execution_count": 14,
   "id": "72cf3f19-41e0-4a4d-9353-2245f6712624",
   "metadata": {},
   "outputs": [],
   "source": [
    "# Initial imports\n",
    "## More imports may be required \n",
    "import pandas as pd \n",
    "import numpy as np\n",
    "import datetime as dt\n",
    "from pathlib import Path\n",
    "%matplotlib inline"
   ]
  },
  {
   "cell_type": "code",
   "execution_count": 17,
   "id": "deeb6ec9-7840-4fb1-b4d0-e873c511b05a",
   "metadata": {},
   "outputs": [],
   "source": [
    "#starting set up style & start and end datetime object, this will be the range of dates that we're going to grab stock pricing information for."
   ]
  }
 ],
 "metadata": {
  "kernelspec": {
   "display_name": "Python 3 (ipykernel)",
   "language": "python",
   "name": "python3"
  },
  "language_info": {
   "codemirror_mode": {
    "name": "ipython",
    "version": 3
   },
   "file_extension": ".py",
   "mimetype": "text/x-python",
   "name": "python",
   "nbconvert_exporter": "python",
   "pygments_lexer": "ipython3",
   "version": "3.9.7"
  }
 },
 "nbformat": 4,
 "nbformat_minor": 5
}
