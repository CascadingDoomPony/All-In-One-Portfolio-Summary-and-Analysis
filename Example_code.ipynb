{
 "cells": [
  {
   "cell_type": "code",
   "execution_count": 17,
   "id": "5e368b1d",
   "metadata": {},
   "outputs": [],
   "source": [
    "# Initialisation\n",
    "import os\n",
    "import requests\n",
    "import json\n",
    "import pandas as pd\n",
    "import urllib.parse as url\n",
    "from dotenv import load_dotenv"
   ]
  },
  {
   "cell_type": "code",
   "execution_count": 18,
   "id": "6ec10a1f",
   "metadata": {},
   "outputs": [
    {
     "data": {
      "text/plain": [
       "True"
      ]
     },
     "execution_count": 18,
     "metadata": {},
     "output_type": "execute_result"
    }
   ],
   "source": [
    "# Load env variables\n",
    "load_dotenv()\n",
    "api_key = os.getenv(\"DOMAIN_API_KEY\")"
   ]
  },
  {
   "cell_type": "code",
   "execution_count": 38,
   "id": "bd75d21b",
   "metadata": {},
   "outputs": [
    {
     "name": "stdout",
     "output_type": "stream",
     "text": [
      "[\n",
      "    {\n",
      "        \"address\": \"15/10-12 Third Avenue, Campsie NSW 2194\",\n",
      "        \"addressComponents\": {\n",
      "            \"unitNumber\": \"15\",\n",
      "            \"streetNumber\": \"10-12\",\n",
      "            \"streetName\": \"Third\",\n",
      "            \"streetType\": \"Av\",\n",
      "            \"streetTypeLong\": \"Avenue\",\n",
      "            \"suburb\": \"Campsie\",\n",
      "            \"postCode\": \"2194\",\n",
      "            \"state\": \"NSW\"\n",
      "        },\n",
      "        \"id\": \"AQ-5616-QU\",\n",
      "        \"relativeScore\": 100\n",
      "    }\n",
      "]\n"
     ]
    }
   ],
   "source": [
    "# This is an example on how to make a request to the domain.com.au api\n",
    "# First lets pretend we got an address as a full string and want to get address _suggest\n",
    "address_string = \"unit 15 10-12 third avenue campsie\"\n",
    "# The urllib.parse library lets us convert string into url text\n",
    "address_url = url.quote(address_string)\n",
    "\n",
    "# We now combine our data into the request url. The API I'm using has the below format. I set page size manually here.\n",
    "# https://api.domain.com.au/v1/properties/_suggest?terms=(address)&pageSize=(number up to 20)&api_key=(your api)\n",
    "# If you want to use a different get request, find the URL you need and format the request_url. If you need help you can ask me, Kevin\n",
    "request_url = f\"https://api.domain.com.au/v1/properties/_suggest?terms={address_url}&pageSize=1&api_key={api_key}\"\n",
    "get_request = requests.get(request_url)\n",
    "\n",
    "# Data formatting\n",
    "data = get_request.json()\n",
    "data = json.dumps(data, indent=4)\n",
    "# Print data\n",
    "print(data)"
   ]
  }
 ],
 "metadata": {
  "kernelspec": {
   "display_name": "Python [conda env:pyvizenv] *",
   "language": "python",
   "name": "conda-env-pyvizenv-py"
  },
  "language_info": {
   "codemirror_mode": {
    "name": "ipython",
    "version": 3
   },
   "file_extension": ".py",
   "mimetype": "text/x-python",
   "name": "python",
   "nbconvert_exporter": "python",
   "pygments_lexer": "ipython3",
   "version": "3.7.11"
  }
 },
 "nbformat": 4,
 "nbformat_minor": 5
}
