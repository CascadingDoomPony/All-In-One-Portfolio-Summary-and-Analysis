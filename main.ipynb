{
 "cells": [
  {
   "cell_type": "code",
   "execution_count": 148,
   "id": "c619042d",
   "metadata": {},
   "outputs": [],
   "source": [
    "# Initialisation\n",
    "import os\n",
    "import io\n",
    "import requests\n",
    "import json\n",
    "import pandas as pd\n",
    "import urllib.parse as url\n",
    "import alpaca_trade_api as tradeapi\n",
    "#import matplotlib.pyplot as plt\n",
    "from dotenv import load_dotenv"
   ]
  },
  {
   "cell_type": "code",
   "execution_count": 149,
   "id": "f446961d",
   "metadata": {},
   "outputs": [],
   "source": [
    "# Initialised\n",
    "import panel as pn\n",
    "from panel.interact import interact\n",
    "from panel import widgets\n",
    "pn.extension()"
   ]
  },
  {
   "cell_type": "code",
   "execution_count": 150,
   "id": "e4d20e68",
   "metadata": {},
   "outputs": [],
   "source": [
    "import hvplot.pandas"
   ]
  },
  {
   "cell_type": "code",
   "execution_count": 151,
   "id": "f7af1f0b",
   "metadata": {},
   "outputs": [],
   "source": [
    "load_dotenv()\n",
    "api_key = os.getenv(\"DOMAIN_API_KEY\")\n",
    "# Set Alpaca API key and secret\n",
    "alpaca_api_key = os.getenv(\"ALPACA_API_KEY\")\n",
    "alpaca_secret_key = os.getenv(\"ALPACA_SECRET_KEY\")\n",
    "\n",
    "# Create the Alpaca API object\n",
    "alpaca_api = tradeapi.REST(\n",
    "    alpaca_api_key,\n",
    "    alpaca_secret_key,\n",
    "    api_version = \"v2\"\n",
    ")"
   ]
  },
  {
   "cell_type": "code",
   "execution_count": 152,
   "id": "2c00960d",
   "metadata": {},
   "outputs": [],
   "source": [
    "#%matplotlib inline"
   ]
  },
  {
   "cell_type": "code",
   "execution_count": 153,
   "id": "2f2cd478",
   "metadata": {},
   "outputs": [],
   "source": [
    "title = \"All In One Portfolio Summary and Analysis\""
   ]
  },
  {
   "cell_type": "code",
   "execution_count": 154,
   "id": "5d8386d4",
   "metadata": {},
   "outputs": [],
   "source": [
    "# REQUEST CALL DOMAIN.COM.AU: This api call will, given a string, finds the property address that closest matches the string\n",
    "# and returns the address in full as a string, each address components in its own string, and a unique ID for the given address.\n",
    "# We will return all this data in a df\n",
    "def address_suggest(address):\n",
    "    if not address:\n",
    "        return\n",
    "    address_url = url.quote(address)\n",
    "    request_url = f\"https://api.domain.com.au/v1/properties/_suggest?terms={address_url}&pageSize=1&api_key={api_key}\"\n",
    "    get_request = requests.get(request_url)\n",
    "\n",
    "    # Data formatting\n",
    "    data = get_request.json()\n",
    "    # Extract data\n",
    "    full_address = data[0][\"address\"]\n",
    "    address_data = data[0][\"addressComponents\"]\n",
    "    location_id = data[0][\"id\"]\n",
    "    \n",
    "    \n",
    "    # Address_data is already a dict so we need to combine everything with update\n",
    "    all_data = {\n",
    "        \"full_address\": full_address,\n",
    "        \"id\": location_id\n",
    "    }\n",
    "    all_data.update(address_data)\n",
    "    # Put data into df\n",
    "    # Df will have a single row. All data in their own columns with their own names\n",
    "    address_df = pd.DataFrame([all_data])\n",
    "    return address_df"
   ]
  },
  {
   "cell_type": "code",
   "execution_count": 155,
   "id": "5f6d0203",
   "metadata": {},
   "outputs": [],
   "source": [
    "# Address locators: this request will return a unique identifier for the following address levels:\n",
    "# Address, street, suburb, postcode\n",
    "\n",
    "def address_locators(address_df, level, building_type):\n",
    "    if building_type == \"unit\":\n",
    "        unit = address_df.iloc[0][\"unitNumber\"]\n",
    "    else:\n",
    "        unit = None\n",
    "    street_num = address_df.iloc[0][\"streetNumber\"]\n",
    "    street_name = address_df.iloc[0][\"streetName\"]\n",
    "    street_type = address_df.iloc[0][\"streetType\"]\n",
    "    suburb = address_df.iloc[0][\"suburb\"]\n",
    "    post_code = address_df.iloc[0][\"postCode\"]\n",
    "    state = address_df.iloc[0][\"state\"]\n",
    "    \n",
    "    # Check if building is actually a unit\n",
    "    if building_type == \"unit\":\n",
    "        request_url = f\"https://api.domain.com.au/v1/addressLocators?searchLevel={level}&unitNumber={unit}&streetNumber={street_num}&streetName={street_name}&streetType={street_type}&suburb={suburb}&state={state}&postcode={post_code}&api_key={api_key}\"\n",
    "\n",
    "    else:\n",
    "        request_url = f\"https://api.domain.com.au/v1/addressLocators?searchLevel={level}&streetNumber={street_num}&streetName={street_name}&streetType={street_type}&suburb={suburb}&state={state}&postcode={post_code}&api_key={api_key}\"\n",
    "\n",
    "\n",
    "    get_request = requests.get(request_url)\n",
    "\n",
    "    # Data formatting\n",
    "    data = get_request.json()\n",
    "    combined_id_data = {}\n",
    "    for loc_id in data[0][\"ids\"]:\n",
    "        combined_id_data.update({loc_id[\"level\"]+\" id\": loc_id[\"id\"]})\n",
    "    \n",
    "    id_df = pd.DataFrame([combined_id_data])\n",
    "    \n",
    "    return id_df"
   ]
  },
  {
   "cell_type": "code",
   "execution_count": 156,
   "id": "acaddfd6",
   "metadata": {},
   "outputs": [],
   "source": [
    "# Properties: Using a given property id provided by _suggest, this request gives an info dump on the characteristics of the property\n",
    "# For now just returning all data since I do not know exactly what data is required\n",
    "def properties(prop_id):\n",
    "    request_url = f\"https://api.domain.com.au/v1/properties/{prop_id}?api_key={api_key}\"\n",
    "    get_request = requests.get(request_url)\n",
    "    data = get_request.json()\n",
    "    return data"
   ]
  },
  {
   "cell_type": "code",
   "execution_count": 157,
   "id": "a6df9104",
   "metadata": {},
   "outputs": [],
   "source": [
    "# Location profiles: this request gives an info dump of a given location based on the suburb id given. \n",
    "# ID must come from Address Locator request\n",
    "def location_profiles(suburb_id):\n",
    "    request_url = f\"https://api.domain.com.au/v1/locations/profiles/{suburb_id}?api_key={api_key}\"\n",
    "    get_request = requests.get(request_url)\n",
    "    data = get_request.json()\n",
    "    return data"
   ]
  },
  {
   "cell_type": "code",
   "execution_count": 158,
   "id": "8e506e13",
   "metadata": {},
   "outputs": [
    {
     "data": {
      "text/plain": [
       "'# Line chart code from previous homework\\ndef create_line_chart(data, title, xlabel, ylabel):\\n    return data.hvplot.line(\\n        title=title, \\n        xlabel=xlabel, \\n        ylabel=ylabel\\n    ).opts(\\n        # Format Y to not use scientific notation and increase width so the chart doesn\\'t look squished \\n        yformatter=\"%.0f\",\\n        frame_width = 500\\n    )'"
      ]
     },
     "execution_count": 158,
     "metadata": {},
     "output_type": "execute_result"
    }
   ],
   "source": [
    "\"\"\"# Line chart code from previous homework\n",
    "def create_line_chart(data, title, xlabel, ylabel):\n",
    "    return data.hvplot.line(\n",
    "        title=title, \n",
    "        xlabel=xlabel, \n",
    "        ylabel=ylabel\n",
    "    ).opts(\n",
    "        # Format Y to not use scientific notation and increase width so the chart doesn't look squished \n",
    "        yformatter=\"%.0f\",\n",
    "        frame_width = 500\n",
    "    )\"\"\""
   ]
  },
  {
   "cell_type": "code",
   "execution_count": 159,
   "id": "e6f939ec",
   "metadata": {},
   "outputs": [],
   "source": [
    "def suburb_price_chart(growth_df):\n",
    "    return growth_df.hvplot.line(\n",
    "        title = \"Suburb's growth yearly\",\n",
    "        x = \"Years\",\n",
    "        y = \"Median Sold Price\",\n",
    "    ).opts(\n",
    "        yformatter=\"%.0f\"\n",
    "    )"
   ]
  },
  {
   "cell_type": "code",
   "execution_count": 160,
   "id": "275911b0",
   "metadata": {},
   "outputs": [],
   "source": [
    "def suburb_sale_chart(growth_df):\n",
    "    return growth_df.hvplot.line(\n",
    "        title = \"Suburb's growth yearly\",\n",
    "        x = \"Years\",\n",
    "        y = \"Number of Sales\",\n",
    "    ).opts(\n",
    "        yformatter=\"%.0f\"\n",
    "    )"
   ]
  },
  {
   "cell_type": "code",
   "execution_count": 161,
   "id": "af242987",
   "metadata": {},
   "outputs": [],
   "source": [
    "def purchase_vs_median(growth_df):\n",
    "    print(growth_df)\n",
    "    return growth_df.hvplot.bar(\n",
    "        title = \"Purchase Price vs Median Sold Price\",\n",
    "        x = \"Years\",\n",
    "        y = [\"Median Sold Price\", \"Purchase Price\"]\n",
    "    ).opts(\n",
    "        yformatter=\"%.0f\"\n",
    "    )"
   ]
  },
  {
   "cell_type": "code",
   "execution_count": 162,
   "id": "d9c9ea19",
   "metadata": {},
   "outputs": [],
   "source": [
    "# Top level of property section will do api calls on _suggest and address-locators, determine if property is a unit\n",
    "# and will produce an info dump on the selected property\n",
    "\n",
    "def property_top_level(address, valuation):\n",
    "    if not address or not valuation:\n",
    "        return\n",
    "    \n",
    "    if not valuation.isdigit():\n",
    "        return pn.Pane(\"Valuation is not a number\")\n",
    "    \n",
    "    valuation = int(valuation)\n",
    "    \n",
    "    address_df = address_suggest(address)\n",
    "    full_address = address_df.iloc[0][\"full_address\"]\n",
    "    address_string = f\"Showing data for the following address:  <br /> {full_address}\"\n",
    "    \n",
    "    # Create a flag here on top level to indicate if property is a unit\n",
    "    # unit number wont be a column in address_df if the property isn't a unit to begin with\n",
    "    if address_df.iloc[0][\"unitNumber\"]:\n",
    "        building_type = \"unit\"\n",
    "    else:\n",
    "        building_type = \"house\"\n",
    "       \n",
    "    # Get ids of address componenets\n",
    "    id_df = address_locators(address_df, \"address\", building_type)\n",
    "    \n",
    "    # Get information on property. Need to know how many bedrooms property has\n",
    "    property_data = properties(address_df.iloc[0][\"id\"])\n",
    "    bedrooms = property_data[\"bedrooms\"]\n",
    "    info_string = f\"This property is a {building_type}, with {bedrooms} bedrooms\"\n",
    "    \n",
    "    # Get suburbs location profile\n",
    "    location_data = location_profiles(id_df.iloc[0][\"Suburb id\"])\n",
    "    categorised_location_data = location_data[\"data\"][\"propertyCategories\"]\n",
    "    \n",
    "    # Single out the property type by building type and bedroom count\n",
    "    for property_type in categorised_location_data:\n",
    "        if property_type[\"bedrooms\"] == bedrooms and property_type[\"propertyCategory\"].lower() == building_type:\n",
    "            specified_location_data = property_type\n",
    "    \n",
    "    # Code here uses specified location data for analysis\n",
    "    growth_years = []\n",
    "    growth_price = []\n",
    "    growth_sales = []\n",
    "    purchase_price = []\n",
    "    for entry in specified_location_data[\"salesGrowthList\"]:\n",
    "        growth_years.append(entry[\"year\"])\n",
    "        growth_price.append(entry[\"medianSoldPrice\"])\n",
    "        growth_sales.append(entry[\"numberSold\"])\n",
    "        purchase_price= valuation\n",
    "    \n",
    "    print(purchase_price)\n",
    "    growth_data = {\"Years\": growth_years,\n",
    "                  \"Median Sold Price\": growth_price,\n",
    "                  \"Number of Sales\": growth_sales,\n",
    "                  \"Purchase Price\" : purchase_price\n",
    "                  }\n",
    "    \n",
    "    growth_df = pd.DataFrame(growth_data)\n",
    "    #growth_df.set_index(\"Years\", inplace=True)\n",
    "    \n",
    "    \n",
    "    suburb_data_row = pn.Row(suburb_price_chart(growth_df), suburb_sale_chart(growth_df), purchase_vs_median(growth_df))\n",
    "    \n",
    "    test_column = pn.Column(info_string, suburb_data_row)\n",
    "    \n",
    "    \n",
    "    return pn.Column(address_string, test_column, width = 1000)"
   ]
  },
  {
   "cell_type": "code",
   "execution_count": 163,
   "id": "a79964cb",
   "metadata": {},
   "outputs": [],
   "source": [
    "@interact(x=[2,3,4], y=['a','b','c'])\n",
    "def func(x,y):\n",
    "    #print(x,y)\n",
    "    return pn.Row(x,y)"
   ]
  },
  {
   "cell_type": "code",
   "execution_count": 164,
   "id": "d9e7db60",
   "metadata": {},
   "outputs": [
    {
     "data": {},
     "metadata": {},
     "output_type": "display_data"
    },
    {
     "data": {
      "application/vnd.holoviews_exec.v0+json": "",
      "text/html": [
       "<div id='5803'>\n",
       "\n",
       "\n",
       "\n",
       "\n",
       "\n",
       "  <div class=\"bk-root\" id=\"988d365f-59a6-4e53-ba0e-2ee5248adb56\" data-root-id=\"5803\"></div>\n",
       "</div>\n",
       "<script type=\"application/javascript\">(function(root) {\n",
       "  function embed_document(root) {\n",
       "    var docs_json = {\"7e162207-9b3d-446b-bb55-6d3de603ac17\":{\"defs\":[{\"extends\":null,\"module\":null,\"name\":\"ReactiveHTML1\",\"overrides\":[],\"properties\":[]},{\"extends\":null,\"module\":null,\"name\":\"FlexBox1\",\"overrides\":[],\"properties\":[{\"default\":\"flex-start\",\"kind\":null,\"name\":\"align_content\"},{\"default\":\"flex-start\",\"kind\":null,\"name\":\"align_items\"},{\"default\":\"row\",\"kind\":null,\"name\":\"flex_direction\"},{\"default\":\"wrap\",\"kind\":null,\"name\":\"flex_wrap\"},{\"default\":\"flex-start\",\"kind\":null,\"name\":\"justify_content\"}]},{\"extends\":null,\"module\":null,\"name\":\"TemplateActions1\",\"overrides\":[],\"properties\":[{\"default\":0,\"kind\":null,\"name\":\"open_modal\"},{\"default\":0,\"kind\":null,\"name\":\"close_modal\"}]},{\"extends\":null,\"module\":null,\"name\":\"MaterialTemplateActions1\",\"overrides\":[],\"properties\":[{\"default\":0,\"kind\":null,\"name\":\"open_modal\"},{\"default\":0,\"kind\":null,\"name\":\"close_modal\"}]}],\"roots\":{\"references\":[{\"attributes\":{\"children\":[{\"id\":\"5804\"},{\"id\":\"5806\"}],\"margin\":[0,0,0,0],\"name\":\"Column11445\"},\"id\":\"5803\",\"type\":\"Column\"},{\"attributes\":{\"children\":[{\"id\":\"5805\"}],\"margin\":[0,0,0,0],\"name\":\"Column11449\"},\"id\":\"5804\",\"type\":\"Column\"},{\"attributes\":{\"client_comm_id\":\"db40cba6733442aca8bed30c4af2b462\",\"comm_id\":\"9284b56b3a504c89bacf4897acb013bc\",\"plot_id\":\"5803\"},\"id\":\"5808\",\"type\":\"panel.models.comm_manager.CommManager\"},{\"attributes\":{\"children\":[{\"id\":\"5807\"}],\"margin\":[0,0,0,0],\"name\":\"Row11448\"},\"id\":\"5806\",\"type\":\"Row\"},{\"attributes\":{\"margin\":[5,10,5,10],\"max_length\":5000,\"placeholder\":\"Please enter your address here\",\"title\":\"Your Address\"},\"id\":\"5805\",\"type\":\"TextInput\"},{\"attributes\":{\"css_classes\":[\"markdown\"],\"margin\":[5,5,5,5],\"name\":\"interactive11444\"},\"id\":\"5807\",\"type\":\"panel.models.markup.HTML\"}],\"root_ids\":[\"5803\",\"5808\"]},\"title\":\"Bokeh Application\",\"version\":\"2.4.2\"}};\n",
       "    var render_items = [{\"docid\":\"7e162207-9b3d-446b-bb55-6d3de603ac17\",\"root_ids\":[\"5803\"],\"roots\":{\"5803\":\"988d365f-59a6-4e53-ba0e-2ee5248adb56\"}}];\n",
       "    root.Bokeh.embed.embed_items_notebook(docs_json, render_items);\n",
       "  }\n",
       "  if (root.Bokeh !== undefined && root.Bokeh.Panel !== undefined) {\n",
       "    embed_document(root);\n",
       "  } else {\n",
       "    var attempts = 0;\n",
       "    var timer = setInterval(function(root) {\n",
       "      if (root.Bokeh !== undefined && root.Bokeh.Panel !== undefined) {\n",
       "        clearInterval(timer);\n",
       "        embed_document(root);\n",
       "      } else if (document.readyState == \"complete\") {\n",
       "        attempts++;\n",
       "        if (attempts > 200) {\n",
       "          clearInterval(timer);\n",
       "          console.log(\"Bokeh: ERROR: Unable to run BokehJS code because BokehJS library is missing\");\n",
       "        }\n",
       "      }\n",
       "    }, 25, root)\n",
       "  }\n",
       "})(window);</script>"
      ],
      "text/plain": [
       "Column\n",
       "    [0] Column\n",
       "        [0] TextInput(name='Your Address', placeholder='Please enter y...)\n",
       "    [1] Row\n",
       "        [0] Markdown(str, name='interactive11444')"
      ]
     },
     "execution_count": 164,
     "metadata": {
      "application/vnd.holoviews_exec.v0+json": {
       "id": "5803"
      }
     },
     "output_type": "execute_result"
    }
   ],
   "source": [
    "@interact(x=widgets.TextInput(name=\"Your Address\", placeholder=\"Please enter your address here\"))#, y=widgets.TextInput(name=\"Your Address\", placeholder=\"Please enter your address here\"))\n",
    "def myfunc(x):\n",
    "    return x\n",
    "myfunc"
   ]
  },
  {
   "cell_type": "code",
   "execution_count": 165,
   "id": "7d6af596",
   "metadata": {},
   "outputs": [
    {
     "data": {
      "text/plain": [
       "0"
      ]
     },
     "execution_count": 165,
     "metadata": {},
     "output_type": "execute_result"
    }
   ],
   "source": [
    "count = 0\n",
    "count"
   ]
  },
  {
   "cell_type": "code",
   "execution_count": 166,
   "id": "8bc46183",
   "metadata": {},
   "outputs": [],
   "source": [
    "def stock_top_level(stocks):\n",
    "    if stocks is None:\n",
    "        return\n",
    "    stock_df = pd.read_csv(io.BytesIO(stocks), index_col=\"symbol\", infer_datetime_format=True)\n",
    "    stock_df[\"date\"] = pd.to_datetime(stock_df[\"date\"], infer_datetime_format=True)\n",
    "    user_symbols = stock_df.index.tolist()\n",
    "    start_date = stock_df[\"date\"].tolist()\n",
    "    start_date.sort()\n",
    "    start_date = start_date[0]\n",
    "    \n",
    "    market_data_df = alpaca_api.get_barset(\n",
    "        user_symbols,\n",
    "        \"1D\",\n",
    "        end = start_date,\n",
    "        limit = 1000\n",
    "    ).df\n",
    "        \n",
    "    return pn.Pane(market_data_df)"
   ]
  },
  {
   "cell_type": "code",
   "execution_count": 167,
   "id": "5f3d7be9",
   "metadata": {},
   "outputs": [
    {
     "data": {},
     "metadata": {},
     "output_type": "display_data"
    },
    {
     "data": {
      "application/vnd.holoviews_exec.v0+json": "",
      "text/html": [
       "<div id='5809'>\n",
       "\n",
       "\n",
       "\n",
       "\n",
       "\n",
       "  <div class=\"bk-root\" id=\"f6a0c331-d05d-4a43-bf36-294668afb812\" data-root-id=\"5809\"></div>\n",
       "</div>\n",
       "<script type=\"application/javascript\">(function(root) {\n",
       "  function embed_document(root) {\n",
       "    var docs_json = {\"f52f3e69-258b-45a2-ba36-7efa3e7094a8\":{\"defs\":[{\"extends\":null,\"module\":null,\"name\":\"ReactiveHTML1\",\"overrides\":[],\"properties\":[]},{\"extends\":null,\"module\":null,\"name\":\"FlexBox1\",\"overrides\":[],\"properties\":[{\"default\":\"flex-start\",\"kind\":null,\"name\":\"align_content\"},{\"default\":\"flex-start\",\"kind\":null,\"name\":\"align_items\"},{\"default\":\"row\",\"kind\":null,\"name\":\"flex_direction\"},{\"default\":\"wrap\",\"kind\":null,\"name\":\"flex_wrap\"},{\"default\":\"flex-start\",\"kind\":null,\"name\":\"justify_content\"}]},{\"extends\":null,\"module\":null,\"name\":\"TemplateActions1\",\"overrides\":[],\"properties\":[{\"default\":0,\"kind\":null,\"name\":\"open_modal\"},{\"default\":0,\"kind\":null,\"name\":\"close_modal\"}]},{\"extends\":null,\"module\":null,\"name\":\"MaterialTemplateActions1\",\"overrides\":[],\"properties\":[{\"default\":0,\"kind\":null,\"name\":\"open_modal\"},{\"default\":0,\"kind\":null,\"name\":\"close_modal\"}]}],\"roots\":{\"references\":[{\"attributes\":{\"children\":[{\"id\":\"5810\"},{\"id\":\"5811\"}],\"margin\":[0,0,0,0],\"name\":\"Column11476\"},\"id\":\"5809\",\"type\":\"Column\"},{\"attributes\":{\"margin\":[5,5,5,5],\"name\":\"interactive11454\",\"text\":\"&lt;pre&gt; &lt;/pre&gt;\"},\"id\":\"5819\",\"type\":\"panel.models.markup.HTML\"},{\"attributes\":{\"css_classes\":[\"markdown\"],\"margin\":[5,5,5,5],\"name\":\"Markdown11460\",\"text\":\"&lt;p&gt;Please enter your Full Address and Purchase Price  &lt;br /&gt;\\nThis program will have you understand how is your property tracking in the current market&lt;/p&gt;\"},\"id\":\"5813\",\"type\":\"panel.models.markup.HTML\"},{\"attributes\":{\"css_classes\":[\"markdown\"],\"margin\":[5,5,5,5],\"name\":\"Markdown11470\",\"text\":\"&lt;p&gt;Please upload a .csv file with your stock symbol, purchase date, and purchase amount  &lt;br /&gt;\\nPlease use the following column names in your csv: symbol, date, amount&lt;/p&gt;\"},\"id\":\"5822\",\"type\":\"panel.models.markup.HTML\"},{\"attributes\":{\"margin\":[5,10,5,10],\"max_length\":5000,\"placeholder\":\"Please enter your address here\",\"title\":\"Your Address\"},\"id\":\"5816\",\"type\":\"TextInput\"},{\"attributes\":{\"margin\":[5,5,5,5],\"name\":\"interactive11464\",\"text\":\"&lt;pre&gt; &lt;/pre&gt;\"},\"id\":\"5827\",\"type\":\"panel.models.markup.HTML\"},{\"attributes\":{\"client_comm_id\":\"f49969beb0fa47bf9eb7cd9961168648\",\"comm_id\":\"82c049b155864262bd6952648eea6a33\",\"plot_id\":\"5809\"},\"id\":\"5829\",\"type\":\"panel.models.comm_manager.CommManager\"},{\"attributes\":{\"child\":{\"id\":\"5821\"},\"name\":\"Column11472\",\"title\":\"Stock Portfolio Analysis\"},\"id\":\"5828\",\"type\":\"Panel\"},{\"attributes\":{\"child\":{\"id\":\"5812\"},\"name\":\"Column11462\",\"title\":\"Property Analysis\"},\"id\":\"5820\",\"type\":\"Panel\"},{\"attributes\":{\"accept\":\".csv\",\"margin\":[5,10,5,10]},\"id\":\"5825\",\"type\":\"FileInput\"},{\"attributes\":{\"children\":[{\"id\":\"5813\"},{\"id\":\"5814\"}],\"margin\":[0,0,0,0],\"min_width\":600,\"name\":\"Column11462\",\"width\":600},\"id\":\"5812\",\"type\":\"Column\"},{\"attributes\":{\"css_classes\":[\"markdown\"],\"margin\":[5,5,5,5],\"name\":\"Markdown11474\",\"text\":\"&lt;p&gt;All In One Portfolio Summary and Analysis&lt;/p&gt;\"},\"id\":\"5810\",\"type\":\"panel.models.markup.HTML\"},{\"attributes\":{\"children\":[{\"id\":\"5824\"},{\"id\":\"5826\"}],\"margin\":[0,0,0,0],\"name\":\"Column11465\"},\"id\":\"5823\",\"type\":\"Column\"},{\"attributes\":{\"children\":[{\"id\":\"5815\"},{\"id\":\"5818\"}],\"margin\":[0,0,0,0],\"name\":\"Column11455\"},\"id\":\"5814\",\"type\":\"Column\"},{\"attributes\":{\"margin\":[5,10,5,10],\"max_length\":5000,\"placeholder\":\"Please enter purchase price\",\"title\":\"Purchase Price\"},\"id\":\"5817\",\"type\":\"TextInput\"},{\"attributes\":{\"children\":[{\"id\":\"5816\"},{\"id\":\"5817\"}],\"margin\":[0,0,0,0],\"name\":\"Column11459\"},\"id\":\"5815\",\"type\":\"Column\"},{\"attributes\":{\"children\":[{\"id\":\"5819\"}],\"margin\":[0,0,0,0],\"name\":\"Row11458\"},\"id\":\"5818\",\"type\":\"Row\"},{\"attributes\":{\"margin\":[0,0,0,0],\"tabs\":[{\"id\":\"5820\"},{\"id\":\"5828\"}]},\"id\":\"5811\",\"type\":\"Tabs\"},{\"attributes\":{\"children\":[{\"id\":\"5822\"},{\"id\":\"5823\"}],\"margin\":[0,0,0,0],\"min_width\":600,\"name\":\"Column11472\",\"width\":600},\"id\":\"5821\",\"type\":\"Column\"},{\"attributes\":{\"children\":[{\"id\":\"5827\"}],\"margin\":[0,0,0,0],\"name\":\"Row11468\"},\"id\":\"5826\",\"type\":\"Row\"},{\"attributes\":{\"children\":[{\"id\":\"5825\"}],\"margin\":[0,0,0,0],\"name\":\"Column11469\"},\"id\":\"5824\",\"type\":\"Column\"}],\"root_ids\":[\"5809\",\"5829\"]},\"title\":\"Bokeh Application\",\"version\":\"2.4.2\"}};\n",
       "    var render_items = [{\"docid\":\"f52f3e69-258b-45a2-ba36-7efa3e7094a8\",\"root_ids\":[\"5809\"],\"roots\":{\"5809\":\"f6a0c331-d05d-4a43-bf36-294668afb812\"}}];\n",
       "    root.Bokeh.embed.embed_items_notebook(docs_json, render_items);\n",
       "  }\n",
       "  if (root.Bokeh !== undefined && root.Bokeh.Panel !== undefined) {\n",
       "    embed_document(root);\n",
       "  } else {\n",
       "    var attempts = 0;\n",
       "    var timer = setInterval(function(root) {\n",
       "      if (root.Bokeh !== undefined && root.Bokeh.Panel !== undefined) {\n",
       "        clearInterval(timer);\n",
       "        embed_document(root);\n",
       "      } else if (document.readyState == \"complete\") {\n",
       "        attempts++;\n",
       "        if (attempts > 200) {\n",
       "          clearInterval(timer);\n",
       "          console.log(\"Bokeh: ERROR: Unable to run BokehJS code because BokehJS library is missing\");\n",
       "        }\n",
       "      }\n",
       "    }, 25, root)\n",
       "  }\n",
       "})(window);</script>"
      ],
      "text/plain": [
       "Column\n",
       "    [0] Markdown(str)\n",
       "    [1] Tabs\n",
       "        [0] Column(width=600)\n",
       "            [0] Markdown(str)\n",
       "            [1] Column\n",
       "                [0] Column\n",
       "                    [0] TextInput(name='Your Address', placeholder='Please enter y...)\n",
       "                    [1] TextInput(name='Purchase Price', placeholder='Please enter p...)\n",
       "                [1] Row\n",
       "                    [0] Str(None, name='interactive11454')\n",
       "        [1] Column(width=600)\n",
       "            [0] Markdown(str)\n",
       "            [1] Column\n",
       "                [0] Column\n",
       "                    [0] FileInput(accept='.csv')\n",
       "                [1] Row\n",
       "                    [0] Str(None, name='interactive11464')"
      ]
     },
     "execution_count": 167,
     "metadata": {
      "application/vnd.holoviews_exec.v0+json": {
       "id": "5809"
      }
     },
     "output_type": "execute_result"
    }
   ],
   "source": [
    "# Put everything together into this dashboard and serve it\n",
    "property_opening_message = \"\"\"Please enter your Full Address and Purchase Price  <br />\n",
    "This program will have you understand how is your property tracking in the current market\"\"\"\n",
    "\n",
    "property_price_message = \"\"\"Please enter your purchase price <br />\n",
    "This program will give the purchase price\"\"\"\n",
    "\n",
    "#property_opening_column = pn.Column(property_opening_message,\n",
    "#                                   interact(property_top_level, \n",
    "#                                            address=widgets.TextInput(name=\"Your Address\", placeholder=\"Please enter your address here\")),\n",
    "#                                   width=600)\n",
    "#@interact(address=widgets.TextInput(name=\"Your Address\")\n",
    "property_opening_column = pn.Column(property_opening_message,\n",
    "                                  interact(property_top_level, \n",
    "                                        address=widgets.TextInput(name=\"Your Address\", placeholder=\"Please enter your address here\"),\n",
    "                                        valuation=widgets.TextInput(name=\"Purchase Price\", placeholder=\"Please enter purchase price\")),\n",
    "                                   width=600)\n",
    "\n",
    "stock_opening_message = \"\"\"Please upload a .csv file with your stock symbol, purchase date, and purchase amount  <br />\n",
    "Please use the following column names in your csv: symbol, date, amount\"\"\"\n",
    "\n",
    "stock_analysis_opening_column = pn.Column(stock_opening_message, \n",
    "                                          interact(stock_top_level, stocks=widgets.FileInput(accept=\".csv\")),\n",
    "                                         width = 600)\n",
    "\n",
    "tabs = pn.Tabs(\n",
    "    (\"Property Analysis\", \n",
    "     property_opening_column),\n",
    "    (\"Stock Portfolio Analysis\",\n",
    "    stock_analysis_opening_column)\n",
    ")   \n",
    "dashboard = pn.Column(title, tabs)\n",
    "dashboard.servable()"
   ]
  },
  {
   "cell_type": "code",
   "execution_count": 168,
   "id": "c7c44abf",
   "metadata": {},
   "outputs": [
    {
     "name": "stdout",
     "output_type": "stream",
     "text": [
      "650000\n",
      "   Years  Median Sold Price  Number of Sales  Purchase Price\n",
      "0   2016           593000.0               52          650000\n",
      "1   2017           678000.0               45          650000\n",
      "2   2018           650000.0               36          650000\n",
      "3   2019           633000.0               36          650000\n",
      "4   2020           651000.0               40          650000\n",
      "5   2021           730000.0               48          650000\n"
     ]
    },
    {
     "data": {},
     "metadata": {},
     "output_type": "display_data"
    },
    {
     "data": {},
     "metadata": {},
     "output_type": "display_data"
    },
    {
     "data": {
      "application/vnd.holoviews_exec.v0+json": "",
      "text/html": [
       "<div id='5830'>\n",
       "\n",
       "\n",
       "\n",
       "\n",
       "\n",
       "  <div class=\"bk-root\" id=\"b3845179-0607-47aa-97bb-a302e5bb7b3e\" data-root-id=\"5830\"></div>\n",
       "</div>\n",
       "<script type=\"application/javascript\">(function(root) {\n",
       "  function embed_document(root) {\n",
       "    var docs_json = {\"bd88d134-03ab-4485-bf08-e314e2b8c14e\":{\"defs\":[{\"extends\":null,\"module\":null,\"name\":\"ReactiveHTML1\",\"overrides\":[],\"properties\":[]},{\"extends\":null,\"module\":null,\"name\":\"FlexBox1\",\"overrides\":[],\"properties\":[{\"default\":\"flex-start\",\"kind\":null,\"name\":\"align_content\"},{\"default\":\"flex-start\",\"kind\":null,\"name\":\"align_items\"},{\"default\":\"row\",\"kind\":null,\"name\":\"flex_direction\"},{\"default\":\"wrap\",\"kind\":null,\"name\":\"flex_wrap\"},{\"default\":\"flex-start\",\"kind\":null,\"name\":\"justify_content\"}]},{\"extends\":null,\"module\":null,\"name\":\"TemplateActions1\",\"overrides\":[],\"properties\":[{\"default\":0,\"kind\":null,\"name\":\"open_modal\"},{\"default\":0,\"kind\":null,\"name\":\"close_modal\"}]},{\"extends\":null,\"module\":null,\"name\":\"MaterialTemplateActions1\",\"overrides\":[],\"properties\":[{\"default\":0,\"kind\":null,\"name\":\"open_modal\"},{\"default\":0,\"kind\":null,\"name\":\"close_modal\"}]}],\"roots\":{\"references\":[{\"attributes\":{},\"id\":\"5855\",\"type\":\"SaveTool\"},{\"attributes\":{\"end\":743700.0,\"reset_end\":743700.0,\"reset_start\":579300.0,\"start\":579300.0,\"tags\":[[[\"Median Sold Price\",\"Median Sold Price\",null]]]},\"id\":\"5836\",\"type\":\"Range1d\"},{\"attributes\":{},\"id\":\"5925\",\"type\":\"PanTool\"},{\"attributes\":{\"children\":[{\"id\":\"5833\"},{\"id\":\"5834\"}],\"margin\":[0,0,0,0],\"name\":\"Column11832\"},\"id\":\"5832\",\"type\":\"Column\"},{\"attributes\":{},\"id\":\"5986\",\"type\":\"CategoricalTicker\"},{\"attributes\":{\"data\":{\"Variable\":[\"Median Sold Price\",\"Median Sold Price\",\"Median Sold Price\",\"Median Sold Price\",\"Median Sold Price\",\"Median Sold Price\",\"Purchase Price\",\"Purchase Price\",\"Purchase Price\",\"Purchase Price\",\"Purchase Price\",\"Purchase Price\"],\"Years\":[\"2016\",\"2017\",\"2018\",\"2019\",\"2020\",\"2021\",\"2016\",\"2017\",\"2018\",\"2019\",\"2020\",\"2021\"],\"value\":{\"__ndarray__\":\"AAAAANAYIkEAAAAA4LAkQQAAAAAg1iNBAAAAAFBRI0EAAAAA8N0jQQAAAAAgRyZBAAAAACDWI0EAAAAAINYjQQAAAAAg1iNBAAAAACDWI0EAAAAAINYjQQAAAAAg1iNB\",\"dtype\":\"float64\",\"order\":\"little\",\"shape\":[12]},\"xoffsets\":[[\"2016\",\"Median Sold Price\"],[\"2017\",\"Median Sold Price\"],[\"2018\",\"Median Sold Price\"],[\"2019\",\"Median Sold Price\"],[\"2020\",\"Median Sold Price\"],[\"2021\",\"Median Sold Price\"],[\"2016\",\"Purchase Price\"],[\"2017\",\"Purchase Price\"],[\"2018\",\"Purchase Price\"],[\"2019\",\"Purchase Price\"],[\"2020\",\"Purchase Price\"],[\"2021\",\"Purchase Price\"]]},\"selected\":{\"id\":\"6007\"},\"selection_policy\":{\"id\":\"6030\"}},\"id\":\"6006\",\"type\":\"ColumnDataSource\"},{\"attributes\":{},\"id\":\"5859\",\"type\":\"ResetTool\"},{\"attributes\":{\"data\":{\"Number of Sales\":[52,45,36,36,40,48],\"Number_of_Sales\":[52,45,36,36,40,48],\"Years\":[2016,2017,2018,2019,2020,2021]},\"selected\":{\"id\":\"5938\"},\"selection_policy\":{\"id\":\"5961\"}},\"id\":\"5937\",\"type\":\"ColumnDataSource\"},{\"attributes\":{\"children\":[{\"id\":\"5831\"},{\"id\":\"5832\"}],\"margin\":[0,0,0,0],\"min_width\":1000,\"name\":\"Column11835\",\"width\":1000},\"id\":\"5830\",\"type\":\"Column\"},{\"attributes\":{\"bottom\":{\"value\":0},\"fill_alpha\":{\"value\":1.0},\"fill_color\":{\"field\":\"Variable\",\"transform\":{\"id\":\"6005\"}},\"hatch_alpha\":{\"value\":1.0},\"hatch_color\":{\"field\":\"Variable\",\"transform\":{\"id\":\"6005\"}},\"hatch_scale\":{\"value\":12.0},\"hatch_weight\":{\"value\":1.0},\"line_alpha\":{\"value\":1.0},\"line_cap\":{\"value\":\"butt\"},\"line_color\":{\"value\":\"black\"},\"line_dash\":{\"value\":[]},\"line_dash_offset\":{\"value\":0},\"line_join\":{\"value\":\"bevel\"},\"line_width\":{\"value\":1},\"top\":{\"field\":\"value\"},\"width\":{\"value\":0.8},\"x\":{\"field\":\"xoffsets\"}},\"id\":\"6014\",\"type\":\"VBar\"},{\"attributes\":{},\"id\":\"5961\",\"type\":\"UnionRenderers\"},{\"attributes\":{},\"id\":\"5989\",\"type\":\"BasicTicker\"},{\"attributes\":{\"below\":[{\"id\":\"5847\"}],\"center\":[{\"id\":\"5850\"},{\"id\":\"5854\"}],\"height\":300,\"left\":[{\"id\":\"5851\"}],\"margin\":[5,5,5,5],\"min_border_bottom\":10,\"min_border_left\":10,\"min_border_right\":10,\"min_border_top\":10,\"renderers\":[{\"id\":\"5874\"}],\"sizing_mode\":\"fixed\",\"title\":{\"id\":\"5839\"},\"toolbar\":{\"id\":\"5861\"},\"width\":700,\"x_range\":{\"id\":\"5835\"},\"x_scale\":{\"id\":\"5843\"},\"y_range\":{\"id\":\"5836\"},\"y_scale\":{\"id\":\"5845\"}},\"id\":\"5838\",\"subtype\":\"Figure\",\"type\":\"Plot\"},{\"attributes\":{\"source\":{\"id\":\"5937\"}},\"id\":\"5944\",\"type\":\"CDSView\"},{\"attributes\":{},\"id\":\"5938\",\"type\":\"Selection\"},{\"attributes\":{\"overlay\":{\"id\":\"5860\"}},\"id\":\"5858\",\"type\":\"BoxZoomTool\"},{\"attributes\":{},\"id\":\"6007\",\"type\":\"Selection\"},{\"attributes\":{\"data\":{\"Median Sold Price\":{\"__ndarray__\":\"AAAAANAYIkEAAAAA4LAkQQAAAAAg1iNBAAAAAFBRI0EAAAAA8N0jQQAAAAAgRyZB\",\"dtype\":\"float64\",\"order\":\"little\",\"shape\":[6]},\"Median_Sold_Price\":{\"__ndarray__\":\"AAAAANAYIkEAAAAA4LAkQQAAAAAg1iNBAAAAAFBRI0EAAAAA8N0jQQAAAAAgRyZB\",\"dtype\":\"float64\",\"order\":\"little\",\"shape\":[6]},\"Years\":[2016,2017,2018,2019,2020,2021]},\"selected\":{\"id\":\"5869\"},\"selection_policy\":{\"id\":\"5892\"}},\"id\":\"5868\",\"type\":\"ColumnDataSource\"},{\"attributes\":{\"axis\":{\"id\":\"5851\"},\"coordinates\":null,\"dimension\":1,\"grid_line_color\":null,\"group\":null,\"ticker\":null},\"id\":\"5854\",\"type\":\"Grid\"},{\"attributes\":{\"bottom_units\":\"screen\",\"coordinates\":null,\"fill_alpha\":0.5,\"fill_color\":\"lightgrey\",\"group\":null,\"left_units\":\"screen\",\"level\":\"overlay\",\"line_alpha\":1.0,\"line_color\":\"black\",\"line_dash\":[4,4],\"line_width\":2,\"right_units\":\"screen\",\"syncable\":false,\"top_units\":\"screen\"},\"id\":\"5929\",\"type\":\"BoxAnnotation\"},{\"attributes\":{},\"id\":\"5949\",\"type\":\"AllLabels\"},{\"attributes\":{\"coordinates\":null,\"data_source\":{\"id\":\"5868\"},\"glyph\":{\"id\":\"5871\"},\"group\":null,\"hover_glyph\":null,\"muted_glyph\":{\"id\":\"5873\"},\"nonselection_glyph\":{\"id\":\"5872\"},\"selection_glyph\":{\"id\":\"5876\"},\"view\":{\"id\":\"5875\"}},\"id\":\"5874\",\"type\":\"GlyphRenderer\"},{\"attributes\":{},\"id\":\"5928\",\"type\":\"ResetTool\"},{\"attributes\":{\"overlay\":{\"id\":\"5929\"}},\"id\":\"5927\",\"type\":\"BoxZoomTool\"},{\"attributes\":{},\"id\":\"5992\",\"type\":\"SaveTool\"},{\"attributes\":{\"end\":53.6,\"reset_end\":53.6,\"reset_start\":34.4,\"start\":34.4,\"tags\":[[[\"Number of Sales\",\"Number of Sales\",null]]]},\"id\":\"5905\",\"type\":\"Range1d\"},{\"attributes\":{},\"id\":\"5852\",\"type\":\"BasicTicker\"},{\"attributes\":{\"line_color\":\"#30a2da\",\"line_width\":2,\"x\":{\"field\":\"Years\"},\"y\":{\"field\":\"Number of Sales\"}},\"id\":\"5945\",\"type\":\"Line\"},{\"attributes\":{},\"id\":\"5857\",\"type\":\"WheelZoomTool\"},{\"attributes\":{},\"id\":\"5926\",\"type\":\"WheelZoomTool\"},{\"attributes\":{\"axis_label\":\"Median Sold Price\",\"coordinates\":null,\"formatter\":{\"id\":\"5877\"},\"group\":null,\"major_label_policy\":{\"id\":\"5883\"},\"ticker\":{\"id\":\"5852\"}},\"id\":\"5851\",\"type\":\"LinearAxis\"},{\"attributes\":{\"tools\":[{\"id\":\"5906\"},{\"id\":\"5924\"},{\"id\":\"5925\"},{\"id\":\"5926\"},{\"id\":\"5927\"},{\"id\":\"5928\"}]},\"id\":\"5930\",\"type\":\"Toolbar\"},{\"attributes\":{\"line_alpha\":0.2,\"line_color\":\"#30a2da\",\"line_width\":2,\"x\":{\"field\":\"Years\"},\"y\":{\"field\":\"Median Sold Price\"}},\"id\":\"5873\",\"type\":\"Line\"},{\"attributes\":{\"coordinates\":null,\"group\":null,\"text\":\"Suburb's growth yearly\",\"text_color\":\"black\",\"text_font_size\":\"12pt\"},\"id\":\"5839\",\"type\":\"Title\"},{\"attributes\":{},\"id\":\"5848\",\"type\":\"BasicTicker\"},{\"attributes\":{},\"id\":\"5856\",\"type\":\"PanTool\"},{\"attributes\":{\"format\":\"%.0f\"},\"id\":\"6015\",\"type\":\"PrintfTickFormatter\"},{\"attributes\":{},\"id\":\"5948\",\"type\":\"BasicTickFormatter\"},{\"attributes\":{\"axis_label\":\"Years\",\"coordinates\":null,\"formatter\":{\"id\":\"5879\"},\"group\":null,\"major_label_policy\":{\"id\":\"5880\"},\"ticker\":{\"id\":\"5848\"}},\"id\":\"5847\",\"type\":\"LinearAxis\"},{\"attributes\":{},\"id\":\"5924\",\"type\":\"SaveTool\"},{\"attributes\":{},\"id\":\"6017\",\"type\":\"CategoricalTickFormatter\"},{\"attributes\":{\"fill_alpha\":{\"value\":0.1},\"fill_color\":{\"field\":\"Variable\",\"transform\":{\"id\":\"6005\"}},\"hatch_alpha\":{\"value\":0.1},\"hatch_color\":{\"field\":\"Variable\",\"transform\":{\"id\":\"6005\"}},\"line_alpha\":{\"value\":0.1},\"top\":{\"field\":\"value\"},\"width\":{\"value\":0.8},\"x\":{\"field\":\"xoffsets\"}},\"id\":\"6010\",\"type\":\"VBar\"},{\"attributes\":{},\"id\":\"5843\",\"type\":\"LinearScale\"},{\"attributes\":{\"line_alpha\":0.2,\"line_color\":\"#30a2da\",\"line_width\":2,\"x\":{\"field\":\"Years\"},\"y\":{\"field\":\"Number of Sales\"}},\"id\":\"5942\",\"type\":\"Line\"},{\"attributes\":{\"css_classes\":[\"markdown\"],\"margin\":[5,5,5,5],\"name\":\"Markdown11830\",\"text\":\"&lt;p&gt;This property is a house, with 3 bedrooms&lt;/p&gt;\"},\"id\":\"5833\",\"type\":\"panel.models.markup.HTML\"},{\"attributes\":{\"axis\":{\"id\":\"5847\"},\"coordinates\":null,\"grid_line_color\":null,\"group\":null,\"ticker\":null},\"id\":\"5850\",\"type\":\"Grid\"},{\"attributes\":{},\"id\":\"5981\",\"type\":\"CategoricalScale\"},{\"attributes\":{\"callback\":null,\"renderers\":[{\"id\":\"5874\"}],\"tags\":[\"hv_created\"],\"tooltips\":[[\"Years\",\"@{Years}\"],[\"Median Sold Price\",\"@{Median_Sold_Price}\"]]},\"id\":\"5837\",\"type\":\"HoverTool\"},{\"attributes\":{\"below\":[{\"id\":\"5916\"}],\"center\":[{\"id\":\"5919\"},{\"id\":\"5923\"}],\"height\":300,\"left\":[{\"id\":\"5920\"}],\"margin\":[5,5,5,5],\"min_border_bottom\":10,\"min_border_left\":10,\"min_border_right\":10,\"min_border_top\":10,\"renderers\":[{\"id\":\"5943\"}],\"sizing_mode\":\"fixed\",\"title\":{\"id\":\"5908\"},\"toolbar\":{\"id\":\"5930\"},\"width\":700,\"x_range\":{\"id\":\"5835\"},\"x_scale\":{\"id\":\"5912\"},\"y_range\":{\"id\":\"5905\"},\"y_scale\":{\"id\":\"5914\"}},\"id\":\"5907\",\"subtype\":\"Figure\",\"type\":\"Plot\"},{\"attributes\":{\"coordinates\":null,\"data_source\":{\"id\":\"5937\"},\"glyph\":{\"id\":\"5940\"},\"group\":null,\"hover_glyph\":null,\"muted_glyph\":{\"id\":\"5942\"},\"nonselection_glyph\":{\"id\":\"5941\"},\"selection_glyph\":{\"id\":\"5945\"},\"view\":{\"id\":\"5944\"}},\"id\":\"5943\",\"type\":\"GlyphRenderer\"},{\"attributes\":{\"bottom_units\":\"screen\",\"coordinates\":null,\"fill_alpha\":0.5,\"fill_color\":\"lightgrey\",\"group\":null,\"left_units\":\"screen\",\"level\":\"overlay\",\"line_alpha\":1.0,\"line_color\":\"black\",\"line_dash\":[4,4],\"line_width\":2,\"right_units\":\"screen\",\"syncable\":false,\"top_units\":\"screen\"},\"id\":\"5997\",\"type\":\"BoxAnnotation\"},{\"attributes\":{},\"id\":\"5845\",\"type\":\"LinearScale\"},{\"attributes\":{},\"id\":\"5917\",\"type\":\"BasicTicker\"},{\"attributes\":{\"overlay\":{\"id\":\"5997\"}},\"id\":\"5995\",\"type\":\"BoxZoomTool\"},{\"attributes\":{\"children\":[{\"id\":\"5838\"},{\"id\":\"5907\"},{\"id\":\"5976\"}],\"margin\":[0,0,0,0],\"name\":\"Row11829\"},\"id\":\"5834\",\"type\":\"Row\"},{\"attributes\":{\"axis\":{\"id\":\"5916\"},\"coordinates\":null,\"grid_line_color\":null,\"group\":null,\"ticker\":null},\"id\":\"5919\",\"type\":\"Grid\"},{\"attributes\":{\"callback\":null,\"renderers\":[{\"id\":\"6012\"}],\"tags\":[\"hv_created\"],\"tooltips\":[[\"Years\",\"@{Years}\"],[\"Variable\",\"@{Variable}\"],[\"value\",\"@{value}\"]]},\"id\":\"5975\",\"type\":\"HoverTool\"},{\"attributes\":{\"line_color\":\"#30a2da\",\"line_width\":2,\"x\":{\"field\":\"Years\"},\"y\":{\"field\":\"Median Sold Price\"}},\"id\":\"5876\",\"type\":\"Line\"},{\"attributes\":{\"source\":{\"id\":\"5868\"}},\"id\":\"5875\",\"type\":\"CDSView\"},{\"attributes\":{\"line_color\":\"#30a2da\",\"line_width\":2,\"x\":{\"field\":\"Years\"},\"y\":{\"field\":\"Median Sold Price\"}},\"id\":\"5871\",\"type\":\"Line\"},{\"attributes\":{},\"id\":\"5921\",\"type\":\"BasicTicker\"},{\"attributes\":{\"below\":[{\"id\":\"5985\"}],\"center\":[{\"id\":\"5987\"},{\"id\":\"5991\"}],\"height\":300,\"left\":[{\"id\":\"5988\"}],\"margin\":[5,5,5,5],\"min_border_bottom\":10,\"min_border_left\":10,\"min_border_right\":10,\"min_border_top\":10,\"renderers\":[{\"id\":\"6012\"}],\"sizing_mode\":\"fixed\",\"title\":{\"id\":\"5977\"},\"toolbar\":{\"id\":\"5998\"},\"width\":700,\"x_range\":{\"id\":\"5973\"},\"x_scale\":{\"id\":\"5981\"},\"y_range\":{\"id\":\"5974\"},\"y_scale\":{\"id\":\"5983\"}},\"id\":\"5976\",\"subtype\":\"Figure\",\"type\":\"Plot\"},{\"attributes\":{\"axis_label\":\"Years\",\"coordinates\":null,\"formatter\":{\"id\":\"5948\"},\"group\":null,\"major_label_policy\":{\"id\":\"5949\"},\"ticker\":{\"id\":\"5917\"}},\"id\":\"5916\",\"type\":\"LinearAxis\"},{\"attributes\":{},\"id\":\"5983\",\"type\":\"LinearScale\"},{\"attributes\":{},\"id\":\"6018\",\"type\":\"AllLabels\"},{\"attributes\":{\"axis_label\":\"\",\"coordinates\":null,\"formatter\":{\"id\":\"6015\"},\"group\":null,\"major_label_policy\":{\"id\":\"6021\"},\"ticker\":{\"id\":\"5989\"}},\"id\":\"5988\",\"type\":\"LinearAxis\"},{\"attributes\":{\"factors\":[\"Median Sold Price\",\"Purchase Price\"],\"palette\":[\"#30a2da\",\"#fc4f30\"]},\"id\":\"6005\",\"type\":\"CategoricalColorMapper\"},{\"attributes\":{\"client_comm_id\":\"fc7bee68e7ab4ffa85a52811796ba19b\",\"comm_id\":\"e8344b1b6f8d431a8540366937df45b1\",\"plot_id\":\"5830\"},\"id\":\"6123\",\"type\":\"panel.models.comm_manager.CommManager\"},{\"attributes\":{},\"id\":\"5994\",\"type\":\"WheelZoomTool\"},{\"attributes\":{\"coordinates\":null,\"group\":null,\"text\":\"Purchase Price vs Median Sold Price\",\"text_color\":\"black\",\"text_font_size\":\"12pt\"},\"id\":\"5977\",\"type\":\"Title\"},{\"attributes\":{},\"id\":\"5869\",\"type\":\"Selection\"},{\"attributes\":{\"end\":743700.0,\"reset_end\":743700.0,\"reset_start\":0.0,\"tags\":[[[\"value\",\"value\",null]]]},\"id\":\"5974\",\"type\":\"Range1d\"},{\"attributes\":{\"axis_label\":\"Number of Sales\",\"coordinates\":null,\"formatter\":{\"id\":\"5946\"},\"group\":null,\"major_label_policy\":{\"id\":\"5952\"},\"ticker\":{\"id\":\"5921\"}},\"id\":\"5920\",\"type\":\"LinearAxis\"},{\"attributes\":{\"line_color\":\"#30a2da\",\"line_width\":2,\"x\":{\"field\":\"Years\"},\"y\":{\"field\":\"Number of Sales\"}},\"id\":\"5940\",\"type\":\"Line\"},{\"attributes\":{\"axis\":{\"id\":\"5985\"},\"coordinates\":null,\"grid_line_color\":null,\"group\":null,\"ticker\":null},\"id\":\"5987\",\"type\":\"Grid\"},{\"attributes\":{},\"id\":\"5914\",\"type\":\"LinearScale\"},{\"attributes\":{\"line_alpha\":0.1,\"line_color\":\"#30a2da\",\"line_width\":2,\"x\":{\"field\":\"Years\"},\"y\":{\"field\":\"Median Sold Price\"}},\"id\":\"5872\",\"type\":\"Line\"},{\"attributes\":{\"axis\":{\"id\":\"5920\"},\"coordinates\":null,\"dimension\":1,\"grid_line_color\":null,\"group\":null,\"ticker\":null},\"id\":\"5923\",\"type\":\"Grid\"},{\"attributes\":{},\"id\":\"5993\",\"type\":\"PanTool\"},{\"attributes\":{\"callback\":null,\"renderers\":[{\"id\":\"5943\"}],\"tags\":[\"hv_created\"],\"tooltips\":[[\"Years\",\"@{Years}\"],[\"Number of Sales\",\"@{Number_of_Sales}\"]]},\"id\":\"5906\",\"type\":\"HoverTool\"},{\"attributes\":{\"factors\":[[\"2016\",\"Median Sold Price\"],[\"2016\",\"Purchase Price\"],[\"2017\",\"Median Sold Price\"],[\"2017\",\"Purchase Price\"],[\"2018\",\"Median Sold Price\"],[\"2018\",\"Purchase Price\"],[\"2019\",\"Median Sold Price\"],[\"2019\",\"Purchase Price\"],[\"2020\",\"Median Sold Price\"],[\"2020\",\"Purchase Price\"],[\"2021\",\"Median Sold Price\"],[\"2021\",\"Purchase Price\"]],\"tags\":[[[\"Years\",\"Years\",null],[\"Variable\",\"Variable\",null]]]},\"id\":\"5973\",\"type\":\"FactorRange\"},{\"attributes\":{},\"id\":\"5952\",\"type\":\"AllLabels\"},{\"attributes\":{},\"id\":\"6021\",\"type\":\"AllLabels\"},{\"attributes\":{\"bottom_units\":\"screen\",\"coordinates\":null,\"fill_alpha\":0.5,\"fill_color\":\"lightgrey\",\"group\":null,\"left_units\":\"screen\",\"level\":\"overlay\",\"line_alpha\":1.0,\"line_color\":\"black\",\"line_dash\":[4,4],\"line_width\":2,\"right_units\":\"screen\",\"syncable\":false,\"top_units\":\"screen\"},\"id\":\"5860\",\"type\":\"BoxAnnotation\"},{\"attributes\":{\"css_classes\":[\"markdown\"],\"margin\":[5,5,5,5],\"name\":\"Markdown11833\",\"text\":\"&lt;p&gt;Showing data for the following address:  &lt;br /&gt; 20 Winten Drive, Glendenning NSW 2761&lt;/p&gt;\"},\"id\":\"5831\",\"type\":\"panel.models.markup.HTML\"},{\"attributes\":{\"source\":{\"id\":\"6006\"}},\"id\":\"6013\",\"type\":\"CDSView\"},{\"attributes\":{\"axis\":{\"id\":\"5988\"},\"coordinates\":null,\"dimension\":1,\"grid_line_color\":null,\"group\":null,\"ticker\":null},\"id\":\"5991\",\"type\":\"Grid\"},{\"attributes\":{\"line_alpha\":0.1,\"line_color\":\"#30a2da\",\"line_width\":2,\"x\":{\"field\":\"Years\"},\"y\":{\"field\":\"Number of Sales\"}},\"id\":\"5941\",\"type\":\"Line\"},{\"attributes\":{\"tools\":[{\"id\":\"5975\"},{\"id\":\"5992\"},{\"id\":\"5993\"},{\"id\":\"5994\"},{\"id\":\"5995\"},{\"id\":\"5996\"}]},\"id\":\"5998\",\"type\":\"Toolbar\"},{\"attributes\":{\"tools\":[{\"id\":\"5837\"},{\"id\":\"5855\"},{\"id\":\"5856\"},{\"id\":\"5857\"},{\"id\":\"5858\"},{\"id\":\"5859\"}]},\"id\":\"5861\",\"type\":\"Toolbar\"},{\"attributes\":{},\"id\":\"5912\",\"type\":\"LinearScale\"},{\"attributes\":{},\"id\":\"5883\",\"type\":\"AllLabels\"},{\"attributes\":{},\"id\":\"5996\",\"type\":\"ResetTool\"},{\"attributes\":{\"coordinates\":null,\"group\":null,\"text\":\"Suburb's growth yearly\",\"text_color\":\"black\",\"text_font_size\":\"12pt\"},\"id\":\"5908\",\"type\":\"Title\"},{\"attributes\":{},\"id\":\"5880\",\"type\":\"AllLabels\"},{\"attributes\":{\"fill_alpha\":{\"value\":0.2},\"fill_color\":{\"field\":\"Variable\",\"transform\":{\"id\":\"6005\"}},\"hatch_alpha\":{\"value\":0.2},\"hatch_color\":{\"field\":\"Variable\",\"transform\":{\"id\":\"6005\"}},\"line_alpha\":{\"value\":0.2},\"top\":{\"field\":\"value\"},\"width\":{\"value\":0.8},\"x\":{\"field\":\"xoffsets\"}},\"id\":\"6011\",\"type\":\"VBar\"},{\"attributes\":{},\"id\":\"5892\",\"type\":\"UnionRenderers\"},{\"attributes\":{\"end\":2021.0,\"reset_end\":2021.0,\"reset_start\":2016.0,\"start\":2016.0,\"tags\":[[[\"Years\",\"Years\",null]]]},\"id\":\"5835\",\"type\":\"Range1d\"},{\"attributes\":{\"coordinates\":null,\"data_source\":{\"id\":\"6006\"},\"glyph\":{\"id\":\"6009\"},\"group\":null,\"hover_glyph\":null,\"muted_glyph\":{\"id\":\"6011\"},\"nonselection_glyph\":{\"id\":\"6010\"},\"selection_glyph\":{\"id\":\"6014\"},\"view\":{\"id\":\"6013\"}},\"id\":\"6012\",\"type\":\"GlyphRenderer\"},{\"attributes\":{\"fill_color\":{\"field\":\"Variable\",\"transform\":{\"id\":\"6005\"}},\"hatch_color\":{\"field\":\"Variable\",\"transform\":{\"id\":\"6005\"}},\"top\":{\"field\":\"value\"},\"width\":{\"value\":0.8},\"x\":{\"field\":\"xoffsets\"}},\"id\":\"6009\",\"type\":\"VBar\"},{\"attributes\":{},\"id\":\"5879\",\"type\":\"BasicTickFormatter\"},{\"attributes\":{},\"id\":\"6030\",\"type\":\"UnionRenderers\"},{\"attributes\":{\"axis_label\":\"Years, Variable\",\"coordinates\":null,\"formatter\":{\"id\":\"6017\"},\"group\":null,\"major_label_policy\":{\"id\":\"6018\"},\"ticker\":{\"id\":\"5986\"}},\"id\":\"5985\",\"type\":\"CategoricalAxis\"},{\"attributes\":{\"format\":\"%.0f\"},\"id\":\"5877\",\"type\":\"PrintfTickFormatter\"},{\"attributes\":{\"format\":\"%.0f\"},\"id\":\"5946\",\"type\":\"PrintfTickFormatter\"}],\"root_ids\":[\"5830\",\"6123\"]},\"title\":\"Bokeh Application\",\"version\":\"2.4.2\"}};\n",
       "    var render_items = [{\"docid\":\"bd88d134-03ab-4485-bf08-e314e2b8c14e\",\"root_ids\":[\"5830\"],\"roots\":{\"5830\":\"b3845179-0607-47aa-97bb-a302e5bb7b3e\"}}];\n",
       "    root.Bokeh.embed.embed_items_notebook(docs_json, render_items);\n",
       "  }\n",
       "  if (root.Bokeh !== undefined && root.Bokeh.Panel !== undefined) {\n",
       "    embed_document(root);\n",
       "  } else {\n",
       "    var attempts = 0;\n",
       "    var timer = setInterval(function(root) {\n",
       "      if (root.Bokeh !== undefined && root.Bokeh.Panel !== undefined) {\n",
       "        clearInterval(timer);\n",
       "        embed_document(root);\n",
       "      } else if (document.readyState == \"complete\") {\n",
       "        attempts++;\n",
       "        if (attempts > 200) {\n",
       "          clearInterval(timer);\n",
       "          console.log(\"Bokeh: ERROR: Unable to run BokehJS code because BokehJS library is missing\");\n",
       "        }\n",
       "      }\n",
       "    }, 25, root)\n",
       "  }\n",
       "})(window);</script>"
      ],
      "text/plain": [
       "Column(width=1000)\n",
       "    [0] Markdown(str)\n",
       "    [1] Column\n",
       "        [0] Markdown(str)\n",
       "        [1] Row\n",
       "            [0] HoloViews(Curve)\n",
       "            [1] HoloViews(Curve)\n",
       "            [2] HoloViews(Bars)"
      ]
     },
     "execution_count": 168,
     "metadata": {
      "application/vnd.holoviews_exec.v0+json": {
       "id": "5830"
      }
     },
     "output_type": "execute_result"
    }
   ],
   "source": [
    "property_top_level(\"20 Winten Drive Glendenning\", \"650000\")"
   ]
  },
  {
   "cell_type": "code",
   "execution_count": null,
   "id": "41135f84",
   "metadata": {},
   "outputs": [],
   "source": []
  },
  {
   "cell_type": "code",
   "execution_count": null,
   "id": "4ccb5d04",
   "metadata": {},
   "outputs": [],
   "source": []
  },
  {
   "cell_type": "code",
   "execution_count": null,
   "id": "65d400d9",
   "metadata": {},
   "outputs": [],
   "source": []
  }
 ],
 "metadata": {
  "kernelspec": {
   "display_name": "Python [conda env:pyvizenv] *",
   "language": "python",
   "name": "conda-env-pyvizenv-py"
  },
  "language_info": {
   "codemirror_mode": {
    "name": "ipython",
    "version": 3
   },
   "file_extension": ".py",
   "mimetype": "text/x-python",
   "name": "python",
   "nbconvert_exporter": "python",
   "pygments_lexer": "ipython3",
   "version": "3.7.11"
  }
 },
 "nbformat": 4,
 "nbformat_minor": 5
}
