{
 "cells": [
  {
   "cell_type": "code",
   "execution_count": 153,
   "id": "d07ca663",
   "metadata": {},
   "outputs": [],
   "source": [
    "# Initialisation\n",
    "import os\n",
    "import io\n",
    "import requests\n",
    "import json\n",
    "import pandas as pd\n",
    "import urllib.parse as url\n",
    "import alpaca_trade_api as tradeapi\n",
    "#import matplotlib.pyplot as plt\n",
    "from dotenv import load_dotenv"
   ]
  },
  {
   "cell_type": "code",
   "execution_count": 154,
   "id": "ee8e2a43",
   "metadata": {},
   "outputs": [],
   "source": [
    "# Initialised\n",
    "import panel as pn\n",
    "from panel.interact import interact\n",
    "from panel import widgets\n",
    "pn.extension()"
   ]
  },
  {
   "cell_type": "code",
   "execution_count": 155,
   "id": "65bf87b5",
   "metadata": {},
   "outputs": [],
   "source": [
    "import hvplot.pandas"
   ]
  },
  {
   "cell_type": "code",
   "execution_count": 156,
   "id": "dd3b067b",
   "metadata": {},
   "outputs": [],
   "source": [
    "load_dotenv()\n",
    "api_key = os.getenv(\"DOMAIN_API_KEY\")\n",
    "# Set Alpaca API key and secret\n",
    "alpaca_api_key = os.getenv(\"ALPACA_API_KEY\")\n",
    "alpaca_secret_key = os.getenv(\"ALPACA_SECRET_KEY\")\n",
    "\n",
    "# Create the Alpaca API object\n",
    "alpaca_api = tradeapi.REST(\n",
    "    alpaca_api_key,\n",
    "    alpaca_secret_key,\n",
    "    api_version = \"v2\"\n",
    ")"
   ]
  },
  {
   "cell_type": "code",
   "execution_count": 157,
   "id": "831328ba",
   "metadata": {},
   "outputs": [],
   "source": [
    "#%matplotlib inline"
   ]
  },
  {
   "cell_type": "code",
   "execution_count": 158,
   "id": "3dc2edfc",
   "metadata": {},
   "outputs": [],
   "source": [
    "title = \"All In One Portfolio Summary and Analysis\""
   ]
  },
  {
   "cell_type": "code",
   "execution_count": 159,
   "id": "0ae8f8ee",
   "metadata": {},
   "outputs": [],
   "source": [
    "# REQUEST CALL DOMAIN.COM.AU: This api call will, given a string, finds the property address that closest matches the string\n",
    "# and returns the address in full as a string, each address components in its own string, and a unique ID for the given address.\n",
    "# We will return all this data in a df\n",
    "def address_suggest(address):\n",
    "    if not address:\n",
    "        return\n",
    "    address_url = url.quote(address)\n",
    "    request_url = f\"https://api.domain.com.au/v1/properties/_suggest?terms={address_url}&pageSize=1&api_key={api_key}\"\n",
    "    get_request = requests.get(request_url)\n",
    "\n",
    "    # Data formatting\n",
    "    data = get_request.json()\n",
    "    # Extract data\n",
    "    full_address = data[0][\"address\"]\n",
    "    address_data = data[0][\"addressComponents\"]\n",
    "    location_id = data[0][\"id\"]\n",
    "    \n",
    "    \n",
    "    # Address_data is already a dict so we need to combine everything with update\n",
    "    all_data = {\n",
    "        \"full_address\": full_address,\n",
    "        \"id\": location_id\n",
    "    }\n",
    "    all_data.update(address_data)\n",
    "    # Put data into df\n",
    "    # Df will have a single row. All data in their own columns with their own names\n",
    "    address_df = pd.DataFrame([all_data])\n",
    "    return address_df"
   ]
  },
  {
   "cell_type": "code",
   "execution_count": 160,
   "id": "b734f545",
   "metadata": {},
   "outputs": [],
   "source": [
    "# Address locators: this request will return a unique identifier for the following address levels:\n",
    "# Address, street, suburb, postcode\n",
    "\n",
    "def address_locators(address_df, level, building_type):\n",
    "    if building_type == \"unit\":\n",
    "        unit = address_df.iloc[0][\"unitNumber\"]\n",
    "    else:\n",
    "        unit = None\n",
    "    street_num = address_df.iloc[0][\"streetNumber\"]\n",
    "    street_name = address_df.iloc[0][\"streetName\"]\n",
    "    street_type = address_df.iloc[0][\"streetType\"]\n",
    "    suburb = address_df.iloc[0][\"suburb\"]\n",
    "    post_code = address_df.iloc[0][\"postCode\"]\n",
    "    state = address_df.iloc[0][\"state\"]\n",
    "    \n",
    "    # Check if building is actually a unit\n",
    "    if building_type == \"unit\":\n",
    "        request_url = f\"https://api.domain.com.au/v1/addressLocators?searchLevel={level}&unitNumber={unit}&streetNumber={street_num}&streetName={street_name}&streetType={street_type}&suburb={suburb}&state={state}&postcode={post_code}&api_key={api_key}\"\n",
    "\n",
    "    else:\n",
    "        request_url = f\"https://api.domain.com.au/v1/addressLocators?searchLevel={level}&streetNumber={street_num}&streetName={street_name}&streetType={street_type}&suburb={suburb}&state={state}&postcode={post_code}&api_key={api_key}\"\n",
    "\n",
    "\n",
    "    get_request = requests.get(request_url)\n",
    "\n",
    "    # Data formatting\n",
    "    data = get_request.json()\n",
    "    combined_id_data = {}\n",
    "    for loc_id in data[0][\"ids\"]:\n",
    "        combined_id_data.update({loc_id[\"level\"]+\" id\": loc_id[\"id\"]})\n",
    "    \n",
    "    id_df = pd.DataFrame([combined_id_data])\n",
    "    \n",
    "    return id_df"
   ]
  },
  {
   "cell_type": "code",
   "execution_count": 161,
   "id": "268ea8d3",
   "metadata": {},
   "outputs": [],
   "source": [
    "# Properties: Using a given property id provided by _suggest, this request gives an info dump on the characteristics of the property\n",
    "# For now just returning all data since I do not know exactly what data is required\n",
    "def properties(prop_id):\n",
    "    request_url = f\"https://api.domain.com.au/v1/properties/{prop_id}?api_key={api_key}\"\n",
    "    get_request = requests.get(request_url)\n",
    "    data = get_request.json()\n",
    "    return data"
   ]
  },
  {
   "cell_type": "code",
   "execution_count": 162,
   "id": "93713513",
   "metadata": {},
   "outputs": [],
   "source": [
    "# Location profiles: this request gives an info dump of a given location based on the suburb id given. \n",
    "# ID must come from Address Locator request\n",
    "def location_profiles(suburb_id):\n",
    "    request_url = f\"https://api.domain.com.au/v1/locations/profiles/{suburb_id}?api_key={api_key}\"\n",
    "    get_request = requests.get(request_url)\n",
    "    data = get_request.json()\n",
    "    return data"
   ]
  },
  {
   "cell_type": "code",
   "execution_count": 163,
   "id": "20c848c5",
   "metadata": {},
   "outputs": [
    {
     "data": {
      "text/plain": [
       "'# Line chart code from previous homework\\ndef create_line_chart(data, title, xlabel, ylabel):\\n    return data.hvplot.line(\\n        title=title, \\n        xlabel=xlabel, \\n        ylabel=ylabel\\n    ).opts(\\n        # Format Y to not use scientific notation and increase width so the chart doesn\\'t look squished \\n        yformatter=\"%.0f\",\\n        frame_width = 500\\n    )'"
      ]
     },
     "execution_count": 163,
     "metadata": {},
     "output_type": "execute_result"
    }
   ],
   "source": [
    "\"\"\"# Line chart code from previous homework\n",
    "def create_line_chart(data, title, xlabel, ylabel):\n",
    "    return data.hvplot.line(\n",
    "        title=title, \n",
    "        xlabel=xlabel, \n",
    "        ylabel=ylabel\n",
    "    ).opts(\n",
    "        # Format Y to not use scientific notation and increase width so the chart doesn't look squished \n",
    "        yformatter=\"%.0f\",\n",
    "        frame_width = 500\n",
    "    )\"\"\""
   ]
  },
  {
   "cell_type": "code",
   "execution_count": 164,
   "id": "11b04dc5",
   "metadata": {},
   "outputs": [],
   "source": [
    "def suburb_price_chart(growth_df):\n",
    "    return growth_df.hvplot.line(\n",
    "        title = \"Suburb's growth yearly\",\n",
    "        x = \"Years\",\n",
    "        y = \"Median Sold Price\",\n",
    "    ).opts(\n",
    "        yformatter=\"%.0f\"\n",
    "    )"
   ]
  },
  {
   "cell_type": "code",
   "execution_count": 165,
   "id": "f5d99888",
   "metadata": {},
   "outputs": [],
   "source": [
    "def suburb_sale_chart(growth_df):\n",
    "    print(growth_df[\"Years\"])\n",
    "    return growth_df.hvplot.line(\n",
    "        title = \"Suburb's growth yearly\",\n",
    "        x = \"Years\",\n",
    "        y = \"Number of Sales\",\n",
    "    ).opts(\n",
    "        yformatter=\"%.0f\"\n",
    "    )"
   ]
  },
  {
   "cell_type": "code",
   "execution_count": 166,
   "id": "4d2cd3e1",
   "metadata": {},
   "outputs": [],
   "source": [
    "def purchase_vs_median(growth_df):\n",
    "    return growth_df.hvplot.bar(\n",
    "        title = \"Purchase Price vs Median Sold Price\",\n",
    "        x = [\"Purchase Price\",\"Median Sold Price\"],\n",
    "        y = \"Median Sold Price\",\n",
    "    ).opts(\n",
    "        yformatter=\"%.0f\"\n",
    "    )"
   ]
  },
  {
   "cell_type": "code",
   "execution_count": 167,
   "id": "41a99e42",
   "metadata": {},
   "outputs": [],
   "source": [
    "# Top level of property section will do api calls on _suggest and address-locators, determine if property is a unit\n",
    "# and will produce an info dump on the selected property\n",
    "def property_top_level(address):\n",
    "    if not address:\n",
    "        return\n",
    "    address_df = address_suggest(address)\n",
    "    full_address = address_df.iloc[0][\"full_address\"]\n",
    "    address_string = f\"Showing data for the following address:  <br /> {full_address}\"\n",
    "    \n",
    "    # Create a flag here on top level to indicate if property is a unit\n",
    "    # unit number wont be a column in address_df if the property isn't a unit to begin with\n",
    "    if address_df.iloc[0][\"unitNumber\"]:\n",
    "        building_type = \"unit\"\n",
    "    else:\n",
    "        building_type = \"house\"\n",
    "       \n",
    "    # Get ids of address componenets\n",
    "    id_df = address_locators(address_df, \"address\", building_type)\n",
    "    \n",
    "    # Get information on property. Need to know how many bedrooms property has\n",
    "    property_data = properties(address_df.iloc[0][\"id\"])\n",
    "    bedrooms = property_data[\"bedrooms\"]\n",
    "    info_string = f\"This property is a {building_type}, with {bedrooms} bedrooms\"\n",
    "    \n",
    "    # Get suburbs location profile\n",
    "    location_data = location_profiles(id_df.iloc[0][\"Suburb id\"])\n",
    "    categorised_location_data = location_data[\"data\"][\"propertyCategories\"]\n",
    "    \n",
    "    # Single out the property type by building type and bedroom count\n",
    "    for property_type in categorised_location_data:\n",
    "        if property_type[\"bedrooms\"] == bedrooms and property_type[\"propertyCategory\"].lower() == building_type:\n",
    "            specified_location_data = property_type\n",
    "    \n",
    "    # Code here uses specified location data for analysis\n",
    "    growth_years = []\n",
    "    growth_price = []\n",
    "    growth_sales = []\n",
    "    purchase_price = []\n",
    "    for entry in specified_location_data[\"salesGrowthList\"]:\n",
    "        growth_years.append(entry[\"year\"])\n",
    "        growth_price.append(entry[\"medianSoldPrice\"])\n",
    "        growth_sales.append(entry[\"numberSold\"])\n",
    "#        purchase_price.append(entry[\"price\"])\n",
    "    \n",
    "    growth_data = {\"Years\": growth_years,\n",
    "                  \"Median Sold Price\": growth_price,\n",
    "                  \"Number of Sales\": growth_sales,\n",
    "                  \"Purchase Price\" :purchase_price}\n",
    "    \n",
    "    growth_df = pd.DataFrame(growth_data)\n",
    "    #growth_df.set_index(\"Years\", inplace=True)\n",
    "    \n",
    "    suburb_data_row = pn.Row(suburb_price_chart(growth_df), suburb_sale_chart(growth_df), purchase_vs_median(growth_df))\n",
    "    \n",
    "    test_column = pn.Column(info_string, suburb_data_row)\n",
    "    \n",
    "    \n",
    "    return pn.Column(address_string, test_column, width = 1000)"
   ]
  },
  {
   "cell_type": "code",
   "execution_count": 168,
   "id": "89f43c07",
   "metadata": {},
   "outputs": [],
   "source": [
    "@interact(x=[2,3,4], y=['a','b','c'])\n",
    "def func(x,y):\n",
    "    #print(x,y)\n",
    "    return pn.Row(x,y)"
   ]
  },
  {
   "cell_type": "code",
   "execution_count": 169,
   "id": "2e1a3f41",
   "metadata": {},
   "outputs": [
    {
     "data": {},
     "metadata": {},
     "output_type": "display_data"
    },
    {
     "data": {
      "application/vnd.holoviews_exec.v0+json": "",
      "text/html": [
       "<div id='4452'>\n",
       "\n",
       "\n",
       "\n",
       "\n",
       "\n",
       "  <div class=\"bk-root\" id=\"0874c4b7-3e78-4d04-b3a8-8643ff375d71\" data-root-id=\"4452\"></div>\n",
       "</div>\n",
       "<script type=\"application/javascript\">(function(root) {\n",
       "  function embed_document(root) {\n",
       "    var docs_json = {\"4d76f104-209a-40db-88b5-6691b719038d\":{\"defs\":[{\"extends\":null,\"module\":null,\"name\":\"ReactiveHTML1\",\"overrides\":[],\"properties\":[]},{\"extends\":null,\"module\":null,\"name\":\"FlexBox1\",\"overrides\":[],\"properties\":[{\"default\":\"flex-start\",\"kind\":null,\"name\":\"align_content\"},{\"default\":\"flex-start\",\"kind\":null,\"name\":\"align_items\"},{\"default\":\"row\",\"kind\":null,\"name\":\"flex_direction\"},{\"default\":\"wrap\",\"kind\":null,\"name\":\"flex_wrap\"},{\"default\":\"flex-start\",\"kind\":null,\"name\":\"justify_content\"}]},{\"extends\":null,\"module\":null,\"name\":\"TemplateActions1\",\"overrides\":[],\"properties\":[{\"default\":0,\"kind\":null,\"name\":\"open_modal\"},{\"default\":0,\"kind\":null,\"name\":\"close_modal\"}]},{\"extends\":null,\"module\":null,\"name\":\"MaterialTemplateActions1\",\"overrides\":[],\"properties\":[{\"default\":0,\"kind\":null,\"name\":\"open_modal\"},{\"default\":0,\"kind\":null,\"name\":\"close_modal\"}]}],\"roots\":{\"references\":[{\"attributes\":{\"children\":[{\"id\":\"4454\"}],\"margin\":[0,0,0,0],\"name\":\"Column05573\"},\"id\":\"4453\",\"type\":\"Column\"},{\"attributes\":{\"css_classes\":[\"markdown\"],\"margin\":[5,5,5,5],\"name\":\"interactive05568\"},\"id\":\"4456\",\"type\":\"panel.models.markup.HTML\"},{\"attributes\":{\"children\":[{\"id\":\"4456\"}],\"margin\":[0,0,0,0],\"name\":\"Row05572\"},\"id\":\"4455\",\"type\":\"Row\"},{\"attributes\":{\"reload\":false},\"id\":\"4458\",\"type\":\"panel.models.location.Location\"},{\"attributes\":{\"margin\":[5,10,5,10],\"max_length\":5000,\"placeholder\":\"Please enter your address here\",\"title\":\"Your Address\"},\"id\":\"4454\",\"type\":\"TextInput\"},{\"attributes\":{\"children\":[{\"id\":\"4453\"},{\"id\":\"4455\"}],\"margin\":[0,0,0,0],\"name\":\"Column05569\"},\"id\":\"4452\",\"type\":\"Column\"},{\"attributes\":{\"client_comm_id\":\"15e7fdf62c874ae583cea741025266da\",\"comm_id\":\"a84e315a80e34f7b9196618b6ebb6a2e\",\"plot_id\":\"4452\"},\"id\":\"4457\",\"type\":\"panel.models.comm_manager.CommManager\"}],\"root_ids\":[\"4452\",\"4457\",\"4458\"]},\"title\":\"Bokeh Application\",\"version\":\"2.4.2\"}};\n",
       "    var render_items = [{\"docid\":\"4d76f104-209a-40db-88b5-6691b719038d\",\"root_ids\":[\"4452\"],\"roots\":{\"4452\":\"0874c4b7-3e78-4d04-b3a8-8643ff375d71\"}}];\n",
       "    root.Bokeh.embed.embed_items_notebook(docs_json, render_items);\n",
       "  }\n",
       "  if (root.Bokeh !== undefined && root.Bokeh.Panel !== undefined) {\n",
       "    embed_document(root);\n",
       "  } else {\n",
       "    var attempts = 0;\n",
       "    var timer = setInterval(function(root) {\n",
       "      if (root.Bokeh !== undefined && root.Bokeh.Panel !== undefined) {\n",
       "        clearInterval(timer);\n",
       "        embed_document(root);\n",
       "      } else if (document.readyState == \"complete\") {\n",
       "        attempts++;\n",
       "        if (attempts > 200) {\n",
       "          clearInterval(timer);\n",
       "          console.log(\"Bokeh: ERROR: Unable to run BokehJS code because BokehJS library is missing\");\n",
       "        }\n",
       "      }\n",
       "    }, 25, root)\n",
       "  }\n",
       "})(window);</script>"
      ],
      "text/plain": [
       "Column\n",
       "    [0] Column\n",
       "        [0] TextInput(name='Your Address', placeholder='Please enter y...)\n",
       "    [1] Row\n",
       "        [0] Markdown(str, name='interactive05568')"
      ]
     },
     "execution_count": 169,
     "metadata": {
      "application/vnd.holoviews_exec.v0+json": {
       "id": "4452"
      }
     },
     "output_type": "execute_result"
    }
   ],
   "source": [
    "@interact(x=widgets.TextInput(name=\"Your Address\", placeholder=\"Please enter your address here\"))#, y=widgets.TextInput(name=\"Your Address\", placeholder=\"Please enter your address here\"))\n",
    "def myfunc(x):\n",
    "    return x\n",
    "myfunc"
   ]
  },
  {
   "cell_type": "code",
   "execution_count": 170,
   "id": "83e1c1bd",
   "metadata": {},
   "outputs": [
    {
     "data": {
      "text/plain": [
       "0"
      ]
     },
     "execution_count": 170,
     "metadata": {},
     "output_type": "execute_result"
    }
   ],
   "source": [
    "count = 0\n",
    "count"
   ]
  },
  {
   "cell_type": "code",
   "execution_count": 171,
   "id": "80aa341b",
   "metadata": {},
   "outputs": [],
   "source": [
    "def stock_top_level(stocks):\n",
    "    if stocks is None:\n",
    "        return\n",
    "    stock_df = pd.read_csv(io.BytesIO(stocks), index_col=\"symbol\", infer_datetime_format=True)\n",
    "    stock_df[\"date\"] = pd.to_datetime(stock_df[\"date\"], infer_datetime_format=True)\n",
    "    user_symbols = stock_df.index.tolist()\n",
    "    start_date = stock_df[\"date\"].tolist()\n",
    "    start_date.sort()\n",
    "    start_date = start_date[0]\n",
    "    \n",
    "    market_data_df = alpaca_api.get_barset(\n",
    "        user_symbols,\n",
    "        \"1D\",\n",
    "        end = start_date,\n",
    "        limit = 1000\n",
    "    ).df\n",
    "        \n",
    "    return pn.Pane(market_data_df)"
   ]
  },
  {
   "cell_type": "code",
   "execution_count": 175,
   "id": "8fef8bd4",
   "metadata": {},
   "outputs": [
    {
     "data": {
      "text/html": [
       "\n",
       "<pre>Traceback (most recent call last):\n",
       "  File &quot;/opt/anaconda3/envs/pyvizenv/lib/python3.7/site-packages/pyviz_comms/__init__.py&quot;, line 325, in _handle_msg\n",
       "    self._on_msg(msg)\n",
       "  File &quot;/opt/anaconda3/envs/pyvizenv/lib/python3.7/site-packages/panel/viewable.py&quot;, line 273, in _on_msg\n",
       "    doc.unhold()\n",
       "  File &quot;/opt/anaconda3/envs/pyvizenv/lib/python3.7/site-packages/bokeh/document/document.py&quot;, line 799, in unhold\n",
       "    self.callbacks.unhold()\n",
       "  File &quot;/opt/anaconda3/envs/pyvizenv/lib/python3.7/site-packages/bokeh/document/callbacks.py&quot;, line 396, in unhold\n",
       "    self.trigger_on_change(event)\n",
       "  File &quot;/opt/anaconda3/envs/pyvizenv/lib/python3.7/site-packages/bokeh/document/callbacks.py&quot;, line 373, in trigger_on_change\n",
       "    invoke_with_curdoc(doc, event.callback_invoker)\n",
       "  File &quot;/opt/anaconda3/envs/pyvizenv/lib/python3.7/site-packages/bokeh/document/callbacks.py&quot;, line 408, in invoke_with_curdoc\n",
       "    return f()\n",
       "  File &quot;/opt/anaconda3/envs/pyvizenv/lib/python3.7/site-packages/bokeh/util/callback_manager.py&quot;, line 191, in invoke\n",
       "    callback(attr, old, new)\n",
       "  File &quot;/opt/anaconda3/envs/pyvizenv/lib/python3.7/site-packages/panel/reactive.py&quot;, line 302, in _comm_change\n",
       "    self._process_events({attr: new})\n",
       "  File &quot;/opt/anaconda3/envs/pyvizenv/lib/python3.7/site-packages/panel/reactive.py&quot;, line 263, in _process_events\n",
       "    self.param.set_param(**self_events)\n",
       "  File &quot;/opt/anaconda3/envs/pyvizenv/lib/python3.7/site-packages/param/parameterized.py&quot;, line 1904, in set_param\n",
       "    return self_.update(kwargs)\n",
       "  File &quot;/opt/anaconda3/envs/pyvizenv/lib/python3.7/site-packages/param/parameterized.py&quot;, line 1877, in update\n",
       "    self_._batch_call_watchers()\n",
       "  File &quot;/opt/anaconda3/envs/pyvizenv/lib/python3.7/site-packages/param/parameterized.py&quot;, line 2038, in _batch_call_watchers\n",
       "    self_._execute_watcher(watcher, events)\n",
       "  File &quot;/opt/anaconda3/envs/pyvizenv/lib/python3.7/site-packages/param/parameterized.py&quot;, line 2000, in _execute_watcher\n",
       "    watcher.fn(*args, **kwargs)\n",
       "  File &quot;/opt/anaconda3/envs/pyvizenv/lib/python3.7/site-packages/panel/interact.py&quot;, line 190, in update_pane\n",
       "    new_object = self.object(**self.kwargs)\n",
       "  File &quot;/var/folders/0s/3_5ky1wd0553ttqtrr_sqv_c0000gn/T/ipykernel_25569/2038902961.py&quot;, line 43, in property_top_level\n",
       "    purchase_price.append(entry[&quot;price&quot;])\n",
       "KeyError: &#x27;price&#x27;\n",
       "</pre>\n"
      ]
     },
     "metadata": {},
     "output_type": "display_data"
    },
    {
     "data": {
      "application/vnd.holoviews_exec.v0+json": "",
      "text/html": [
       "<div id='4459'>\n",
       "\n",
       "\n",
       "\n",
       "\n",
       "\n",
       "  <div class=\"bk-root\" id=\"b1cb63cb-fe08-42fb-9a3c-e44c96996336\" data-root-id=\"4459\"></div>\n",
       "</div>\n",
       "<script type=\"application/javascript\">(function(root) {\n",
       "  function embed_document(root) {\n",
       "    var docs_json = {\"c30ed806-3c15-4036-97fe-e3525fbba9eb\":{\"defs\":[{\"extends\":null,\"module\":null,\"name\":\"ReactiveHTML1\",\"overrides\":[],\"properties\":[]},{\"extends\":null,\"module\":null,\"name\":\"FlexBox1\",\"overrides\":[],\"properties\":[{\"default\":\"flex-start\",\"kind\":null,\"name\":\"align_content\"},{\"default\":\"flex-start\",\"kind\":null,\"name\":\"align_items\"},{\"default\":\"row\",\"kind\":null,\"name\":\"flex_direction\"},{\"default\":\"wrap\",\"kind\":null,\"name\":\"flex_wrap\"},{\"default\":\"flex-start\",\"kind\":null,\"name\":\"justify_content\"}]},{\"extends\":null,\"module\":null,\"name\":\"TemplateActions1\",\"overrides\":[],\"properties\":[{\"default\":0,\"kind\":null,\"name\":\"open_modal\"},{\"default\":0,\"kind\":null,\"name\":\"close_modal\"}]},{\"extends\":null,\"module\":null,\"name\":\"MaterialTemplateActions1\",\"overrides\":[],\"properties\":[{\"default\":0,\"kind\":null,\"name\":\"open_modal\"},{\"default\":0,\"kind\":null,\"name\":\"close_modal\"}]}],\"roots\":{\"references\":[{\"attributes\":{\"children\":[{\"id\":\"4474\"}],\"margin\":[0,0,0,0],\"name\":\"Column05597\"},\"id\":\"4473\",\"type\":\"Column\"},{\"attributes\":{\"child\":{\"id\":\"4470\"},\"name\":\"Column05600\",\"title\":\"Stock Portfolio Analysis\"},\"id\":\"4477\",\"type\":\"Panel\"},{\"attributes\":{\"margin\":[5,5,5,5],\"name\":\"interactive05592\",\"text\":\"&lt;pre&gt; &lt;/pre&gt;\"},\"id\":\"4476\",\"type\":\"panel.models.markup.HTML\"},{\"attributes\":{\"child\":{\"id\":\"4462\"},\"name\":\"Column05590\",\"title\":\"Property Analysis\"},\"id\":\"4469\",\"type\":\"Panel\"},{\"attributes\":{\"children\":[{\"id\":\"4463\"},{\"id\":\"4464\"}],\"margin\":[0,0,0,0],\"min_width\":600,\"name\":\"Column05590\",\"width\":600},\"id\":\"4462\",\"type\":\"Column\"},{\"attributes\":{\"client_comm_id\":\"823ce5d82ddd4ab8b6d6dc7ada34e36e\",\"comm_id\":\"4555158cc6174aa38aefb8014bc561fa\",\"plot_id\":\"4459\"},\"id\":\"4478\",\"type\":\"panel.models.comm_manager.CommManager\"},{\"attributes\":{\"children\":[{\"id\":\"4460\"},{\"id\":\"4461\"}],\"margin\":[0,0,0,0],\"name\":\"Column05604\"},\"id\":\"4459\",\"type\":\"Column\"},{\"attributes\":{\"css_classes\":[\"markdown\"],\"margin\":[5,5,5,5],\"name\":\"Markdown05602\",\"text\":\"&lt;p&gt;All In One Portfolio Summary and Analysis&lt;/p&gt;\"},\"id\":\"4460\",\"type\":\"panel.models.markup.HTML\"},{\"attributes\":{\"css_classes\":[\"markdown\"],\"margin\":[5,5,5,5],\"name\":\"Markdown05598\",\"text\":\"&lt;p&gt;Please upload a .csv file with your stock symbol, purchase date, and purchase amount  &lt;br /&gt;\\nPlease use the following column names in your csv: symbol, date, amount&lt;/p&gt;\"},\"id\":\"4471\",\"type\":\"panel.models.markup.HTML\"},{\"attributes\":{\"children\":[{\"id\":\"4471\"},{\"id\":\"4472\"}],\"margin\":[0,0,0,0],\"min_width\":600,\"name\":\"Column05600\",\"width\":600},\"id\":\"4470\",\"type\":\"Column\"},{\"attributes\":{\"margin\":[0,0,0,0],\"tabs\":[{\"id\":\"4469\"},{\"id\":\"4477\"}]},\"id\":\"4461\",\"type\":\"Tabs\"},{\"attributes\":{\"accept\":\".csv\",\"margin\":[5,10,5,10]},\"id\":\"4474\",\"type\":\"FileInput\"},{\"attributes\":{\"children\":[{\"id\":\"4468\"}],\"margin\":[0,0,0,0],\"name\":\"Row05586\"},\"id\":\"4467\",\"type\":\"Row\"},{\"attributes\":{\"children\":[{\"id\":\"4476\"}],\"margin\":[0,0,0,0],\"name\":\"Row05596\"},\"id\":\"4475\",\"type\":\"Row\"},{\"attributes\":{\"children\":[{\"id\":\"4465\"},{\"id\":\"4467\"}],\"margin\":[0,0,0,0],\"name\":\"Column05583\"},\"id\":\"4464\",\"type\":\"Column\"},{\"attributes\":{\"css_classes\":[\"markdown\"],\"margin\":[5,5,5,5],\"name\":\"Markdown05588\",\"text\":\"&lt;p&gt;Please enter your Full Address and Purchase Price  &lt;br /&gt;\\nThis program will have you understand how is your property tracking in the current market&lt;/p&gt;\"},\"id\":\"4463\",\"type\":\"panel.models.markup.HTML\"},{\"attributes\":{\"margin\":[5,5,5,5],\"name\":\"interactive05582\",\"text\":\"&lt;pre&gt; &lt;/pre&gt;\"},\"id\":\"4468\",\"type\":\"panel.models.markup.HTML\"},{\"attributes\":{\"margin\":[5,10,5,10],\"max_length\":5000,\"placeholder\":\"Please enter your address here\",\"title\":\"Your Address\"},\"id\":\"4466\",\"type\":\"TextInput\"},{\"attributes\":{\"children\":[{\"id\":\"4466\"}],\"margin\":[0,0,0,0],\"name\":\"Column05587\"},\"id\":\"4465\",\"type\":\"Column\"},{\"attributes\":{\"children\":[{\"id\":\"4473\"},{\"id\":\"4475\"}],\"margin\":[0,0,0,0],\"name\":\"Column05593\"},\"id\":\"4472\",\"type\":\"Column\"}],\"root_ids\":[\"4459\",\"4478\"]},\"title\":\"Bokeh Application\",\"version\":\"2.4.2\"}};\n",
       "    var render_items = [{\"docid\":\"c30ed806-3c15-4036-97fe-e3525fbba9eb\",\"root_ids\":[\"4459\"],\"roots\":{\"4459\":\"b1cb63cb-fe08-42fb-9a3c-e44c96996336\"}}];\n",
       "    root.Bokeh.embed.embed_items_notebook(docs_json, render_items);\n",
       "  }\n",
       "  if (root.Bokeh !== undefined && root.Bokeh.Panel !== undefined) {\n",
       "    embed_document(root);\n",
       "  } else {\n",
       "    var attempts = 0;\n",
       "    var timer = setInterval(function(root) {\n",
       "      if (root.Bokeh !== undefined && root.Bokeh.Panel !== undefined) {\n",
       "        clearInterval(timer);\n",
       "        embed_document(root);\n",
       "      } else if (document.readyState == \"complete\") {\n",
       "        attempts++;\n",
       "        if (attempts > 200) {\n",
       "          clearInterval(timer);\n",
       "          console.log(\"Bokeh: ERROR: Unable to run BokehJS code because BokehJS library is missing\");\n",
       "        }\n",
       "      }\n",
       "    }, 25, root)\n",
       "  }\n",
       "})(window);</script>"
      ],
      "text/plain": [
       "Column\n",
       "    [0] Markdown(str)\n",
       "    [1] Tabs\n",
       "        [0] Column(width=600)\n",
       "            [0] Markdown(str)\n",
       "            [1] Column\n",
       "                [0] Column\n",
       "                    [0] TextInput(name='Your Address', placeholder='Please enter y...)\n",
       "                [1] Row\n",
       "                    [0] Str(None, name='interactive05582')\n",
       "        [1] Column(width=600)\n",
       "            [0] Markdown(str)\n",
       "            [1] Column\n",
       "                [0] Column\n",
       "                    [0] FileInput(accept='.csv')\n",
       "                [1] Row\n",
       "                    [0] Str(None, name='interactive05592')"
      ]
     },
     "execution_count": 175,
     "metadata": {
      "application/vnd.holoviews_exec.v0+json": {
       "id": "4459"
      }
     },
     "output_type": "execute_result"
    }
   ],
   "source": [
    "# Put everything together into this dashboard and serve it\n",
    "property_opening_message = \"\"\"Please enter your Full Address and Purchase Price  <br />\n",
    "This program will have you understand how is your property tracking in the current market\"\"\"\n",
    "\n",
    "property_price_message = \"\"\"Please enter your purchase price <br />\n",
    "This program will give the purchase price\"\"\"\n",
    "\n",
    "#property_opening_column = pn.Column(property_opening_message,\n",
    "#                                   interact(property_top_level, \n",
    "#                                            address=widgets.TextInput(name=\"Your Address\", placeholder=\"Please enter your address here\")),\n",
    "#                                   width=600)\n",
    "#@interact(address=widgets.TextInput(name=\"Your Address\")\n",
    "property_opening_column = pn.Column(property_opening_message,\n",
    "                                  interact(property_top_level, \n",
    "                                            address=widgets.TextInput(name=\"Your Address\", placeholder=\"Please enter your address here\")),\n",
    "                                   width=600)\n",
    "\n",
    "stock_opening_message = \"\"\"Please upload a .csv file with your stock symbol, purchase date, and purchase amount  <br />\n",
    "Please use the following column names in your csv: symbol, date, amount\"\"\"\n",
    "\n",
    "stock_analysis_opening_column = pn.Column(stock_opening_message, \n",
    "                                          interact(stock_top_level, stocks=widgets.FileInput(accept=\".csv\")),\n",
    "                                         width = 600)\n",
    "\n",
    "tabs = pn.Tabs(\n",
    "    (\"Property Analysis\", \n",
    "     property_opening_column),\n",
    "    (\"Stock Portfolio Analysis\",\n",
    "    stock_analysis_opening_column)\n",
    ")   \n",
    "dashboard = pn.Column(title, tabs)\n",
    "dashboard.servable()"
   ]
  },
  {
   "cell_type": "code",
   "execution_count": null,
   "id": "1b1f34f1",
   "metadata": {},
   "outputs": [],
   "source": [
    "property_top_level"
   ]
  },
  {
   "cell_type": "code",
   "execution_count": null,
   "id": "4e6fce4b",
   "metadata": {},
   "outputs": [],
   "source": []
  },
  {
   "cell_type": "code",
   "execution_count": null,
   "id": "2be0c1fe",
   "metadata": {},
   "outputs": [],
   "source": []
  },
  {
   "cell_type": "code",
   "execution_count": null,
   "id": "207abf18",
   "metadata": {},
   "outputs": [],
   "source": []
  }
 ],
 "metadata": {
  "kernelspec": {
   "display_name": "Python [conda env:pyvizenv] *",
   "language": "python",
   "name": "conda-env-pyvizenv-py"
  },
  "language_info": {
   "codemirror_mode": {
    "name": "ipython",
    "version": 3
   },
   "file_extension": ".py",
   "mimetype": "text/x-python",
   "name": "python",
   "nbconvert_exporter": "python",
   "pygments_lexer": "ipython3",
   "version": "3.7.11"
  }
 },
 "nbformat": 4,
 "nbformat_minor": 5
}
