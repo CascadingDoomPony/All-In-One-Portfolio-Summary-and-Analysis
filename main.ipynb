{
 "cells": [
  {
   "cell_type": "code",
   "execution_count": 153,
   "id": "62da9c5d",
   "metadata": {},
   "outputs": [],
   "source": [
    "# Initialisation\n",
    "import os\n",
    "import io\n",
    "import requests\n",
    "import json\n",
    "import pandas as pd\n",
    "import urllib.parse as url\n",
    "import alpaca_trade_api as tradeapi\n",
    "#import matplotlib.pyplot as plt\n",
    "from dotenv import load_dotenv"
   ]
  },
  {
   "cell_type": "code",
   "execution_count": 154,
   "id": "2e366cb2",
   "metadata": {},
   "outputs": [],
   "source": [
    "# Initialised\n",
    "import panel as pn\n",
    "from panel.interact import interact\n",
    "from panel import widgets\n",
    "pn.extension()"
   ]
  },
  {
   "cell_type": "code",
   "execution_count": 155,
   "id": "37fa04b9",
   "metadata": {},
   "outputs": [],
   "source": [
    "import hvplot.pandas"
   ]
  },
  {
   "cell_type": "code",
   "execution_count": 156,
   "id": "9bb2523e",
   "metadata": {},
   "outputs": [],
   "source": [
    "load_dotenv()\n",
    "api_key = os.getenv(\"DOMAIN_API_KEY\")\n",
    "# Set Alpaca API key and secret\n",
    "alpaca_api_key = os.getenv(\"ALPACA_API_KEY\")\n",
    "alpaca_secret_key = os.getenv(\"ALPACA_SECRET_KEY\")\n",
    "\n",
    "# Create the Alpaca API object\n",
    "alpaca_api = tradeapi.REST(\n",
    "    alpaca_api_key,\n",
    "    alpaca_secret_key,\n",
    "    api_version = \"v2\"\n",
    ")"
   ]
  },
  {
   "cell_type": "code",
   "execution_count": 157,
   "id": "d2aa8f10",
   "metadata": {},
   "outputs": [],
   "source": [
    "#%matplotlib inline"
   ]
  },
  {
   "cell_type": "code",
   "execution_count": 158,
   "id": "f0335d69",
   "metadata": {},
   "outputs": [],
   "source": [
    "title = \"All In One Portfolio Summary and Analysis\""
   ]
  },
  {
   "cell_type": "code",
   "execution_count": 159,
   "id": "78de0eee",
   "metadata": {},
   "outputs": [],
   "source": [
    "# REQUEST CALL DOMAIN.COM.AU: This api call will, given a string, finds the property address that closest matches the string\n",
    "# and returns the address in full as a string, each address components in its own string, and a unique ID for the given address.\n",
    "# We will return all this data in a df\n",
    "def address_suggest(address):\n",
    "    if not address:\n",
    "        return\n",
    "    address_url = url.quote(address)\n",
    "    request_url = f\"https://api.domain.com.au/v1/properties/_suggest?terms={address_url}&pageSize=1&api_key={api_key}\"\n",
    "    get_request = requests.get(request_url)\n",
    "\n",
    "    # Data formatting\n",
    "    data = get_request.json()\n",
    "    # Extract data\n",
    "    full_address = data[0][\"address\"]\n",
    "    address_data = data[0][\"addressComponents\"]\n",
    "    location_id = data[0][\"id\"]\n",
    "    \n",
    "    \n",
    "    # Address_data is already a dict so we need to combine everything with update\n",
    "    all_data = {\n",
    "        \"full_address\": full_address,\n",
    "        \"id\": location_id\n",
    "    }\n",
    "    all_data.update(address_data)\n",
    "    # Put data into df\n",
    "    # Df will have a single row. All data in their own columns with their own names\n",
    "    address_df = pd.DataFrame([all_data])\n",
    "    return address_df"
   ]
  },
  {
   "cell_type": "code",
   "execution_count": 160,
   "id": "f2908a5e",
   "metadata": {},
   "outputs": [],
   "source": [
    "# Address locators: this request will return a unique identifier for the following address levels:\n",
    "# Address, street, suburb, postcode\n",
    "\n",
    "def address_locators(address_df, level, building_type):\n",
    "    if building_type == \"unit\":\n",
    "        unit = address_df.iloc[0][\"unitNumber\"]\n",
    "    else:\n",
    "        unit = None\n",
    "    street_num = address_df.iloc[0][\"streetNumber\"]\n",
    "    street_name = address_df.iloc[0][\"streetName\"]\n",
    "    street_type = address_df.iloc[0][\"streetType\"]\n",
    "    suburb = address_df.iloc[0][\"suburb\"]\n",
    "    post_code = address_df.iloc[0][\"postCode\"]\n",
    "    state = address_df.iloc[0][\"state\"]\n",
    "    \n",
    "    # Check if building is actually a unit\n",
    "    if building_type == \"unit\":\n",
    "        request_url = f\"https://api.domain.com.au/v1/addressLocators?searchLevel={level}&unitNumber={unit}&streetNumber={street_num}&streetName={street_name}&streetType={street_type}&suburb={suburb}&state={state}&postcode={post_code}&api_key={api_key}\"\n",
    "\n",
    "    else:\n",
    "        request_url = f\"https://api.domain.com.au/v1/addressLocators?searchLevel={level}&streetNumber={street_num}&streetName={street_name}&streetType={street_type}&suburb={suburb}&state={state}&postcode={post_code}&api_key={api_key}\"\n",
    "\n",
    "\n",
    "    get_request = requests.get(request_url)\n",
    "\n",
    "    # Data formatting\n",
    "    data = get_request.json()\n",
    "    combined_id_data = {}\n",
    "    for loc_id in data[0][\"ids\"]:\n",
    "        combined_id_data.update({loc_id[\"level\"]+\" id\": loc_id[\"id\"]})\n",
    "    \n",
    "    id_df = pd.DataFrame([combined_id_data])\n",
    "    \n",
    "    return id_df"
   ]
  },
  {
   "cell_type": "code",
   "execution_count": 161,
   "id": "efe7aec5",
   "metadata": {},
   "outputs": [],
   "source": [
    "# Properties: Using a given property id provided by _suggest, this request gives an info dump on the characteristics of the property\n",
    "# For now just returning all data since I do not know exactly what data is required\n",
    "def properties(prop_id):\n",
    "    request_url = f\"https://api.domain.com.au/v1/properties/{prop_id}?api_key={api_key}\"\n",
    "    get_request = requests.get(request_url)\n",
    "    data = get_request.json()\n",
    "    return data"
   ]
  },
  {
   "cell_type": "code",
   "execution_count": 162,
   "id": "78f51201",
   "metadata": {},
   "outputs": [],
   "source": [
    "# Location profiles: this request gives an info dump of a given location based on the suburb id given. \n",
    "# ID must come from Address Locator request\n",
    "def location_profiles(suburb_id):\n",
    "    request_url = f\"https://api.domain.com.au/v1/locations/profiles/{suburb_id}?api_key={api_key}\"\n",
    "    get_request = requests.get(request_url)\n",
    "    data = get_request.json()\n",
    "    return data"
   ]
  },
  {
   "cell_type": "code",
   "execution_count": 163,
   "id": "edf4385f",
   "metadata": {},
   "outputs": [
    {
     "data": {
      "text/plain": [
       "'# Line chart code from previous homework\\ndef create_line_chart(data, title, xlabel, ylabel):\\n    return data.hvplot.line(\\n        title=title, \\n        xlabel=xlabel, \\n        ylabel=ylabel\\n    ).opts(\\n        # Format Y to not use scientific notation and increase width so the chart doesn\\'t look squished \\n        yformatter=\"%.0f\",\\n        frame_width = 500\\n    )'"
      ]
     },
     "execution_count": 163,
     "metadata": {},
     "output_type": "execute_result"
    }
   ],
   "source": [
    "\"\"\"# Line chart code from previous homework\n",
    "def create_line_chart(data, title, xlabel, ylabel):\n",
    "    return data.hvplot.line(\n",
    "        title=title, \n",
    "        xlabel=xlabel, \n",
    "        ylabel=ylabel\n",
    "    ).opts(\n",
    "        # Format Y to not use scientific notation and increase width so the chart doesn't look squished \n",
    "        yformatter=\"%.0f\",\n",
    "        frame_width = 500\n",
    "    )\"\"\""
   ]
  },
  {
   "cell_type": "code",
   "execution_count": 164,
   "id": "fe8b96bb",
   "metadata": {},
   "outputs": [],
   "source": [
    "def suburb_price_chart(growth_df):\n",
    "    return growth_df.hvplot.line(\n",
    "        title = \"Suburb's growth yearly\",\n",
    "        x = \"Years\",\n",
    "        y = \"Median Sold Price\",\n",
    "    ).opts(\n",
    "        yformatter=\"%.0f\"\n",
    "    )"
   ]
  },
  {
   "cell_type": "code",
   "execution_count": 58,
   "id": "6807c17d",
   "metadata": {},
   "outputs": [],
   "source": [
    "def suburb_sale_chart(growth_df):\n",
    "    return growth_df.hvplot.line(\n",
    "        title = \"Suburb's growth yearly\",\n",
    "        x = \"Years\",\n",
    "        y = \"Number of Sales\",\n",
    "    ).opts(\n",
    "        yformatter=\"%.0f\"\n",
    "    )"
   ]
  },
  {
   "cell_type": "code",
   "execution_count": 74,
   "id": "529e3856",
   "metadata": {},
   "outputs": [],
   "source": [
    "def purchase_vs_median(growth_df):\n",
    "    print(growth_df)\n",
    "    return growth_df.hvplot.bar(\n",
    "        title = \"Purchase Price vs Median Sold Price\",\n",
    "        x = [\"Purchase Price\"]\n",
    "    ).opts(\n",
    "        yformatter=\"%.0f\"\n",
    "    )"
   ]
  },
  {
   "cell_type": "code",
   "execution_count": 72,
   "id": "742b9d75",
   "metadata": {},
   "outputs": [],
   "source": [
    "# Top level of property section will do api calls on _suggest and address-locators, determine if property is a unit\n",
    "# and will produce an info dump on the selected property\n",
    "\n",
    "def property_top_level(address, valuation):\n",
    "    if not address or not valuation:\n",
    "        return\n",
    "    \n",
    "    if not valuation.isdigit():\n",
    "        return pn.Pane(\"Valuation is not a number\")\n",
    "    \n",
    "    valuation = int(valuation)\n",
    "    \n",
    "    address_df = address_suggest(address)\n",
    "    full_address = address_df.iloc[0][\"full_address\"]\n",
    "    address_string = f\"Showing data for the following address:  <br /> {full_address}\"\n",
    "    \n",
    "    # Create a flag here on top level to indicate if property is a unit\n",
    "    # unit number wont be a column in address_df if the property isn't a unit to begin with\n",
    "    if address_df.iloc[0][\"unitNumber\"]:\n",
    "        building_type = \"unit\"\n",
    "    else:\n",
    "        building_type = \"house\"\n",
    "       \n",
    "    # Get ids of address componenets\n",
    "    id_df = address_locators(address_df, \"address\", building_type)\n",
    "    \n",
    "    # Get information on property. Need to know how many bedrooms property has\n",
    "    property_data = properties(address_df.iloc[0][\"id\"])\n",
    "    bedrooms = property_data[\"bedrooms\"]\n",
    "    info_string = f\"This property is a {building_type}, with {bedrooms} bedrooms\"\n",
    "    \n",
    "    # Get suburbs location profile\n",
    "    location_data = location_profiles(id_df.iloc[0][\"Suburb id\"])\n",
    "    categorised_location_data = location_data[\"data\"][\"propertyCategories\"]\n",
    "    \n",
    "    # Single out the property type by building type and bedroom count\n",
    "    for property_type in categorised_location_data:\n",
    "        if property_type[\"bedrooms\"] == bedrooms and property_type[\"propertyCategory\"].lower() == building_type:\n",
    "            specified_location_data = property_type\n",
    "    \n",
    "    # Code here uses specified location data for analysis\n",
    "    growth_years = []\n",
    "    growth_price = []\n",
    "    growth_sales = []\n",
    "    purchase_price = []\n",
    "    for entry in specified_location_data[\"salesGrowthList\"]:\n",
    "        growth_years.append(entry[\"year\"])\n",
    "        growth_price.append(entry[\"medianSoldPrice\"])\n",
    "        growth_sales.append(entry[\"numberSold\"])\n",
    "        purchase_price.append(valuation)\n",
    "    \n",
    "    print(purchase_price)\n",
    "    growth_data = {\"Years\": growth_years,\n",
    "                  \"Median Sold Price\": growth_price,\n",
    "                  \"Number of Sales\": growth_sales,\n",
    "                  \"Purchase Price\" : purchase_price\n",
    "                  }\n",
    "    \n",
    "    growth_df = pd.DataFrame(growth_data)\n",
    "    #growth_df.set_index(\"Years\", inplace=True)\n",
    "    \n",
    "    \n",
    "    suburb_data_row = pn.Row(suburb_price_chart(growth_df), suburb_sale_chart(growth_df), purchase_vs_median(growth_df))\n",
    "    \n",
    "    test_column = pn.Column(info_string, suburb_data_row)\n",
    "    \n",
    "    \n",
    "    return pn.Column(address_string, test_column, width = 1000)"
   ]
  },
  {
   "cell_type": "code",
   "execution_count": 168,
   "id": "8f73ee76",
   "metadata": {},
   "outputs": [],
   "source": [
    "@interact(x=[2,3,4], y=['a','b','c'])\n",
    "def func(x,y):\n",
    "    #print(x,y)\n",
    "    return pn.Row(x,y)"
   ]
  },
  {
   "cell_type": "code",
   "execution_count": 169,
   "id": "65904cd4",
   "metadata": {},
   "outputs": [
    {
     "data": {},
     "metadata": {},
     "output_type": "display_data"
    },
    {
     "data": {
      "application/vnd.holoviews_exec.v0+json": "",
      "text/html": [
       "<div id='4452'>\n",
       "\n",
       "\n",
       "\n",
       "\n",
       "\n",
       "  <div class=\"bk-root\" id=\"0874c4b7-3e78-4d04-b3a8-8643ff375d71\" data-root-id=\"4452\"></div>\n",
       "</div>\n",
       "<script type=\"application/javascript\">(function(root) {\n",
       "  function embed_document(root) {\n",
       "    var docs_json = {\"4d76f104-209a-40db-88b5-6691b719038d\":{\"defs\":[{\"extends\":null,\"module\":null,\"name\":\"ReactiveHTML1\",\"overrides\":[],\"properties\":[]},{\"extends\":null,\"module\":null,\"name\":\"FlexBox1\",\"overrides\":[],\"properties\":[{\"default\":\"flex-start\",\"kind\":null,\"name\":\"align_content\"},{\"default\":\"flex-start\",\"kind\":null,\"name\":\"align_items\"},{\"default\":\"row\",\"kind\":null,\"name\":\"flex_direction\"},{\"default\":\"wrap\",\"kind\":null,\"name\":\"flex_wrap\"},{\"default\":\"flex-start\",\"kind\":null,\"name\":\"justify_content\"}]},{\"extends\":null,\"module\":null,\"name\":\"TemplateActions1\",\"overrides\":[],\"properties\":[{\"default\":0,\"kind\":null,\"name\":\"open_modal\"},{\"default\":0,\"kind\":null,\"name\":\"close_modal\"}]},{\"extends\":null,\"module\":null,\"name\":\"MaterialTemplateActions1\",\"overrides\":[],\"properties\":[{\"default\":0,\"kind\":null,\"name\":\"open_modal\"},{\"default\":0,\"kind\":null,\"name\":\"close_modal\"}]}],\"roots\":{\"references\":[{\"attributes\":{\"children\":[{\"id\":\"4454\"}],\"margin\":[0,0,0,0],\"name\":\"Column05573\"},\"id\":\"4453\",\"type\":\"Column\"},{\"attributes\":{\"css_classes\":[\"markdown\"],\"margin\":[5,5,5,5],\"name\":\"interactive05568\"},\"id\":\"4456\",\"type\":\"panel.models.markup.HTML\"},{\"attributes\":{\"children\":[{\"id\":\"4456\"}],\"margin\":[0,0,0,0],\"name\":\"Row05572\"},\"id\":\"4455\",\"type\":\"Row\"},{\"attributes\":{\"reload\":false},\"id\":\"4458\",\"type\":\"panel.models.location.Location\"},{\"attributes\":{\"margin\":[5,10,5,10],\"max_length\":5000,\"placeholder\":\"Please enter your address here\",\"title\":\"Your Address\"},\"id\":\"4454\",\"type\":\"TextInput\"},{\"attributes\":{\"children\":[{\"id\":\"4453\"},{\"id\":\"4455\"}],\"margin\":[0,0,0,0],\"name\":\"Column05569\"},\"id\":\"4452\",\"type\":\"Column\"},{\"attributes\":{\"client_comm_id\":\"15e7fdf62c874ae583cea741025266da\",\"comm_id\":\"a84e315a80e34f7b9196618b6ebb6a2e\",\"plot_id\":\"4452\"},\"id\":\"4457\",\"type\":\"panel.models.comm_manager.CommManager\"}],\"root_ids\":[\"4452\",\"4457\",\"4458\"]},\"title\":\"Bokeh Application\",\"version\":\"2.4.2\"}};\n",
       "    var render_items = [{\"docid\":\"4d76f104-209a-40db-88b5-6691b719038d\",\"root_ids\":[\"4452\"],\"roots\":{\"4452\":\"0874c4b7-3e78-4d04-b3a8-8643ff375d71\"}}];\n",
       "    root.Bokeh.embed.embed_items_notebook(docs_json, render_items);\n",
       "  }\n",
       "  if (root.Bokeh !== undefined && root.Bokeh.Panel !== undefined) {\n",
       "    embed_document(root);\n",
       "  } else {\n",
       "    var attempts = 0;\n",
       "    var timer = setInterval(function(root) {\n",
       "      if (root.Bokeh !== undefined && root.Bokeh.Panel !== undefined) {\n",
       "        clearInterval(timer);\n",
       "        embed_document(root);\n",
       "      } else if (document.readyState == \"complete\") {\n",
       "        attempts++;\n",
       "        if (attempts > 200) {\n",
       "          clearInterval(timer);\n",
       "          console.log(\"Bokeh: ERROR: Unable to run BokehJS code because BokehJS library is missing\");\n",
       "        }\n",
       "      }\n",
       "    }, 25, root)\n",
       "  }\n",
       "})(window);</script>"
      ],
      "text/plain": [
       "Column\n",
       "    [0] Column\n",
       "        [0] TextInput(name='Your Address', placeholder='Please enter y...)\n",
       "    [1] Row\n",
       "        [0] Markdown(str, name='interactive05568')"
      ]
     },
     "execution_count": 169,
     "metadata": {
      "application/vnd.holoviews_exec.v0+json": {
       "id": "4452"
      }
     },
     "output_type": "execute_result"
    }
   ],
   "source": [
    "@interact(x=widgets.TextInput(name=\"Your Address\", placeholder=\"Please enter your address here\"))#, y=widgets.TextInput(name=\"Your Address\", placeholder=\"Please enter your address here\"))\n",
    "def myfunc(x):\n",
    "    return x\n",
    "myfunc"
   ]
  },
  {
   "cell_type": "code",
   "execution_count": 170,
   "id": "92d3b1c3",
   "metadata": {},
   "outputs": [
    {
     "data": {
      "text/plain": [
       "0"
      ]
     },
     "execution_count": 170,
     "metadata": {},
     "output_type": "execute_result"
    }
   ],
   "source": [
    "count = 0\n",
    "count"
   ]
  },
  {
   "cell_type": "code",
   "execution_count": 171,
   "id": "01ac92f7",
   "metadata": {},
   "outputs": [],
   "source": [
    "def stock_top_level(stocks):\n",
    "    if stocks is None:\n",
    "        return\n",
    "    stock_df = pd.read_csv(io.BytesIO(stocks), index_col=\"symbol\", infer_datetime_format=True)\n",
    "    stock_df[\"date\"] = pd.to_datetime(stock_df[\"date\"], infer_datetime_format=True)\n",
    "    user_symbols = stock_df.index.tolist()\n",
    "    start_date = stock_df[\"date\"].tolist()\n",
    "    start_date.sort()\n",
    "    start_date = start_date[0]\n",
    "    \n",
    "    market_data_df = alpaca_api.get_barset(\n",
    "        user_symbols,\n",
    "        \"1D\",\n",
    "        end = start_date,\n",
    "        limit = 1000\n",
    "    ).df\n",
    "        \n",
    "    return pn.Pane(market_data_df)"
   ]
  },
  {
   "cell_type": "code",
   "execution_count": 35,
   "id": "607dfe94",
   "metadata": {},
   "outputs": [
    {
     "data": {
      "text/html": [
       "\n",
       "<pre>Traceback (most recent call last):\n",
       "  File &quot;C:\\Users\\Kevin\\anaconda3\\envs\\pyvizenv\\lib\\site-packages\\pyviz_comms\\__init__.py&quot;, line 325, in _handle_msg\n",
       "    self._on_msg(msg)\n",
       "  File &quot;C:\\Users\\Kevin\\anaconda3\\envs\\pyvizenv\\lib\\site-packages\\panel\\viewable.py&quot;, line 273, in _on_msg\n",
       "    doc.unhold()\n",
       "  File &quot;C:\\Users\\Kevin\\anaconda3\\envs\\pyvizenv\\lib\\site-packages\\bokeh\\document\\document.py&quot;, line 799, in unhold\n",
       "    self.callbacks.unhold()\n",
       "  File &quot;C:\\Users\\Kevin\\anaconda3\\envs\\pyvizenv\\lib\\site-packages\\bokeh\\document\\callbacks.py&quot;, line 396, in unhold\n",
       "    self.trigger_on_change(event)\n",
       "  File &quot;C:\\Users\\Kevin\\anaconda3\\envs\\pyvizenv\\lib\\site-packages\\bokeh\\document\\callbacks.py&quot;, line 373, in trigger_on_change\n",
       "    invoke_with_curdoc(doc, event.callback_invoker)\n",
       "  File &quot;C:\\Users\\Kevin\\anaconda3\\envs\\pyvizenv\\lib\\site-packages\\bokeh\\document\\callbacks.py&quot;, line 408, in invoke_with_curdoc\n",
       "    return f()\n",
       "  File &quot;C:\\Users\\Kevin\\anaconda3\\envs\\pyvizenv\\lib\\site-packages\\bokeh\\util\\callback_manager.py&quot;, line 191, in invoke\n",
       "    callback(attr, old, new)\n",
       "  File &quot;C:\\Users\\Kevin\\anaconda3\\envs\\pyvizenv\\lib\\site-packages\\panel\\reactive.py&quot;, line 302, in _comm_change\n",
       "    self._process_events({attr: new})\n",
       "  File &quot;C:\\Users\\Kevin\\anaconda3\\envs\\pyvizenv\\lib\\site-packages\\panel\\reactive.py&quot;, line 263, in _process_events\n",
       "    self.param.set_param(**self_events)\n",
       "  File &quot;C:\\Users\\Kevin\\anaconda3\\envs\\pyvizenv\\lib\\site-packages\\param\\parameterized.py&quot;, line 1904, in set_param\n",
       "    return self_.update(kwargs)\n",
       "  File &quot;C:\\Users\\Kevin\\anaconda3\\envs\\pyvizenv\\lib\\site-packages\\param\\parameterized.py&quot;, line 1877, in update\n",
       "    self_._batch_call_watchers()\n",
       "  File &quot;C:\\Users\\Kevin\\anaconda3\\envs\\pyvizenv\\lib\\site-packages\\param\\parameterized.py&quot;, line 2038, in _batch_call_watchers\n",
       "    self_._execute_watcher(watcher, events)\n",
       "  File &quot;C:\\Users\\Kevin\\anaconda3\\envs\\pyvizenv\\lib\\site-packages\\param\\parameterized.py&quot;, line 2000, in _execute_watcher\n",
       "    watcher.fn(*args, **kwargs)\n",
       "  File &quot;C:\\Users\\Kevin\\anaconda3\\envs\\pyvizenv\\lib\\site-packages\\panel\\interact.py&quot;, line 190, in update_pane\n",
       "    new_object = self.object(**self.kwargs)\n",
       "  File &quot;C:\\Users\\Kevin\\AppData\\Local\\Temp/ipykernel_10428/2732908493.py&quot;, line 59, in property_top_level\n",
       "    purchase_vs_median(growth_df)\n",
       "  File &quot;C:\\Users\\Kevin\\AppData\\Local\\Temp/ipykernel_10428/1401233683.py&quot;, line 5, in purchase_vs_median\n",
       "    y = &quot;Median Sold Price&quot;,\n",
       "  File &quot;C:\\Users\\Kevin\\anaconda3\\envs\\pyvizenv\\lib\\site-packages\\hvplot\\plotting\\core.py&quot;, line 353, in bar\n",
       "    return self(x, y, kind=&#x27;bar&#x27;, **kwds)\n",
       "  File &quot;C:\\Users\\Kevin\\anaconda3\\envs\\pyvizenv\\lib\\site-packages\\hvplot\\plotting\\core.py&quot;, line 79, in __call__\n",
       "    return self._get_converter(x, y, kind, **kwds)(kind, x, y)\n",
       "  File &quot;C:\\Users\\Kevin\\anaconda3\\envs\\pyvizenv\\lib\\site-packages\\hvplot\\converter.py&quot;, line 1137, in __call__\n",
       "    obj = method(x, y)\n",
       "  File &quot;C:\\Users\\Kevin\\anaconda3\\envs\\pyvizenv\\lib\\site-packages\\hvplot\\converter.py&quot;, line 1524, in bar\n",
       "    data, x, y = self._process_chart_args(data, x, y, categories=self.by)\n",
       "  File &quot;C:\\Users\\Kevin\\anaconda3\\envs\\pyvizenv\\lib\\site-packages\\hvplot\\converter.py&quot;, line 1419, in _process_chart_args\n",
       "    elif x in data.columns:\n",
       "  File &quot;C:\\Users\\Kevin\\anaconda3\\envs\\pyvizenv\\lib\\site-packages\\pandas\\core\\indexes\\base.py&quot;, line 4572, in __contains__\n",
       "    hash(key)\n",
       "TypeError: unhashable type: &#x27;list&#x27;\n",
       "</pre>\n"
      ]
     },
     "metadata": {},
     "output_type": "display_data"
    },
    {
     "data": {
      "application/vnd.holoviews_exec.v0+json": "",
      "text/html": [
       "<div id='1369'>\n",
       "\n",
       "\n",
       "\n",
       "\n",
       "\n",
       "  <div class=\"bk-root\" id=\"b522e9af-8eb5-4402-bf17-f348aab97aeb\" data-root-id=\"1369\"></div>\n",
       "</div>\n",
       "<script type=\"application/javascript\">(function(root) {\n",
       "  function embed_document(root) {\n",
       "    var docs_json = {\"56ddafb0-b5b0-4f91-b537-4dae1a2dc2ce\":{\"defs\":[{\"extends\":null,\"module\":null,\"name\":\"ReactiveHTML1\",\"overrides\":[],\"properties\":[]},{\"extends\":null,\"module\":null,\"name\":\"FlexBox1\",\"overrides\":[],\"properties\":[{\"default\":\"flex-start\",\"kind\":null,\"name\":\"align_content\"},{\"default\":\"flex-start\",\"kind\":null,\"name\":\"align_items\"},{\"default\":\"row\",\"kind\":null,\"name\":\"flex_direction\"},{\"default\":\"wrap\",\"kind\":null,\"name\":\"flex_wrap\"},{\"default\":\"flex-start\",\"kind\":null,\"name\":\"justify_content\"}]},{\"extends\":null,\"module\":null,\"name\":\"TemplateActions1\",\"overrides\":[],\"properties\":[{\"default\":0,\"kind\":null,\"name\":\"open_modal\"},{\"default\":0,\"kind\":null,\"name\":\"close_modal\"}]},{\"extends\":null,\"module\":null,\"name\":\"MaterialTemplateActions1\",\"overrides\":[],\"properties\":[{\"default\":0,\"kind\":null,\"name\":\"open_modal\"},{\"default\":0,\"kind\":null,\"name\":\"close_modal\"}]}],\"roots\":{\"references\":[{\"attributes\":{\"child\":{\"id\":\"1372\"},\"name\":\"Column02711\",\"title\":\"Property Analysis\"},\"id\":\"1380\",\"type\":\"Panel\"},{\"attributes\":{\"margin\":[5,5,5,5],\"name\":\"interactive02703\",\"text\":\"&lt;pre&gt; &lt;/pre&gt;\"},\"id\":\"1379\",\"type\":\"panel.models.markup.HTML\"},{\"attributes\":{\"children\":[{\"id\":\"1376\"},{\"id\":\"1377\"}],\"margin\":[0,0,0,0],\"name\":\"Column02708\"},\"id\":\"1375\",\"type\":\"Column\"},{\"attributes\":{\"children\":[{\"id\":\"1387\"}],\"margin\":[0,0,0,0],\"name\":\"Row02717\"},\"id\":\"1386\",\"type\":\"Row\"},{\"attributes\":{\"child\":{\"id\":\"1381\"},\"name\":\"Column02721\",\"title\":\"Stock Portfolio Analysis\"},\"id\":\"1388\",\"type\":\"Panel\"},{\"attributes\":{\"children\":[{\"id\":\"1375\"},{\"id\":\"1378\"}],\"margin\":[0,0,0,0],\"name\":\"Column02704\"},\"id\":\"1374\",\"type\":\"Column\"},{\"attributes\":{\"margin\":[5,10,5,10],\"max_length\":5000,\"placeholder\":\"Please enter your address here\",\"title\":\"Your Address\"},\"id\":\"1376\",\"type\":\"TextInput\"},{\"attributes\":{\"children\":[{\"id\":\"1379\"}],\"margin\":[0,0,0,0],\"name\":\"Row02707\"},\"id\":\"1378\",\"type\":\"Row\"},{\"attributes\":{\"margin\":[5,5,5,5],\"name\":\"interactive02713\",\"text\":\"&lt;pre&gt; &lt;/pre&gt;\"},\"id\":\"1387\",\"type\":\"panel.models.markup.HTML\"},{\"attributes\":{\"children\":[{\"id\":\"1373\"},{\"id\":\"1374\"}],\"margin\":[0,0,0,0],\"min_width\":600,\"name\":\"Column02711\",\"width\":600},\"id\":\"1372\",\"type\":\"Column\"},{\"attributes\":{\"children\":[{\"id\":\"1382\"},{\"id\":\"1383\"}],\"margin\":[0,0,0,0],\"min_width\":600,\"name\":\"Column02721\",\"width\":600},\"id\":\"1381\",\"type\":\"Column\"},{\"attributes\":{\"margin\":[0,0,0,0],\"tabs\":[{\"id\":\"1380\"},{\"id\":\"1388\"}]},\"id\":\"1371\",\"type\":\"Tabs\"},{\"attributes\":{\"css_classes\":[\"markdown\"],\"margin\":[5,5,5,5],\"name\":\"Markdown02723\",\"text\":\"&lt;p&gt;All In One Portfolio Summary and Analysis&lt;/p&gt;\"},\"id\":\"1370\",\"type\":\"panel.models.markup.HTML\"},{\"attributes\":{\"client_comm_id\":\"ac79422885574d32b59cab3d2ba7a963\",\"comm_id\":\"5a6c06e4904e4edab0f6f1fb582e0302\",\"plot_id\":\"1369\"},\"id\":\"1389\",\"type\":\"panel.models.comm_manager.CommManager\"},{\"attributes\":{\"children\":[{\"id\":\"1385\"}],\"margin\":[0,0,0,0],\"name\":\"Column02718\"},\"id\":\"1384\",\"type\":\"Column\"},{\"attributes\":{\"css_classes\":[\"markdown\"],\"margin\":[5,5,5,5],\"name\":\"Markdown02719\",\"text\":\"&lt;p&gt;Please upload a .csv file with your stock symbol, purchase date, and purchase amount  &lt;br /&gt;\\nPlease use the following column names in your csv: symbol, date, amount&lt;/p&gt;\"},\"id\":\"1382\",\"type\":\"panel.models.markup.HTML\"},{\"attributes\":{\"css_classes\":[\"markdown\"],\"margin\":[5,5,5,5],\"name\":\"Markdown02709\",\"text\":\"&lt;p&gt;Please enter your Full Address and Purchase Price  &lt;br /&gt;\\nThis program will have you understand how is your property tracking in the current market&lt;/p&gt;\"},\"id\":\"1373\",\"type\":\"panel.models.markup.HTML\"},{\"attributes\":{\"accept\":\".csv\",\"margin\":[5,10,5,10]},\"id\":\"1385\",\"type\":\"FileInput\"},{\"attributes\":{\"children\":[{\"id\":\"1384\"},{\"id\":\"1386\"}],\"margin\":[0,0,0,0],\"name\":\"Column02714\"},\"id\":\"1383\",\"type\":\"Column\"},{\"attributes\":{\"margin\":[5,10,5,10],\"max_length\":5000,\"placeholder\":\"Please enter your address here\",\"title\":\"Your Address\"},\"id\":\"1377\",\"type\":\"TextInput\"},{\"attributes\":{\"children\":[{\"id\":\"1370\"},{\"id\":\"1371\"}],\"margin\":[0,0,0,0],\"name\":\"Column02725\"},\"id\":\"1369\",\"type\":\"Column\"}],\"root_ids\":[\"1369\",\"1389\"]},\"title\":\"Bokeh Application\",\"version\":\"2.4.2\"}};\n",
       "    var render_items = [{\"docid\":\"56ddafb0-b5b0-4f91-b537-4dae1a2dc2ce\",\"root_ids\":[\"1369\"],\"roots\":{\"1369\":\"b522e9af-8eb5-4402-bf17-f348aab97aeb\"}}];\n",
       "    root.Bokeh.embed.embed_items_notebook(docs_json, render_items);\n",
       "  }\n",
       "  if (root.Bokeh !== undefined && root.Bokeh.Panel !== undefined) {\n",
       "    embed_document(root);\n",
       "  } else {\n",
       "    var attempts = 0;\n",
       "    var timer = setInterval(function(root) {\n",
       "      if (root.Bokeh !== undefined && root.Bokeh.Panel !== undefined) {\n",
       "        clearInterval(timer);\n",
       "        embed_document(root);\n",
       "      } else if (document.readyState == \"complete\") {\n",
       "        attempts++;\n",
       "        if (attempts > 200) {\n",
       "          clearInterval(timer);\n",
       "          console.log(\"Bokeh: ERROR: Unable to run BokehJS code because BokehJS library is missing\");\n",
       "        }\n",
       "      }\n",
       "    }, 25, root)\n",
       "  }\n",
       "})(window);</script>"
      ],
      "text/plain": [
       "Column\n",
       "    [0] Markdown(str)\n",
       "    [1] Tabs\n",
       "        [0] Column(width=600)\n",
       "            [0] Markdown(str)\n",
       "            [1] Column\n",
       "                [0] Column\n",
       "                    [0] TextInput(name='Your Address', placeholder='Please enter y...)\n",
       "                    [1] TextInput(name='Your Address', placeholder='Please enter y...)\n",
       "                [1] Row\n",
       "                    [0] Str(None, name='interactive02703')\n",
       "        [1] Column(width=600)\n",
       "            [0] Markdown(str)\n",
       "            [1] Column\n",
       "                [0] Column\n",
       "                    [0] FileInput(accept='.csv')\n",
       "                [1] Row\n",
       "                    [0] Str(None, name='interactive02713')"
      ]
     },
     "execution_count": 35,
     "metadata": {
      "application/vnd.holoviews_exec.v0+json": {
       "id": "1369"
      }
     },
     "output_type": "execute_result"
    }
   ],
   "source": [
    "# Put everything together into this dashboard and serve it\n",
    "property_opening_message = \"\"\"Please enter your Full Address and Purchase Price  <br />\n",
    "This program will have you understand how is your property tracking in the current market\"\"\"\n",
    "\n",
    "property_price_message = \"\"\"Please enter your purchase price <br />\n",
    "This program will give the purchase price\"\"\"\n",
    "\n",
    "#property_opening_column = pn.Column(property_opening_message,\n",
    "#                                   interact(property_top_level, \n",
    "#                                            address=widgets.TextInput(name=\"Your Address\", placeholder=\"Please enter your address here\")),\n",
    "#                                   width=600)\n",
    "#@interact(address=widgets.TextInput(name=\"Your Address\")\n",
    "property_opening_column = pn.Column(property_opening_message,\n",
    "                                  interact(property_top_level, \n",
    "                                        address=widgets.TextInput(name=\"Your Address\", placeholder=\"Please enter your address here\"),\n",
    "                                        valuation=widgets.TextInput(name=\"Your Address\", placeholder=\"Please enter your address here\")),\n",
    "                                   width=600)\n",
    "\n",
    "stock_opening_message = \"\"\"Please upload a .csv file with your stock symbol, purchase date, and purchase amount  <br />\n",
    "Please use the following column names in your csv: symbol, date, amount\"\"\"\n",
    "\n",
    "stock_analysis_opening_column = pn.Column(stock_opening_message, \n",
    "                                          interact(stock_top_level, stocks=widgets.FileInput(accept=\".csv\")),\n",
    "                                         width = 600)\n",
    "\n",
    "tabs = pn.Tabs(\n",
    "    (\"Property Analysis\", \n",
    "     property_opening_column),\n",
    "    (\"Stock Portfolio Analysis\",\n",
    "    stock_analysis_opening_column)\n",
    ")   \n",
    "dashboard = pn.Column(title, tabs)\n",
    "dashboard.servable()"
   ]
  },
  {
   "cell_type": "code",
   "execution_count": 75,
   "id": "1eb6df82",
   "metadata": {},
   "outputs": [
    {
     "name": "stdout",
     "output_type": "stream",
     "text": [
      "[100000, 100000, 100000, 100000, 100000, 100000]\n",
      "   Years  Median Sold Price  Number of Sales  Purchase Price\n",
      "0   2016           570000.0              159          100000\n",
      "1   2017           610000.0              182          100000\n",
      "2   2018           619000.0              138          100000\n",
      "3   2019           590000.0               95          100000\n",
      "4   2020           580000.0              142          100000\n",
      "5   2021           590000.0              180          100000\n"
     ]
    },
    {
     "ename": "TypeError",
     "evalue": "unhashable type: 'list'",
     "output_type": "error",
     "traceback": [
      "\u001b[1;31m---------------------------------------------------------------------------\u001b[0m",
      "\u001b[1;31mTypeError\u001b[0m                                 Traceback (most recent call last)",
      "\u001b[1;32m~\\AppData\\Local\\Temp/ipykernel_10428/2053580296.py\u001b[0m in \u001b[0;36m<module>\u001b[1;34m\u001b[0m\n\u001b[1;32m----> 1\u001b[1;33m \u001b[0mproperty_top_level\u001b[0m\u001b[1;33m(\u001b[0m\u001b[1;34m\"unit 15 10 12 third avenue campsie\"\u001b[0m\u001b[1;33m,\u001b[0m \u001b[1;34m\"100000\"\u001b[0m\u001b[1;33m)\u001b[0m\u001b[1;33m\u001b[0m\u001b[1;33m\u001b[0m\u001b[0m\n\u001b[0m",
      "\u001b[1;32m~\\AppData\\Local\\Temp/ipykernel_10428/3406371349.py\u001b[0m in \u001b[0;36mproperty_top_level\u001b[1;34m(address, valuation)\u001b[0m\n\u001b[0;32m     61\u001b[0m \u001b[1;33m\u001b[0m\u001b[0m\n\u001b[0;32m     62\u001b[0m \u001b[1;33m\u001b[0m\u001b[0m\n\u001b[1;32m---> 63\u001b[1;33m     \u001b[0msuburb_data_row\u001b[0m \u001b[1;33m=\u001b[0m \u001b[0mpn\u001b[0m\u001b[1;33m.\u001b[0m\u001b[0mRow\u001b[0m\u001b[1;33m(\u001b[0m\u001b[0msuburb_price_chart\u001b[0m\u001b[1;33m(\u001b[0m\u001b[0mgrowth_df\u001b[0m\u001b[1;33m)\u001b[0m\u001b[1;33m,\u001b[0m \u001b[0msuburb_sale_chart\u001b[0m\u001b[1;33m(\u001b[0m\u001b[0mgrowth_df\u001b[0m\u001b[1;33m)\u001b[0m\u001b[1;33m,\u001b[0m \u001b[0mpurchase_vs_median\u001b[0m\u001b[1;33m(\u001b[0m\u001b[0mgrowth_df\u001b[0m\u001b[1;33m)\u001b[0m\u001b[1;33m)\u001b[0m\u001b[1;33m\u001b[0m\u001b[1;33m\u001b[0m\u001b[0m\n\u001b[0m\u001b[0;32m     64\u001b[0m \u001b[1;33m\u001b[0m\u001b[0m\n\u001b[0;32m     65\u001b[0m     \u001b[0mtest_column\u001b[0m \u001b[1;33m=\u001b[0m \u001b[0mpn\u001b[0m\u001b[1;33m.\u001b[0m\u001b[0mColumn\u001b[0m\u001b[1;33m(\u001b[0m\u001b[0minfo_string\u001b[0m\u001b[1;33m,\u001b[0m \u001b[0msuburb_data_row\u001b[0m\u001b[1;33m)\u001b[0m\u001b[1;33m\u001b[0m\u001b[1;33m\u001b[0m\u001b[0m\n",
      "\u001b[1;32m~\\AppData\\Local\\Temp/ipykernel_10428/3659706927.py\u001b[0m in \u001b[0;36mpurchase_vs_median\u001b[1;34m(growth_df)\u001b[0m\n\u001b[0;32m      3\u001b[0m     return growth_df.hvplot.bar(\n\u001b[0;32m      4\u001b[0m         \u001b[0mtitle\u001b[0m \u001b[1;33m=\u001b[0m \u001b[1;34m\"Purchase Price vs Median Sold Price\"\u001b[0m\u001b[1;33m,\u001b[0m\u001b[1;33m\u001b[0m\u001b[1;33m\u001b[0m\u001b[0m\n\u001b[1;32m----> 5\u001b[1;33m         \u001b[0mx\u001b[0m \u001b[1;33m=\u001b[0m \u001b[1;33m[\u001b[0m\u001b[1;34m\"Purchase Price\"\u001b[0m\u001b[1;33m]\u001b[0m\u001b[1;33m\u001b[0m\u001b[1;33m\u001b[0m\u001b[0m\n\u001b[0m\u001b[0;32m      6\u001b[0m     \u001b[1;33m)\u001b[0m\u001b[1;33m.\u001b[0m\u001b[0mopts\u001b[0m\u001b[1;33m(\u001b[0m\u001b[1;33m\u001b[0m\u001b[1;33m\u001b[0m\u001b[0m\n\u001b[0;32m      7\u001b[0m         \u001b[0myformatter\u001b[0m\u001b[1;33m=\u001b[0m\u001b[1;34m\"%.0f\"\u001b[0m\u001b[1;33m\u001b[0m\u001b[1;33m\u001b[0m\u001b[0m\n",
      "\u001b[1;32m~\\anaconda3\\envs\\pyvizenv\\lib\\site-packages\\hvplot\\plotting\\core.py\u001b[0m in \u001b[0;36mbar\u001b[1;34m(self, x, y, **kwds)\u001b[0m\n\u001b[0;32m    351\u001b[0m             \u001b[0mThe\u001b[0m \u001b[0mHoloViews\u001b[0m \u001b[0mrepresentation\u001b[0m \u001b[0mof\u001b[0m \u001b[0mthe\u001b[0m \u001b[0mplot\u001b[0m\u001b[1;33m.\u001b[0m\u001b[1;33m\u001b[0m\u001b[1;33m\u001b[0m\u001b[0m\n\u001b[0;32m    352\u001b[0m         \"\"\"\n\u001b[1;32m--> 353\u001b[1;33m         \u001b[1;32mreturn\u001b[0m \u001b[0mself\u001b[0m\u001b[1;33m(\u001b[0m\u001b[0mx\u001b[0m\u001b[1;33m,\u001b[0m \u001b[0my\u001b[0m\u001b[1;33m,\u001b[0m \u001b[0mkind\u001b[0m\u001b[1;33m=\u001b[0m\u001b[1;34m'bar'\u001b[0m\u001b[1;33m,\u001b[0m \u001b[1;33m**\u001b[0m\u001b[0mkwds\u001b[0m\u001b[1;33m)\u001b[0m\u001b[1;33m\u001b[0m\u001b[1;33m\u001b[0m\u001b[0m\n\u001b[0m\u001b[0;32m    354\u001b[0m \u001b[1;33m\u001b[0m\u001b[0m\n\u001b[0;32m    355\u001b[0m     \u001b[1;32mdef\u001b[0m \u001b[0mbarh\u001b[0m\u001b[1;33m(\u001b[0m\u001b[0mself\u001b[0m\u001b[1;33m,\u001b[0m \u001b[0mx\u001b[0m\u001b[1;33m=\u001b[0m\u001b[1;32mNone\u001b[0m\u001b[1;33m,\u001b[0m \u001b[0my\u001b[0m\u001b[1;33m=\u001b[0m\u001b[1;32mNone\u001b[0m\u001b[1;33m,\u001b[0m \u001b[1;33m**\u001b[0m\u001b[0mkwds\u001b[0m\u001b[1;33m)\u001b[0m\u001b[1;33m:\u001b[0m\u001b[1;33m\u001b[0m\u001b[1;33m\u001b[0m\u001b[0m\n",
      "\u001b[1;32m~\\anaconda3\\envs\\pyvizenv\\lib\\site-packages\\hvplot\\plotting\\core.py\u001b[0m in \u001b[0;36m__call__\u001b[1;34m(self, x, y, kind, **kwds)\u001b[0m\n\u001b[0;32m     77\u001b[0m                 \u001b[1;32mreturn\u001b[0m \u001b[0mpn\u001b[0m\u001b[1;33m.\u001b[0m\u001b[0mpanel\u001b[0m\u001b[1;33m(\u001b[0m\u001b[0mplot\u001b[0m\u001b[1;33m,\u001b[0m \u001b[1;33m**\u001b[0m\u001b[0mpanel_dict\u001b[0m\u001b[1;33m)\u001b[0m\u001b[1;33m\u001b[0m\u001b[1;33m\u001b[0m\u001b[0m\n\u001b[0;32m     78\u001b[0m \u001b[1;33m\u001b[0m\u001b[0m\n\u001b[1;32m---> 79\u001b[1;33m         \u001b[1;32mreturn\u001b[0m \u001b[0mself\u001b[0m\u001b[1;33m.\u001b[0m\u001b[0m_get_converter\u001b[0m\u001b[1;33m(\u001b[0m\u001b[0mx\u001b[0m\u001b[1;33m,\u001b[0m \u001b[0my\u001b[0m\u001b[1;33m,\u001b[0m \u001b[0mkind\u001b[0m\u001b[1;33m,\u001b[0m \u001b[1;33m**\u001b[0m\u001b[0mkwds\u001b[0m\u001b[1;33m)\u001b[0m\u001b[1;33m(\u001b[0m\u001b[0mkind\u001b[0m\u001b[1;33m,\u001b[0m \u001b[0mx\u001b[0m\u001b[1;33m,\u001b[0m \u001b[0my\u001b[0m\u001b[1;33m)\u001b[0m\u001b[1;33m\u001b[0m\u001b[1;33m\u001b[0m\u001b[0m\n\u001b[0m\u001b[0;32m     80\u001b[0m \u001b[1;33m\u001b[0m\u001b[0m\n\u001b[0;32m     81\u001b[0m     \u001b[1;32mdef\u001b[0m \u001b[0m_get_converter\u001b[0m\u001b[1;33m(\u001b[0m\u001b[0mself\u001b[0m\u001b[1;33m,\u001b[0m \u001b[0mx\u001b[0m\u001b[1;33m=\u001b[0m\u001b[1;32mNone\u001b[0m\u001b[1;33m,\u001b[0m \u001b[0my\u001b[0m\u001b[1;33m=\u001b[0m\u001b[1;32mNone\u001b[0m\u001b[1;33m,\u001b[0m \u001b[0mkind\u001b[0m\u001b[1;33m=\u001b[0m\u001b[1;32mNone\u001b[0m\u001b[1;33m,\u001b[0m \u001b[1;33m**\u001b[0m\u001b[0mkwds\u001b[0m\u001b[1;33m)\u001b[0m\u001b[1;33m:\u001b[0m\u001b[1;33m\u001b[0m\u001b[1;33m\u001b[0m\u001b[0m\n",
      "\u001b[1;32m~\\anaconda3\\envs\\pyvizenv\\lib\\site-packages\\hvplot\\converter.py\u001b[0m in \u001b[0;36m__call__\u001b[1;34m(self, kind, x, y)\u001b[0m\n\u001b[0;32m   1135\u001b[0m                         \u001b[0mdataset\u001b[0m \u001b[1;33m=\u001b[0m \u001b[0mDataset\u001b[0m\u001b[1;33m(\u001b[0m\u001b[0mdata\u001b[0m\u001b[1;33m)\u001b[0m\u001b[1;33m\u001b[0m\u001b[1;33m\u001b[0m\u001b[0m\n\u001b[0;32m   1136\u001b[0m                     \u001b[0mdataset\u001b[0m \u001b[1;33m=\u001b[0m \u001b[0mdataset\u001b[0m\u001b[1;33m.\u001b[0m\u001b[0mredim\u001b[0m\u001b[1;33m(\u001b[0m\u001b[1;33m**\u001b[0m\u001b[0mself\u001b[0m\u001b[1;33m.\u001b[0m\u001b[0m_redim\u001b[0m\u001b[1;33m)\u001b[0m\u001b[1;33m\u001b[0m\u001b[1;33m\u001b[0m\u001b[0m\n\u001b[1;32m-> 1137\u001b[1;33m                 \u001b[0mobj\u001b[0m \u001b[1;33m=\u001b[0m \u001b[0mmethod\u001b[0m\u001b[1;33m(\u001b[0m\u001b[0mx\u001b[0m\u001b[1;33m,\u001b[0m \u001b[0my\u001b[0m\u001b[1;33m)\u001b[0m\u001b[1;33m\u001b[0m\u001b[1;33m\u001b[0m\u001b[0m\n\u001b[0m\u001b[0;32m   1138\u001b[0m                 \u001b[0mobj\u001b[0m\u001b[1;33m.\u001b[0m\u001b[0m_dataset\u001b[0m \u001b[1;33m=\u001b[0m \u001b[0mdataset\u001b[0m\u001b[1;33m\u001b[0m\u001b[1;33m\u001b[0m\u001b[0m\n\u001b[0;32m   1139\u001b[0m \u001b[1;33m\u001b[0m\u001b[0m\n",
      "\u001b[1;32m~\\anaconda3\\envs\\pyvizenv\\lib\\site-packages\\hvplot\\converter.py\u001b[0m in \u001b[0;36mbar\u001b[1;34m(self, x, y, data)\u001b[0m\n\u001b[0;32m   1522\u001b[0m \u001b[1;33m\u001b[0m\u001b[0m\n\u001b[0;32m   1523\u001b[0m     \u001b[1;32mdef\u001b[0m \u001b[0mbar\u001b[0m\u001b[1;33m(\u001b[0m\u001b[0mself\u001b[0m\u001b[1;33m,\u001b[0m \u001b[0mx\u001b[0m\u001b[1;33m=\u001b[0m\u001b[1;32mNone\u001b[0m\u001b[1;33m,\u001b[0m \u001b[0my\u001b[0m\u001b[1;33m=\u001b[0m\u001b[1;32mNone\u001b[0m\u001b[1;33m,\u001b[0m \u001b[0mdata\u001b[0m\u001b[1;33m=\u001b[0m\u001b[1;32mNone\u001b[0m\u001b[1;33m)\u001b[0m\u001b[1;33m:\u001b[0m\u001b[1;33m\u001b[0m\u001b[1;33m\u001b[0m\u001b[0m\n\u001b[1;32m-> 1524\u001b[1;33m         \u001b[0mdata\u001b[0m\u001b[1;33m,\u001b[0m \u001b[0mx\u001b[0m\u001b[1;33m,\u001b[0m \u001b[0my\u001b[0m \u001b[1;33m=\u001b[0m \u001b[0mself\u001b[0m\u001b[1;33m.\u001b[0m\u001b[0m_process_chart_args\u001b[0m\u001b[1;33m(\u001b[0m\u001b[0mdata\u001b[0m\u001b[1;33m,\u001b[0m \u001b[0mx\u001b[0m\u001b[1;33m,\u001b[0m \u001b[0my\u001b[0m\u001b[1;33m,\u001b[0m \u001b[0mcategories\u001b[0m\u001b[1;33m=\u001b[0m\u001b[0mself\u001b[0m\u001b[1;33m.\u001b[0m\u001b[0mby\u001b[0m\u001b[1;33m)\u001b[0m\u001b[1;33m\u001b[0m\u001b[1;33m\u001b[0m\u001b[0m\n\u001b[0m\u001b[0;32m   1525\u001b[0m         \u001b[1;32mif\u001b[0m \u001b[1;33m(\u001b[0m\u001b[0mx\u001b[0m \u001b[1;32mor\u001b[0m \u001b[0mself\u001b[0m\u001b[1;33m.\u001b[0m\u001b[0mby\u001b[0m\u001b[1;33m)\u001b[0m \u001b[1;32mand\u001b[0m \u001b[0my\u001b[0m \u001b[1;32mand\u001b[0m \u001b[1;33m(\u001b[0m\u001b[0mself\u001b[0m\u001b[1;33m.\u001b[0m\u001b[0mby\u001b[0m \u001b[1;32mor\u001b[0m \u001b[1;32mnot\u001b[0m \u001b[0misinstance\u001b[0m\u001b[1;33m(\u001b[0m\u001b[0my\u001b[0m\u001b[1;33m,\u001b[0m \u001b[1;33m(\u001b[0m\u001b[0mlist\u001b[0m\u001b[1;33m,\u001b[0m \u001b[0mtuple\u001b[0m\u001b[1;33m)\u001b[0m \u001b[1;32mor\u001b[0m \u001b[0mlen\u001b[0m\u001b[1;33m(\u001b[0m\u001b[0my\u001b[0m\u001b[1;33m)\u001b[0m \u001b[1;33m==\u001b[0m \u001b[1;36m1\u001b[0m\u001b[1;33m)\u001b[0m\u001b[1;33m)\u001b[0m\u001b[1;33m:\u001b[0m\u001b[1;33m\u001b[0m\u001b[1;33m\u001b[0m\u001b[0m\n\u001b[0;32m   1526\u001b[0m             \u001b[0my\u001b[0m \u001b[1;33m=\u001b[0m \u001b[0my\u001b[0m\u001b[1;33m[\u001b[0m\u001b[1;36m0\u001b[0m\u001b[1;33m]\u001b[0m \u001b[1;32mif\u001b[0m \u001b[0misinstance\u001b[0m\u001b[1;33m(\u001b[0m\u001b[0my\u001b[0m\u001b[1;33m,\u001b[0m \u001b[1;33m(\u001b[0m\u001b[0mlist\u001b[0m\u001b[1;33m,\u001b[0m \u001b[0mtuple\u001b[0m\u001b[1;33m)\u001b[0m\u001b[1;33m)\u001b[0m \u001b[1;32melse\u001b[0m \u001b[0my\u001b[0m\u001b[1;33m\u001b[0m\u001b[1;33m\u001b[0m\u001b[0m\n",
      "\u001b[1;32m~\\anaconda3\\envs\\pyvizenv\\lib\\site-packages\\hvplot\\converter.py\u001b[0m in \u001b[0;36m_process_chart_args\u001b[1;34m(self, data, x, y, single_y, categories)\u001b[0m\n\u001b[0;32m   1417\u001b[0m                 \u001b[1;32mif\u001b[0m \u001b[0mis_datetime\u001b[0m\u001b[1;33m(\u001b[0m\u001b[0mdata\u001b[0m\u001b[1;33m.\u001b[0m\u001b[0maxes\u001b[0m\u001b[1;33m[\u001b[0m\u001b[0mindex\u001b[0m\u001b[1;33m]\u001b[0m\u001b[1;33m)\u001b[0m\u001b[1;33m:\u001b[0m\u001b[1;33m\u001b[0m\u001b[1;33m\u001b[0m\u001b[0m\n\u001b[0;32m   1418\u001b[0m                     \u001b[0mdata\u001b[0m \u001b[1;33m=\u001b[0m \u001b[0mdata\u001b[0m\u001b[1;33m.\u001b[0m\u001b[0msort_index\u001b[0m\u001b[1;33m(\u001b[0m\u001b[0maxis\u001b[0m\u001b[1;33m=\u001b[0m\u001b[0mself\u001b[0m\u001b[1;33m.\u001b[0m\u001b[0mindexes\u001b[0m\u001b[1;33m.\u001b[0m\u001b[0mindex\u001b[0m\u001b[1;33m(\u001b[0m\u001b[0mx\u001b[0m\u001b[1;33m)\u001b[0m\u001b[1;33m)\u001b[0m\u001b[1;33m\u001b[0m\u001b[1;33m\u001b[0m\u001b[0m\n\u001b[1;32m-> 1419\u001b[1;33m             \u001b[1;32melif\u001b[0m \u001b[0mx\u001b[0m \u001b[1;32min\u001b[0m \u001b[0mdata\u001b[0m\u001b[1;33m.\u001b[0m\u001b[0mcolumns\u001b[0m\u001b[1;33m:\u001b[0m\u001b[1;33m\u001b[0m\u001b[1;33m\u001b[0m\u001b[0m\n\u001b[0m\u001b[0;32m   1420\u001b[0m                 \u001b[1;32mif\u001b[0m \u001b[0mis_datetime\u001b[0m\u001b[1;33m(\u001b[0m\u001b[0mdata\u001b[0m\u001b[1;33m[\u001b[0m\u001b[0mx\u001b[0m\u001b[1;33m]\u001b[0m\u001b[1;33m)\u001b[0m\u001b[1;33m:\u001b[0m\u001b[1;33m\u001b[0m\u001b[1;33m\u001b[0m\u001b[0m\n\u001b[0;32m   1421\u001b[0m                     \u001b[0mdata\u001b[0m \u001b[1;33m=\u001b[0m \u001b[0mdata\u001b[0m\u001b[1;33m.\u001b[0m\u001b[0msort_values\u001b[0m\u001b[1;33m(\u001b[0m\u001b[0mx\u001b[0m\u001b[1;33m)\u001b[0m\u001b[1;33m\u001b[0m\u001b[1;33m\u001b[0m\u001b[0m\n",
      "\u001b[1;32m~\\anaconda3\\envs\\pyvizenv\\lib\\site-packages\\pandas\\core\\indexes\\base.py\u001b[0m in \u001b[0;36m__contains__\u001b[1;34m(self, key)\u001b[0m\n\u001b[0;32m   4570\u001b[0m         \u001b[1;32mFalse\u001b[0m\u001b[1;33m\u001b[0m\u001b[1;33m\u001b[0m\u001b[0m\n\u001b[0;32m   4571\u001b[0m         \"\"\"\n\u001b[1;32m-> 4572\u001b[1;33m         \u001b[0mhash\u001b[0m\u001b[1;33m(\u001b[0m\u001b[0mkey\u001b[0m\u001b[1;33m)\u001b[0m\u001b[1;33m\u001b[0m\u001b[1;33m\u001b[0m\u001b[0m\n\u001b[0m\u001b[0;32m   4573\u001b[0m         \u001b[1;32mtry\u001b[0m\u001b[1;33m:\u001b[0m\u001b[1;33m\u001b[0m\u001b[1;33m\u001b[0m\u001b[0m\n\u001b[0;32m   4574\u001b[0m             \u001b[1;32mreturn\u001b[0m \u001b[0mkey\u001b[0m \u001b[1;32min\u001b[0m \u001b[0mself\u001b[0m\u001b[1;33m.\u001b[0m\u001b[0m_engine\u001b[0m\u001b[1;33m\u001b[0m\u001b[1;33m\u001b[0m\u001b[0m\n",
      "\u001b[1;31mTypeError\u001b[0m: unhashable type: 'list'"
     ]
    }
   ],
   "source": [
    "property_top_level(\"unit 15 10 12 third avenue campsie\", \"100000\")"
   ]
  },
  {
   "cell_type": "code",
   "execution_count": null,
   "id": "52b35a62",
   "metadata": {},
   "outputs": [],
   "source": []
  },
  {
   "cell_type": "code",
   "execution_count": null,
   "id": "fed2cd85",
   "metadata": {},
   "outputs": [],
   "source": []
  },
  {
   "cell_type": "code",
   "execution_count": null,
   "id": "a56afa50",
   "metadata": {},
   "outputs": [],
   "source": []
  }
 ],
 "metadata": {
  "kernelspec": {
   "display_name": "Python [conda env:pyvizenv] *",
   "language": "python",
   "name": "conda-env-pyvizenv-py"
  },
  "language_info": {
   "codemirror_mode": {
    "name": "ipython",
    "version": 3
   },
   "file_extension": ".py",
   "mimetype": "text/x-python",
   "name": "python",
   "nbconvert_exporter": "python",
   "pygments_lexer": "ipython3",
   "version": "3.7.11"
  }
 },
 "nbformat": 4,
 "nbformat_minor": 5
}
