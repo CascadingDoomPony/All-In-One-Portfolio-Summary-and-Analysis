{
 "cells": [
  {
   "cell_type": "code",
   "execution_count": 52,
   "id": "6ba76282",
   "metadata": {},
   "outputs": [],
   "source": [
    "# Initialisation\n",
    "import os\n",
    "import io\n",
    "import requests\n",
    "import json\n",
    "import pandas as pd\n",
    "import urllib.parse as url\n",
    "import hvplot.pandas\n",
    "import alpaca_trade_api as tradeapi\n",
    "#import matplotlib.pyplot as plt\n",
    "from dotenv import load_dotenv"
   ]
  },
  {
   "cell_type": "code",
   "execution_count": 53,
   "id": "20e8aa5b",
   "metadata": {},
   "outputs": [],
   "source": [
    "# Initialised\n",
    "import panel as pn\n",
    "from panel.interact import interact\n",
    "from panel import widgets\n",
    "pn.extension()"
   ]
  },
  {
   "cell_type": "code",
   "execution_count": 61,
   "id": "a0915904",
   "metadata": {},
   "outputs": [],
   "source": [
    "load_dotenv()\n",
    "api_key = os.getenv(\"DOMAIN_API_KEY\")\n",
    "# Set Alpaca API key and secret\n",
    "alpaca_api_key = os.getenv(\"ALPACA_API_KEY\")\n",
    "alpaca_secret_key = os.getenv(\"ALPACA_SECRET_KEY\")\n",
    "\n",
    "# Create the Alpaca API object\n",
    "alpaca_api = tradeapi.REST(\n",
    "    alpaca_api_key,\n",
    "    alpaca_secret_key,\n",
    "    api_version = \"v2\"\n",
    ")"
   ]
  },
  {
   "cell_type": "code",
   "execution_count": 19,
   "id": "7ec6d0a9",
   "metadata": {},
   "outputs": [
    {
     "name": "stderr",
     "output_type": "stream",
     "text": [
      "\n",
      "Bad key text.latex.preview in file C:\\Users\\Kevin\\anaconda3\\envs\\pyvizenv\\lib\\site-packages\\matplotlib\\mpl-data\\stylelib\\_classic_test.mplstyle, line 123 ('text.latex.preview : False')\n",
      "You probably need to get an updated matplotlibrc file from\n",
      "https://github.com/matplotlib/matplotlib/blob/v3.5.0/matplotlibrc.template\n",
      "or from the matplotlib source distribution\n",
      "\n",
      "Bad key mathtext.fallback_to_cm in file C:\\Users\\Kevin\\anaconda3\\envs\\pyvizenv\\lib\\site-packages\\matplotlib\\mpl-data\\stylelib\\_classic_test.mplstyle, line 155 ('mathtext.fallback_to_cm : True  # When True, use symbols from the Computer Modern')\n",
      "You probably need to get an updated matplotlibrc file from\n",
      "https://github.com/matplotlib/matplotlib/blob/v3.5.0/matplotlibrc.template\n",
      "or from the matplotlib source distribution\n",
      "\n",
      "Bad key savefig.jpeg_quality in file C:\\Users\\Kevin\\anaconda3\\envs\\pyvizenv\\lib\\site-packages\\matplotlib\\mpl-data\\stylelib\\_classic_test.mplstyle, line 418 ('savefig.jpeg_quality: 95       # when a jpeg is saved, the default quality parameter.')\n",
      "You probably need to get an updated matplotlibrc file from\n",
      "https://github.com/matplotlib/matplotlib/blob/v3.5.0/matplotlibrc.template\n",
      "or from the matplotlib source distribution\n",
      "\n",
      "Bad key savefig.frameon in file C:\\Users\\Kevin\\anaconda3\\envs\\pyvizenv\\lib\\site-packages\\matplotlib\\mpl-data\\stylelib\\_classic_test.mplstyle, line 421 ('savefig.frameon : True')\n",
      "You probably need to get an updated matplotlibrc file from\n",
      "https://github.com/matplotlib/matplotlib/blob/v3.5.0/matplotlibrc.template\n",
      "or from the matplotlib source distribution\n",
      "\n",
      "Bad key verbose.level in file C:\\Users\\Kevin\\anaconda3\\envs\\pyvizenv\\lib\\site-packages\\matplotlib\\mpl-data\\stylelib\\_classic_test.mplstyle, line 472 ('verbose.level  : silent      # one of silent, helpful, debug, debug-annoying')\n",
      "You probably need to get an updated matplotlibrc file from\n",
      "https://github.com/matplotlib/matplotlib/blob/v3.5.0/matplotlibrc.template\n",
      "or from the matplotlib source distribution\n",
      "\n",
      "Bad key verbose.fileo in file C:\\Users\\Kevin\\anaconda3\\envs\\pyvizenv\\lib\\site-packages\\matplotlib\\mpl-data\\stylelib\\_classic_test.mplstyle, line 473 ('verbose.fileo  : sys.stdout  # a log filename, sys.stdout or sys.stderr')\n",
      "You probably need to get an updated matplotlibrc file from\n",
      "https://github.com/matplotlib/matplotlib/blob/v3.5.0/matplotlibrc.template\n",
      "or from the matplotlib source distribution\n",
      "\n",
      "Bad key keymap.all_axes in file C:\\Users\\Kevin\\anaconda3\\envs\\pyvizenv\\lib\\site-packages\\matplotlib\\mpl-data\\stylelib\\_classic_test.mplstyle, line 490 ('keymap.all_axes : a                 # enable all axes')\n",
      "You probably need to get an updated matplotlibrc file from\n",
      "https://github.com/matplotlib/matplotlib/blob/v3.5.0/matplotlibrc.template\n",
      "or from the matplotlib source distribution\n",
      "\n",
      "Bad key animation.avconv_path in file C:\\Users\\Kevin\\anaconda3\\envs\\pyvizenv\\lib\\site-packages\\matplotlib\\mpl-data\\stylelib\\_classic_test.mplstyle, line 501 ('animation.avconv_path: avconv     # Path to avconv binary. Without full path')\n",
      "You probably need to get an updated matplotlibrc file from\n",
      "https://github.com/matplotlib/matplotlib/blob/v3.5.0/matplotlibrc.template\n",
      "or from the matplotlib source distribution\n",
      "\n",
      "Bad key animation.avconv_args in file C:\\Users\\Kevin\\anaconda3\\envs\\pyvizenv\\lib\\site-packages\\matplotlib\\mpl-data\\stylelib\\_classic_test.mplstyle, line 503 ('animation.avconv_args:            # Additional arguments to pass to avconv')\n",
      "You probably need to get an updated matplotlibrc file from\n",
      "https://github.com/matplotlib/matplotlib/blob/v3.5.0/matplotlibrc.template\n",
      "or from the matplotlib source distribution\n"
     ]
    }
   ],
   "source": [
    "%matplotlib inline"
   ]
  },
  {
   "cell_type": "code",
   "execution_count": 5,
   "id": "cbead5dc",
   "metadata": {},
   "outputs": [],
   "source": [
    "title = \"All In One Portfolio Summary and Analysis\""
   ]
  },
  {
   "cell_type": "code",
   "execution_count": 6,
   "id": "97bcf753",
   "metadata": {},
   "outputs": [],
   "source": [
    "# REQUEST CALL DOMAIN.COM.AU: This api call will, given a string, finds the property address that closest matches the string\n",
    "# and returns the address in full as a string, each address components in its own string, and a unique ID for the given address.\n",
    "# We will return all this data in a df\n",
    "def address_suggest(address):\n",
    "    if not address:\n",
    "        return\n",
    "    address_url = url.quote(address)\n",
    "    request_url = f\"https://api.domain.com.au/v1/properties/_suggest?terms={address_url}&pageSize=1&api_key={api_key}\"\n",
    "    get_request = requests.get(request_url)\n",
    "\n",
    "    # Data formatting\n",
    "    data = get_request.json()\n",
    "    # Extract data\n",
    "    full_address = data[0][\"address\"]\n",
    "    address_data = data[0][\"addressComponents\"]\n",
    "    location_id = data[0][\"id\"]\n",
    "    \n",
    "    \n",
    "    # Address_data is already a dict so we need to combine everything with update\n",
    "    all_data = {\n",
    "        \"full_address\": full_address,\n",
    "        \"id\": location_id\n",
    "    }\n",
    "    all_data.update(address_data)\n",
    "    # Put data into df\n",
    "    # Df will have a single row. All data in their own columns with their own names\n",
    "    address_df = pd.DataFrame([all_data])\n",
    "    return address_df"
   ]
  },
  {
   "cell_type": "code",
   "execution_count": 17,
   "id": "3ce3877a",
   "metadata": {},
   "outputs": [],
   "source": [
    "# Address locators: this request will return a unique identifier for the following address levels:\n",
    "# Address, street, suburb, postcode\n",
    "\n",
    "def address_locators(address_df, level, building_type):\n",
    "\n",
    "    if building_type == \"unit\":\n",
    "        unit = address_df.iloc[0][\"unitNumber\"]\n",
    "    else:\n",
    "        unit = None\n",
    "    street_num = address_df.iloc[0][\"streetNumber\"]\n",
    "    street_name = address_df.iloc[0][\"streetName\"]\n",
    "    street_type = address_df.iloc[0][\"streetType\"]\n",
    "    suburb = address_df.iloc[0][\"suburb\"]\n",
    "    post_code = address_df.iloc[0][\"postCode\"]\n",
    "    state = address_df.iloc[0][\"state\"]\n",
    "    \n",
    "    # Check if building is actually a unit\n",
    "    if building_type:\n",
    "        request_url = f\"https://api.domain.com.au/v1/addressLocators?searchLevel={level}&unitNumber={unit}&streetNumber={street_num}&streetName={street_name}&streetType={street_type}&suburb={suburb}&state={state}&postcode={post_code}&api_key={api_key}\"\n",
    "\n",
    "    else:\n",
    "        request_url = f\"https://api.domain.com.au/v1/addressLocators?searchLevel={level}&streetNumber={street_num}&streetName={street_name}&streetType={street_type}&suburb={suburb}&state={state}&postcode={post_code}&api_key={api_key}\"\n",
    "\n",
    "    get_request = requests.get(request_url)\n",
    "\n",
    "    # Data formatting\n",
    "    data = get_request.json()\n",
    "    print(data)\n",
    "    combined_id_data = {}\n",
    "    for loc_id in data[0][\"ids\"]:\n",
    "        combined_id_data.update({loc_id[\"level\"]+\" id\": loc_id[\"id\"]})\n",
    "    \n",
    "    id_df = pd.DataFrame([combined_id_data])\n",
    "    \n",
    "    return id_df"
   ]
  },
  {
   "cell_type": "code",
   "execution_count": 8,
   "id": "daa62efe",
   "metadata": {},
   "outputs": [],
   "source": [
    "# Properties: Using a given property id provided by _suggest, this request gives an info dump on the characteristics of the property\n",
    "# For now just returning all data since I do not know exactly what data is required\n",
    "def properties(prop_id):\n",
    "    request_url = f\"https://api.domain.com.au/v1/properties/{prop_id}?api_key={api_key}\"\n",
    "    get_request = requests.get(request_url)\n",
    "    data = get_request.json()\n",
    "    return data"
   ]
  },
  {
   "cell_type": "code",
   "execution_count": 9,
   "id": "0e5c4a7c",
   "metadata": {},
   "outputs": [],
   "source": [
    "# Location profiles: this request gives an info dump of a given location based on the suburb id given. \n",
    "# ID must come from Address Locator request\n",
    "def location_profiles(suburb_id):\n",
    "    request_url = f\"https://api.domain.com.au/v1/locations/profiles/{suburb_id}?api_key={api_key}\"\n",
    "    get_request = requests.get(request_url)\n",
    "    data = get_request.json()\n",
    "    return data"
   ]
  },
  {
   "cell_type": "code",
   "execution_count": 10,
   "id": "be6216c5",
   "metadata": {},
   "outputs": [
    {
     "data": {
      "text/plain": [
       "'# Line chart code from previous homework\\ndef create_line_chart(data, title, xlabel, ylabel):\\n    return data.hvplot.line(\\n        title=title, \\n        xlabel=xlabel, \\n        ylabel=ylabel\\n    ).opts(\\n        # Format Y to not use scientific notation and increase width so the chart doesn\\'t look squished \\n        yformatter=\"%.0f\",\\n        frame_width = 500\\n    )'"
      ]
     },
     "execution_count": 10,
     "metadata": {},
     "output_type": "execute_result"
    }
   ],
   "source": [
    "\"\"\"# Line chart code from previous homework\n",
    "def create_line_chart(data, title, xlabel, ylabel):\n",
    "    return data.hvplot.line(\n",
    "        title=title, \n",
    "        xlabel=xlabel, \n",
    "        ylabel=ylabel\n",
    "    ).opts(\n",
    "        # Format Y to not use scientific notation and increase width so the chart doesn't look squished \n",
    "        yformatter=\"%.0f\",\n",
    "        frame_width = 500\n",
    "    )\"\"\""
   ]
  },
  {
   "cell_type": "code",
   "execution_count": 77,
   "id": "a27b82b8",
   "metadata": {},
   "outputs": [],
   "source": [
    "def suburb_price_chart(growth_df):\n",
    "    print(growth_df[\"Years\"])\n",
    "    return growth_df.hvplot.line(\n",
    "        title = \"Suburb's growth yearly\",\n",
    "        x = \"Years\",\n",
    "        y = \"Median Sold Price\",\n",
    "    ).opts(\n",
    "        yformatter=\"%.0f\"\n",
    "    )"
   ]
  },
  {
   "cell_type": "code",
   "execution_count": 81,
   "id": "380bb58b",
   "metadata": {},
   "outputs": [],
   "source": [
    "def suburb_sale_chart(growth_df):\n",
    "    print(growth_df[\"Years\"])\n",
    "    return growth_df.hvplot.line(\n",
    "        title = \"Suburb's growth yearly\",\n",
    "        x = \"Years\",\n",
    "        y = \"Number of Sales\",\n",
    "    ).opts(\n",
    "        yformatter=\"%.0f\"\n",
    "    )"
   ]
  },
  {
   "cell_type": "code",
   "execution_count": 75,
   "id": "a52ccfa1",
   "metadata": {},
   "outputs": [],
   "source": [
    "# Top level of property section will do api calls on _suggest and address-locators, determine if property is a unit\n",
    "# and will produce an info dump on the selected property\n",
    "def property_top_level(address):\n",
    "    if not address:\n",
    "        return\n",
    "    address_df = address_suggest(address)\n",
    "    full_address = address_df.iloc[0][\"full_address\"]\n",
    "    address_string = f\"Showing data for the following address:  <br /> {full_address}\"\n",
    "    \n",
    "    # Create a flag here on top level to indicate if property is a unit\n",
    "    # unit number wont be a column in address_df if the property isn't a unit to begin with\n",
    "    if address_df.iloc[0][\"unitNumber\"]:\n",
    "        building_type = \"unit\"\n",
    "    else:\n",
    "        building_type = \"house\"\n",
    "       \n",
    "    # Get ids of address componenets\n",
    "    id_df = address_locators(address_df, \"address\", building_type)\n",
    "    \n",
    "    # Get information on property. Need to know how many bedrooms property has\n",
    "    property_data = properties(address_df.iloc[0][\"id\"])\n",
    "    bedrooms = property_data[\"bedrooms\"]\n",
    "    info_string = f\"This property is a {building_type}, with {bedrooms} bedrooms\"\n",
    "    \n",
    "    # Get suburbs location profile\n",
    "    location_data = location_profiles(id_df.iloc[0][\"Suburb id\"])\n",
    "    categorised_location_data = location_data[\"data\"][\"propertyCategories\"]\n",
    "    \n",
    "    # Single out the property type by building type and bedroom count\n",
    "    for property_type in categorised_location_data:\n",
    "        if property_type[\"bedrooms\"] == bedrooms and property_type[\"propertyCategory\"].lower() == building_type:\n",
    "            specified_location_data = property_type\n",
    "    \n",
    "    # Code here uses specified location data for analysis\n",
    "    growth_years = []\n",
    "    growth_price = []\n",
    "    growth_sales = []\n",
    "    for entry in specified_location_data[\"salesGrowthList\"]:\n",
    "        growth_years.append(entry[\"year\"])\n",
    "        growth_price.append(entry[\"medianSoldPrice\"])\n",
    "        growth_sales.append(entry[\"numberSold\"])\n",
    "    \n",
    "    growth_data = {\"Years\": growth_years,\n",
    "                  \"Median Sold Price\": growth_price,\n",
    "                  \"Number of Sales\": growth_sales}\n",
    "    \n",
    "    growth_df = pd.DataFrame(growth_data)\n",
    "    #growth_df.set_index(\"Years\", inplace=True)\n",
    "    \n",
    "    suburb_data_row = pn.Row(suburb_price_chart(growth_df), suburb_sale_chart(growth_df))\n",
    "    \n",
    "    test_column = pn.Column(info_string, suburb_data_row)\n",
    "    \n",
    "    \n",
    "    return pn.Column(address_string, test_column, width = 1000)"
   ]
  },
  {
   "cell_type": "code",
   "execution_count": 64,
   "id": "b5e2f7c9",
   "metadata": {},
   "outputs": [],
   "source": [
    "def filler_stock_function(stocks):\n",
    "    if stocks is None:\n",
    "        return\n",
    "    stock_df = pd.read_csv(io.BytesIO(stocks), index_col=\"symbol\", infer_datetime_format=True)\n",
    "    stock_df[\"date\"] = pd.to_datetime(stock_df[\"date\"], infer_datetime_format=True)\n",
    "    user_symbols = stock_df.index.tolist()\n",
    "    \n",
    "    market_data_df = alpaca_api.get_barset(\n",
    "        user_symbols,\n",
    "        \"1D\",\n",
    "        limit = 10000\n",
    "    ).df\n",
    "        \n",
    "    return market_data_df"
   ]
  },
  {
   "cell_type": "code",
   "execution_count": 82,
   "id": "d858a57a",
   "metadata": {},
   "outputs": [
    {
     "data": {},
     "metadata": {},
     "output_type": "display_data"
    },
    {
     "data": {
      "application/vnd.holoviews_exec.v0+json": "",
      "text/html": [
       "<div id='2274'>\n",
       "\n",
       "\n",
       "\n",
       "\n",
       "\n",
       "  <div class=\"bk-root\" id=\"13be9d41-4c1b-456e-b034-524de4ed91c4\" data-root-id=\"2274\"></div>\n",
       "</div>\n",
       "<script type=\"application/javascript\">(function(root) {\n",
       "  function embed_document(root) {\n",
       "    var docs_json = {\"e4e07282-c2e1-4183-9778-12631c2b0f60\":{\"defs\":[{\"extends\":null,\"module\":null,\"name\":\"ReactiveHTML1\",\"overrides\":[],\"properties\":[]},{\"extends\":null,\"module\":null,\"name\":\"FlexBox1\",\"overrides\":[],\"properties\":[{\"default\":\"flex-start\",\"kind\":null,\"name\":\"align_content\"},{\"default\":\"flex-start\",\"kind\":null,\"name\":\"align_items\"},{\"default\":\"row\",\"kind\":null,\"name\":\"flex_direction\"},{\"default\":\"wrap\",\"kind\":null,\"name\":\"flex_wrap\"},{\"default\":\"flex-start\",\"kind\":null,\"name\":\"justify_content\"}]},{\"extends\":null,\"module\":null,\"name\":\"TemplateActions1\",\"overrides\":[],\"properties\":[{\"default\":0,\"kind\":null,\"name\":\"open_modal\"},{\"default\":0,\"kind\":null,\"name\":\"close_modal\"}]},{\"extends\":null,\"module\":null,\"name\":\"MaterialTemplateActions1\",\"overrides\":[],\"properties\":[{\"default\":0,\"kind\":null,\"name\":\"open_modal\"},{\"default\":0,\"kind\":null,\"name\":\"close_modal\"}]}],\"roots\":{\"references\":[{\"attributes\":{\"margin\":[5,5,5,5],\"name\":\"interactive03574\",\"text\":\"&lt;pre&gt; &lt;/pre&gt;\"},\"id\":\"2283\",\"type\":\"panel.models.markup.HTML\"},{\"attributes\":{\"children\":[{\"id\":\"2289\"}],\"margin\":[0,0,0,0],\"name\":\"Column03589\"},\"id\":\"2288\",\"type\":\"Column\"},{\"attributes\":{\"children\":[{\"id\":\"2291\"}],\"margin\":[0,0,0,0],\"name\":\"Row03588\"},\"id\":\"2290\",\"type\":\"Row\"},{\"attributes\":{\"accept\":\".csv\",\"margin\":[5,10,5,10]},\"id\":\"2289\",\"type\":\"FileInput\"},{\"attributes\":{\"children\":[{\"id\":\"2275\"},{\"id\":\"2276\"}],\"margin\":[0,0,0,0],\"name\":\"Column03596\"},\"id\":\"2274\",\"type\":\"Column\"},{\"attributes\":{\"client_comm_id\":\"f43f21d9c4ff476aabb0728f9d02f5f2\",\"comm_id\":\"8c8c14d3519945e385b3061f55c49d24\",\"plot_id\":\"2274\"},\"id\":\"2293\",\"type\":\"panel.models.comm_manager.CommManager\"},{\"attributes\":{\"child\":{\"id\":\"2285\"},\"name\":\"Column03592\",\"title\":\"Stock Portfolio Analysis\"},\"id\":\"2292\",\"type\":\"Panel\"},{\"attributes\":{\"margin\":[0,0,0,0],\"tabs\":[{\"id\":\"2284\"},{\"id\":\"2292\"}]},\"id\":\"2276\",\"type\":\"Tabs\"},{\"attributes\":{\"children\":[{\"id\":\"2280\"},{\"id\":\"2282\"}],\"margin\":[0,0,0,0],\"name\":\"Column03575\"},\"id\":\"2279\",\"type\":\"Column\"},{\"attributes\":{\"css_classes\":[\"markdown\"],\"margin\":[5,5,5,5],\"name\":\"Markdown03594\",\"text\":\"&lt;p&gt;All In One Portfolio Summary and Analysis&lt;/p&gt;\"},\"id\":\"2275\",\"type\":\"panel.models.markup.HTML\"},{\"attributes\":{\"css_classes\":[\"markdown\"],\"margin\":[5,5,5,5],\"name\":\"Markdown03590\",\"text\":\"&lt;p&gt;Please upload a .csv file with your stock symbol, purchase date, and purchase amount  &lt;br /&gt;\\nPlease use the following column names in your csv: symbol, date, amount&lt;/p&gt;\"},\"id\":\"2286\",\"type\":\"panel.models.markup.HTML\"},{\"attributes\":{\"children\":[{\"id\":\"2286\"},{\"id\":\"2287\"}],\"margin\":[0,0,0,0],\"min_width\":600,\"name\":\"Column03592\",\"width\":600},\"id\":\"2285\",\"type\":\"Column\"},{\"attributes\":{\"children\":[{\"id\":\"2281\"}],\"margin\":[0,0,0,0],\"name\":\"Column03579\"},\"id\":\"2280\",\"type\":\"Column\"},{\"attributes\":{\"margin\":[5,5,5,5],\"name\":\"interactive03584\",\"text\":\"&lt;pre&gt; &lt;/pre&gt;\"},\"id\":\"2291\",\"type\":\"panel.models.markup.HTML\"},{\"attributes\":{\"children\":[{\"id\":\"2278\"},{\"id\":\"2279\"}],\"margin\":[0,0,0,0],\"min_width\":600,\"name\":\"Column03582\",\"width\":600},\"id\":\"2277\",\"type\":\"Column\"},{\"attributes\":{\"css_classes\":[\"markdown\"],\"margin\":[5,5,5,5],\"name\":\"Markdown03580\",\"text\":\"&lt;p&gt;Please enter your full address  &lt;br /&gt;\\nThis program will find the address with the closest match to the address you provide it&lt;/p&gt;\"},\"id\":\"2278\",\"type\":\"panel.models.markup.HTML\"},{\"attributes\":{\"margin\":[5,10,5,10],\"max_length\":5000,\"placeholder\":\"Please enter your address here\",\"title\":\"Your Address\"},\"id\":\"2281\",\"type\":\"TextInput\"},{\"attributes\":{\"children\":[{\"id\":\"2288\"},{\"id\":\"2290\"}],\"margin\":[0,0,0,0],\"name\":\"Column03585\"},\"id\":\"2287\",\"type\":\"Column\"},{\"attributes\":{\"child\":{\"id\":\"2277\"},\"name\":\"Column03582\",\"title\":\"Property Analysis\"},\"id\":\"2284\",\"type\":\"Panel\"},{\"attributes\":{\"children\":[{\"id\":\"2283\"}],\"margin\":[0,0,0,0],\"name\":\"Row03578\"},\"id\":\"2282\",\"type\":\"Row\"}],\"root_ids\":[\"2274\",\"2293\"]},\"title\":\"Bokeh Application\",\"version\":\"2.4.2\"}};\n",
       "    var render_items = [{\"docid\":\"e4e07282-c2e1-4183-9778-12631c2b0f60\",\"root_ids\":[\"2274\"],\"roots\":{\"2274\":\"13be9d41-4c1b-456e-b034-524de4ed91c4\"}}];\n",
       "    root.Bokeh.embed.embed_items_notebook(docs_json, render_items);\n",
       "  }\n",
       "  if (root.Bokeh !== undefined && root.Bokeh.Panel !== undefined) {\n",
       "    embed_document(root);\n",
       "  } else {\n",
       "    var attempts = 0;\n",
       "    var timer = setInterval(function(root) {\n",
       "      if (root.Bokeh !== undefined && root.Bokeh.Panel !== undefined) {\n",
       "        clearInterval(timer);\n",
       "        embed_document(root);\n",
       "      } else if (document.readyState == \"complete\") {\n",
       "        attempts++;\n",
       "        if (attempts > 200) {\n",
       "          clearInterval(timer);\n",
       "          console.log(\"Bokeh: ERROR: Unable to run BokehJS code because BokehJS library is missing\");\n",
       "        }\n",
       "      }\n",
       "    }, 25, root)\n",
       "  }\n",
       "})(window);</script>"
      ],
      "text/plain": [
       "Column\n",
       "    [0] Markdown(str)\n",
       "    [1] Tabs\n",
       "        [0] Column(width=600)\n",
       "            [0] Markdown(str)\n",
       "            [1] Column\n",
       "                [0] Column\n",
       "                    [0] TextInput(name='Your Address', placeholder='Please enter y...)\n",
       "                [1] Row\n",
       "                    [0] Str(None, name='interactive03574')\n",
       "        [1] Column(width=600)\n",
       "            [0] Markdown(str)\n",
       "            [1] Column\n",
       "                [0] Column\n",
       "                    [0] FileInput(accept='.csv')\n",
       "                [1] Row\n",
       "                    [0] Str(None, name='interactive03584')"
      ]
     },
     "execution_count": 82,
     "metadata": {
      "application/vnd.holoviews_exec.v0+json": {
       "id": "2274"
      }
     },
     "output_type": "execute_result"
    }
   ],
   "source": [
    "# Put everything together into this dashboard and serve it\n",
    "property_opening_message = \"\"\"Please enter your full address  <br />\n",
    "This program will find the address with the closest match to the address you provide it\"\"\"\n",
    "\n",
    "property_opening_column = pn.Column(property_opening_message,\n",
    "                                   interact(property_top_level, \n",
    "                                            address=widgets.TextInput(name=\"Your Address\", placeholder=\"Please enter your address here\")),\n",
    "                                   width=600)\n",
    "\n",
    "stock_opening_message = \"\"\"Please upload a .csv file with your stock symbol, purchase date, and purchase amount  <br />\n",
    "Please use the following column names in your csv: symbol, date, amount\"\"\"\n",
    "\n",
    "stock_analysis_opening_column = pn.Column(stock_opening_message, \n",
    "                                          interact(filler_stock_function, stocks=widgets.FileInput(accept=\".csv\")),\n",
    "                                         width = 600)\n",
    "\n",
    "tabs = pn.Tabs(\n",
    "    (\"Property Analysis\", \n",
    "     property_opening_column),\n",
    "    (\"Stock Portfolio Analysis\",\n",
    "    stock_analysis_opening_column)\n",
    ")   \n",
    "dashboard = pn.Column(title, tabs)\n",
    "dashboard.servable()"
   ]
  },
  {
   "cell_type": "code",
   "execution_count": 80,
   "id": "ecaad3e6",
   "metadata": {},
   "outputs": [
    {
     "name": "stdout",
     "output_type": "stream",
     "text": [
      "[{'types': ['Address'], 'addressComponents': [{'component': 'StreetNumber', 'shortName': '10-12'}, {'component': 'UnitNumber', 'shortName': '15'}, {'component': 'StreetName', 'shortName': 'Third'}, {'component': 'StreetType', 'shortName': 'Av'}, {'component': 'Suburb', 'shortName': 'Campsie'}, {'component': 'Postcode', 'shortName': '2194'}, {'component': 'State', 'shortName': 'NSW'}], 'ids': [{'level': 'Address', 'id': 5457477}, {'level': 'Street', 'id': 1283352}, {'level': 'Suburb', 'id': 8562}, {'level': 'Postcode', 'id': 1752}]}]\n",
      "0    2016\n",
      "1    2017\n",
      "2    2018\n",
      "3    2019\n",
      "4    2020\n",
      "5    2021\n",
      "Name: Years, dtype: int64\n",
      "0    2016\n",
      "1    2017\n",
      "2    2018\n",
      "3    2019\n",
      "4    2020\n",
      "5    2021\n",
      "Name: Years, dtype: int64\n"
     ]
    },
    {
     "ename": "DataError",
     "evalue": "Supplied data does not contain specified dimensions, the following dimensions were not found: ['numberSold']\n\nPandasInterface expects tabular data, for more information on supported datatypes see http://holoviews.org/user_guide/Tabular_Datasets.html",
     "output_type": "error",
     "traceback": [
      "\u001b[1;31m---------------------------------------------------------------------------\u001b[0m",
      "\u001b[1;31mDataError\u001b[0m                                 Traceback (most recent call last)",
      "\u001b[1;32m~\\AppData\\Local\\Temp/ipykernel_15052/231659058.py\u001b[0m in \u001b[0;36m<module>\u001b[1;34m\u001b[0m\n\u001b[1;32m----> 1\u001b[1;33m \u001b[0mproperty_top_level\u001b[0m\u001b[1;33m(\u001b[0m\u001b[1;34m\"unit 15 10 12 third avenue campsie\"\u001b[0m\u001b[1;33m)\u001b[0m\u001b[1;33m\u001b[0m\u001b[1;33m\u001b[0m\u001b[0m\n\u001b[0m",
      "\u001b[1;32m~\\AppData\\Local\\Temp/ipykernel_15052/3180749937.py\u001b[0m in \u001b[0;36mproperty_top_level\u001b[1;34m(address)\u001b[0m\n\u001b[0;32m     48\u001b[0m     \u001b[1;31m#growth_df.set_index(\"Years\", inplace=True)\u001b[0m\u001b[1;33m\u001b[0m\u001b[1;33m\u001b[0m\u001b[1;33m\u001b[0m\u001b[0m\n\u001b[0;32m     49\u001b[0m \u001b[1;33m\u001b[0m\u001b[0m\n\u001b[1;32m---> 50\u001b[1;33m     \u001b[0msuburb_data_row\u001b[0m \u001b[1;33m=\u001b[0m \u001b[0mpn\u001b[0m\u001b[1;33m.\u001b[0m\u001b[0mRow\u001b[0m\u001b[1;33m(\u001b[0m\u001b[0msuburb_price_chart\u001b[0m\u001b[1;33m(\u001b[0m\u001b[0mgrowth_df\u001b[0m\u001b[1;33m)\u001b[0m\u001b[1;33m,\u001b[0m \u001b[0msuburb_sale_chart\u001b[0m\u001b[1;33m(\u001b[0m\u001b[0mgrowth_df\u001b[0m\u001b[1;33m)\u001b[0m\u001b[1;33m)\u001b[0m\u001b[1;33m\u001b[0m\u001b[1;33m\u001b[0m\u001b[0m\n\u001b[0m\u001b[0;32m     51\u001b[0m \u001b[1;33m\u001b[0m\u001b[0m\n\u001b[0;32m     52\u001b[0m     \u001b[0mtest_column\u001b[0m \u001b[1;33m=\u001b[0m \u001b[0mpn\u001b[0m\u001b[1;33m.\u001b[0m\u001b[0mColumn\u001b[0m\u001b[1;33m(\u001b[0m\u001b[0minfo_string\u001b[0m\u001b[1;33m,\u001b[0m \u001b[0msuburb_data_row\u001b[0m\u001b[1;33m)\u001b[0m\u001b[1;33m\u001b[0m\u001b[1;33m\u001b[0m\u001b[0m\n",
      "\u001b[1;32m~\\AppData\\Local\\Temp/ipykernel_15052/1307933787.py\u001b[0m in \u001b[0;36msuburb_sale_chart\u001b[1;34m(growth_df)\u001b[0m\n\u001b[0;32m      4\u001b[0m         \u001b[0mtitle\u001b[0m \u001b[1;33m=\u001b[0m \u001b[1;34m\"Suburb's growth yearly\"\u001b[0m\u001b[1;33m,\u001b[0m\u001b[1;33m\u001b[0m\u001b[1;33m\u001b[0m\u001b[0m\n\u001b[0;32m      5\u001b[0m         \u001b[0mx\u001b[0m \u001b[1;33m=\u001b[0m \u001b[1;34m\"Years\"\u001b[0m\u001b[1;33m,\u001b[0m\u001b[1;33m\u001b[0m\u001b[1;33m\u001b[0m\u001b[0m\n\u001b[1;32m----> 6\u001b[1;33m         \u001b[0my\u001b[0m \u001b[1;33m=\u001b[0m \u001b[1;34m\"numberSold\"\u001b[0m\u001b[1;33m,\u001b[0m\u001b[1;33m\u001b[0m\u001b[1;33m\u001b[0m\u001b[0m\n\u001b[0m\u001b[0;32m      7\u001b[0m     \u001b[1;33m)\u001b[0m\u001b[1;33m.\u001b[0m\u001b[0mopts\u001b[0m\u001b[1;33m(\u001b[0m\u001b[1;33m\u001b[0m\u001b[1;33m\u001b[0m\u001b[0m\n\u001b[0;32m      8\u001b[0m         \u001b[0myformatter\u001b[0m\u001b[1;33m=\u001b[0m\u001b[1;34m\"%.0f\"\u001b[0m\u001b[1;33m\u001b[0m\u001b[1;33m\u001b[0m\u001b[0m\n",
      "\u001b[1;32m~\\anaconda3\\envs\\pyvizenv\\lib\\site-packages\\hvplot\\plotting\\core.py\u001b[0m in \u001b[0;36mline\u001b[1;34m(self, x, y, **kwds)\u001b[0m\n\u001b[0;32m    154\u001b[0m         \u001b[0mHoloViews\u001b[0m \u001b[0mobject\u001b[0m\u001b[1;33m:\u001b[0m \u001b[0mObject\u001b[0m \u001b[0mrepresenting\u001b[0m \u001b[0mthe\u001b[0m \u001b[0mrequested\u001b[0m \u001b[0mvisualization\u001b[0m\u001b[1;33m\u001b[0m\u001b[1;33m\u001b[0m\u001b[0m\n\u001b[0;32m    155\u001b[0m         \"\"\"\n\u001b[1;32m--> 156\u001b[1;33m         \u001b[1;32mreturn\u001b[0m \u001b[0mself\u001b[0m\u001b[1;33m(\u001b[0m\u001b[0mx\u001b[0m\u001b[1;33m,\u001b[0m \u001b[0my\u001b[0m\u001b[1;33m,\u001b[0m \u001b[0mkind\u001b[0m\u001b[1;33m=\u001b[0m\u001b[1;34m'line'\u001b[0m\u001b[1;33m,\u001b[0m \u001b[1;33m**\u001b[0m\u001b[0mkwds\u001b[0m\u001b[1;33m)\u001b[0m\u001b[1;33m\u001b[0m\u001b[1;33m\u001b[0m\u001b[0m\n\u001b[0m\u001b[0;32m    157\u001b[0m \u001b[1;33m\u001b[0m\u001b[0m\n\u001b[0;32m    158\u001b[0m     \u001b[1;32mdef\u001b[0m \u001b[0mstep\u001b[0m\u001b[1;33m(\u001b[0m\u001b[0mself\u001b[0m\u001b[1;33m,\u001b[0m \u001b[0mx\u001b[0m\u001b[1;33m=\u001b[0m\u001b[1;32mNone\u001b[0m\u001b[1;33m,\u001b[0m \u001b[0my\u001b[0m\u001b[1;33m=\u001b[0m\u001b[1;32mNone\u001b[0m\u001b[1;33m,\u001b[0m \u001b[0mwhere\u001b[0m\u001b[1;33m=\u001b[0m\u001b[1;34m'mid'\u001b[0m\u001b[1;33m,\u001b[0m \u001b[1;33m**\u001b[0m\u001b[0mkwds\u001b[0m\u001b[1;33m)\u001b[0m\u001b[1;33m:\u001b[0m\u001b[1;33m\u001b[0m\u001b[1;33m\u001b[0m\u001b[0m\n",
      "\u001b[1;32m~\\anaconda3\\envs\\pyvizenv\\lib\\site-packages\\hvplot\\plotting\\core.py\u001b[0m in \u001b[0;36m__call__\u001b[1;34m(self, x, y, kind, **kwds)\u001b[0m\n\u001b[0;32m     77\u001b[0m                 \u001b[1;32mreturn\u001b[0m \u001b[0mpn\u001b[0m\u001b[1;33m.\u001b[0m\u001b[0mpanel\u001b[0m\u001b[1;33m(\u001b[0m\u001b[0mplot\u001b[0m\u001b[1;33m,\u001b[0m \u001b[1;33m**\u001b[0m\u001b[0mpanel_dict\u001b[0m\u001b[1;33m)\u001b[0m\u001b[1;33m\u001b[0m\u001b[1;33m\u001b[0m\u001b[0m\n\u001b[0;32m     78\u001b[0m \u001b[1;33m\u001b[0m\u001b[0m\n\u001b[1;32m---> 79\u001b[1;33m         \u001b[1;32mreturn\u001b[0m \u001b[0mself\u001b[0m\u001b[1;33m.\u001b[0m\u001b[0m_get_converter\u001b[0m\u001b[1;33m(\u001b[0m\u001b[0mx\u001b[0m\u001b[1;33m,\u001b[0m \u001b[0my\u001b[0m\u001b[1;33m,\u001b[0m \u001b[0mkind\u001b[0m\u001b[1;33m,\u001b[0m \u001b[1;33m**\u001b[0m\u001b[0mkwds\u001b[0m\u001b[1;33m)\u001b[0m\u001b[1;33m(\u001b[0m\u001b[0mkind\u001b[0m\u001b[1;33m,\u001b[0m \u001b[0mx\u001b[0m\u001b[1;33m,\u001b[0m \u001b[0my\u001b[0m\u001b[1;33m)\u001b[0m\u001b[1;33m\u001b[0m\u001b[1;33m\u001b[0m\u001b[0m\n\u001b[0m\u001b[0;32m     80\u001b[0m \u001b[1;33m\u001b[0m\u001b[0m\n\u001b[0;32m     81\u001b[0m     \u001b[1;32mdef\u001b[0m \u001b[0m_get_converter\u001b[0m\u001b[1;33m(\u001b[0m\u001b[0mself\u001b[0m\u001b[1;33m,\u001b[0m \u001b[0mx\u001b[0m\u001b[1;33m=\u001b[0m\u001b[1;32mNone\u001b[0m\u001b[1;33m,\u001b[0m \u001b[0my\u001b[0m\u001b[1;33m=\u001b[0m\u001b[1;32mNone\u001b[0m\u001b[1;33m,\u001b[0m \u001b[0mkind\u001b[0m\u001b[1;33m=\u001b[0m\u001b[1;32mNone\u001b[0m\u001b[1;33m,\u001b[0m \u001b[1;33m**\u001b[0m\u001b[0mkwds\u001b[0m\u001b[1;33m)\u001b[0m\u001b[1;33m:\u001b[0m\u001b[1;33m\u001b[0m\u001b[1;33m\u001b[0m\u001b[0m\n",
      "\u001b[1;32m~\\anaconda3\\envs\\pyvizenv\\lib\\site-packages\\hvplot\\converter.py\u001b[0m in \u001b[0;36m__call__\u001b[1;34m(self, kind, x, y)\u001b[0m\n\u001b[0;32m   1135\u001b[0m                         \u001b[0mdataset\u001b[0m \u001b[1;33m=\u001b[0m \u001b[0mDataset\u001b[0m\u001b[1;33m(\u001b[0m\u001b[0mdata\u001b[0m\u001b[1;33m)\u001b[0m\u001b[1;33m\u001b[0m\u001b[1;33m\u001b[0m\u001b[0m\n\u001b[0;32m   1136\u001b[0m                     \u001b[0mdataset\u001b[0m \u001b[1;33m=\u001b[0m \u001b[0mdataset\u001b[0m\u001b[1;33m.\u001b[0m\u001b[0mredim\u001b[0m\u001b[1;33m(\u001b[0m\u001b[1;33m**\u001b[0m\u001b[0mself\u001b[0m\u001b[1;33m.\u001b[0m\u001b[0m_redim\u001b[0m\u001b[1;33m)\u001b[0m\u001b[1;33m\u001b[0m\u001b[1;33m\u001b[0m\u001b[0m\n\u001b[1;32m-> 1137\u001b[1;33m                 \u001b[0mobj\u001b[0m \u001b[1;33m=\u001b[0m \u001b[0mmethod\u001b[0m\u001b[1;33m(\u001b[0m\u001b[0mx\u001b[0m\u001b[1;33m,\u001b[0m \u001b[0my\u001b[0m\u001b[1;33m)\u001b[0m\u001b[1;33m\u001b[0m\u001b[1;33m\u001b[0m\u001b[0m\n\u001b[0m\u001b[0;32m   1138\u001b[0m                 \u001b[0mobj\u001b[0m\u001b[1;33m.\u001b[0m\u001b[0m_dataset\u001b[0m \u001b[1;33m=\u001b[0m \u001b[0mdataset\u001b[0m\u001b[1;33m\u001b[0m\u001b[1;33m\u001b[0m\u001b[0m\n\u001b[0;32m   1139\u001b[0m \u001b[1;33m\u001b[0m\u001b[0m\n",
      "\u001b[1;32m~\\anaconda3\\envs\\pyvizenv\\lib\\site-packages\\hvplot\\converter.py\u001b[0m in \u001b[0;36mline\u001b[1;34m(self, x, y, data)\u001b[0m\n\u001b[0;32m   1465\u001b[0m \u001b[1;33m\u001b[0m\u001b[0m\n\u001b[0;32m   1466\u001b[0m     \u001b[1;32mdef\u001b[0m \u001b[0mline\u001b[0m\u001b[1;33m(\u001b[0m\u001b[0mself\u001b[0m\u001b[1;33m,\u001b[0m \u001b[0mx\u001b[0m\u001b[1;33m=\u001b[0m\u001b[1;32mNone\u001b[0m\u001b[1;33m,\u001b[0m \u001b[0my\u001b[0m\u001b[1;33m=\u001b[0m\u001b[1;32mNone\u001b[0m\u001b[1;33m,\u001b[0m \u001b[0mdata\u001b[0m\u001b[1;33m=\u001b[0m\u001b[1;32mNone\u001b[0m\u001b[1;33m)\u001b[0m\u001b[1;33m:\u001b[0m\u001b[1;33m\u001b[0m\u001b[1;33m\u001b[0m\u001b[0m\n\u001b[1;32m-> 1467\u001b[1;33m         \u001b[1;32mreturn\u001b[0m \u001b[0mself\u001b[0m\u001b[1;33m.\u001b[0m\u001b[0mchart\u001b[0m\u001b[1;33m(\u001b[0m\u001b[0mCurve\u001b[0m\u001b[1;33m,\u001b[0m \u001b[0mx\u001b[0m\u001b[1;33m,\u001b[0m \u001b[0my\u001b[0m\u001b[1;33m,\u001b[0m \u001b[0mdata\u001b[0m\u001b[1;33m)\u001b[0m\u001b[1;33m\u001b[0m\u001b[1;33m\u001b[0m\u001b[0m\n\u001b[0m\u001b[0;32m   1468\u001b[0m \u001b[1;33m\u001b[0m\u001b[0m\n\u001b[0;32m   1469\u001b[0m     \u001b[1;32mdef\u001b[0m \u001b[0mstep\u001b[0m\u001b[1;33m(\u001b[0m\u001b[0mself\u001b[0m\u001b[1;33m,\u001b[0m \u001b[0mx\u001b[0m\u001b[1;33m=\u001b[0m\u001b[1;32mNone\u001b[0m\u001b[1;33m,\u001b[0m \u001b[0my\u001b[0m\u001b[1;33m=\u001b[0m\u001b[1;32mNone\u001b[0m\u001b[1;33m,\u001b[0m \u001b[0mdata\u001b[0m\u001b[1;33m=\u001b[0m\u001b[1;32mNone\u001b[0m\u001b[1;33m)\u001b[0m\u001b[1;33m:\u001b[0m\u001b[1;33m\u001b[0m\u001b[1;33m\u001b[0m\u001b[0m\n",
      "\u001b[1;32m~\\anaconda3\\envs\\pyvizenv\\lib\\site-packages\\hvplot\\converter.py\u001b[0m in \u001b[0;36mchart\u001b[1;34m(self, element, x, y, data)\u001b[0m\n\u001b[0;32m   1442\u001b[0m         \u001b[0mdata\u001b[0m\u001b[1;33m,\u001b[0m \u001b[0mx\u001b[0m\u001b[1;33m,\u001b[0m \u001b[0my\u001b[0m \u001b[1;33m=\u001b[0m \u001b[0mself\u001b[0m\u001b[1;33m.\u001b[0m\u001b[0m_process_chart_args\u001b[0m\u001b[1;33m(\u001b[0m\u001b[0mdata\u001b[0m\u001b[1;33m,\u001b[0m \u001b[0mx\u001b[0m\u001b[1;33m,\u001b[0m \u001b[0my\u001b[0m\u001b[1;33m)\u001b[0m\u001b[1;33m\u001b[0m\u001b[1;33m\u001b[0m\u001b[0m\n\u001b[0;32m   1443\u001b[0m         \u001b[1;32mif\u001b[0m \u001b[0mx\u001b[0m \u001b[1;32mand\u001b[0m \u001b[0my\u001b[0m \u001b[1;32mand\u001b[0m \u001b[1;32mnot\u001b[0m \u001b[0misinstance\u001b[0m\u001b[1;33m(\u001b[0m\u001b[0my\u001b[0m\u001b[1;33m,\u001b[0m \u001b[1;33m(\u001b[0m\u001b[0mlist\u001b[0m\u001b[1;33m,\u001b[0m \u001b[0mtuple\u001b[0m\u001b[1;33m)\u001b[0m\u001b[1;33m)\u001b[0m\u001b[1;33m:\u001b[0m\u001b[1;33m\u001b[0m\u001b[1;33m\u001b[0m\u001b[0m\n\u001b[1;32m-> 1444\u001b[1;33m             \u001b[1;32mreturn\u001b[0m \u001b[0mself\u001b[0m\u001b[1;33m.\u001b[0m\u001b[0msingle_chart\u001b[0m\u001b[1;33m(\u001b[0m\u001b[0melement\u001b[0m\u001b[1;33m,\u001b[0m \u001b[0mx\u001b[0m\u001b[1;33m,\u001b[0m \u001b[0my\u001b[0m\u001b[1;33m,\u001b[0m \u001b[0mdata\u001b[0m\u001b[1;33m)\u001b[0m\u001b[1;33m\u001b[0m\u001b[1;33m\u001b[0m\u001b[0m\n\u001b[0m\u001b[0;32m   1445\u001b[0m         \u001b[1;32melif\u001b[0m \u001b[0mx\u001b[0m \u001b[1;32mand\u001b[0m \u001b[0my\u001b[0m \u001b[1;32mand\u001b[0m \u001b[0mlen\u001b[0m\u001b[1;33m(\u001b[0m\u001b[0my\u001b[0m\u001b[1;33m)\u001b[0m \u001b[1;33m==\u001b[0m \u001b[1;36m1\u001b[0m\u001b[1;33m:\u001b[0m\u001b[1;33m\u001b[0m\u001b[1;33m\u001b[0m\u001b[0m\n\u001b[0;32m   1446\u001b[0m             \u001b[1;32mreturn\u001b[0m \u001b[0mself\u001b[0m\u001b[1;33m.\u001b[0m\u001b[0msingle_chart\u001b[0m\u001b[1;33m(\u001b[0m\u001b[0melement\u001b[0m\u001b[1;33m,\u001b[0m \u001b[0mx\u001b[0m\u001b[1;33m,\u001b[0m \u001b[0my\u001b[0m\u001b[1;33m[\u001b[0m\u001b[1;36m0\u001b[0m\u001b[1;33m]\u001b[0m\u001b[1;33m,\u001b[0m \u001b[0mdata\u001b[0m\u001b[1;33m)\u001b[0m\u001b[1;33m\u001b[0m\u001b[1;33m\u001b[0m\u001b[0m\n",
      "\u001b[1;32m~\\anaconda3\\envs\\pyvizenv\\lib\\site-packages\\hvplot\\converter.py\u001b[0m in \u001b[0;36msingle_chart\u001b[1;34m(self, element, x, y, data)\u001b[0m\n\u001b[0;32m   1366\u001b[0m             \u001b[0mchart\u001b[0m \u001b[1;33m=\u001b[0m \u001b[0mchart\u001b[0m\u001b[1;33m.\u001b[0m\u001b[0mlayout\u001b[0m\u001b[1;33m(\u001b[0m\u001b[1;33m)\u001b[0m \u001b[1;32mif\u001b[0m \u001b[0mself\u001b[0m\u001b[1;33m.\u001b[0m\u001b[0msubplots\u001b[0m \u001b[1;32melse\u001b[0m \u001b[0mchart\u001b[0m\u001b[1;33m.\u001b[0m\u001b[0moverlay\u001b[0m\u001b[1;33m(\u001b[0m\u001b[0msort\u001b[0m\u001b[1;33m=\u001b[0m\u001b[1;32mFalse\u001b[0m\u001b[1;33m)\u001b[0m\u001b[1;33m\u001b[0m\u001b[1;33m\u001b[0m\u001b[0m\n\u001b[0;32m   1367\u001b[0m         \u001b[1;32melse\u001b[0m\u001b[1;33m:\u001b[0m\u001b[1;33m\u001b[0m\u001b[1;33m\u001b[0m\u001b[0m\n\u001b[1;32m-> 1368\u001b[1;33m             \u001b[0mchart\u001b[0m \u001b[1;33m=\u001b[0m \u001b[0melement\u001b[0m\u001b[1;33m(\u001b[0m\u001b[0mdata\u001b[0m\u001b[1;33m,\u001b[0m \u001b[0mkdims\u001b[0m\u001b[1;33m,\u001b[0m \u001b[0mvdims\u001b[0m\u001b[1;33m)\u001b[0m\u001b[1;33m.\u001b[0m\u001b[0mrelabel\u001b[0m\u001b[1;33m(\u001b[0m\u001b[1;33m**\u001b[0m\u001b[0mself\u001b[0m\u001b[1;33m.\u001b[0m\u001b[0m_relabel\u001b[0m\u001b[1;33m)\u001b[0m\u001b[1;33m\u001b[0m\u001b[1;33m\u001b[0m\u001b[0m\n\u001b[0m\u001b[0;32m   1369\u001b[0m         \u001b[1;32mreturn\u001b[0m \u001b[0mchart\u001b[0m\u001b[1;33m.\u001b[0m\u001b[0mredim\u001b[0m\u001b[1;33m(\u001b[0m\u001b[1;33m**\u001b[0m\u001b[0mself\u001b[0m\u001b[1;33m.\u001b[0m\u001b[0m_redim\u001b[0m\u001b[1;33m)\u001b[0m\u001b[1;33m.\u001b[0m\u001b[0mopts\u001b[0m\u001b[1;33m(\u001b[0m\u001b[0mopts\u001b[0m\u001b[1;33m)\u001b[0m\u001b[1;33m\u001b[0m\u001b[1;33m\u001b[0m\u001b[0m\n\u001b[0;32m   1370\u001b[0m \u001b[1;33m\u001b[0m\u001b[0m\n",
      "\u001b[1;32m~\\anaconda3\\envs\\pyvizenv\\lib\\site-packages\\holoviews\\element\\selection.py\u001b[0m in \u001b[0;36m__init__\u001b[1;34m(self, *args, **kwargs)\u001b[0m\n\u001b[0;32m     21\u001b[0m \u001b[1;33m\u001b[0m\u001b[0m\n\u001b[0;32m     22\u001b[0m     \u001b[1;32mdef\u001b[0m \u001b[0m__init__\u001b[0m\u001b[1;33m(\u001b[0m\u001b[0mself\u001b[0m\u001b[1;33m,\u001b[0m \u001b[1;33m*\u001b[0m\u001b[0margs\u001b[0m\u001b[1;33m,\u001b[0m \u001b[1;33m**\u001b[0m\u001b[0mkwargs\u001b[0m\u001b[1;33m)\u001b[0m\u001b[1;33m:\u001b[0m\u001b[1;33m\u001b[0m\u001b[1;33m\u001b[0m\u001b[0m\n\u001b[1;32m---> 23\u001b[1;33m         \u001b[0msuper\u001b[0m\u001b[1;33m(\u001b[0m\u001b[0mSelectionIndexExpr\u001b[0m\u001b[1;33m,\u001b[0m \u001b[0mself\u001b[0m\u001b[1;33m)\u001b[0m\u001b[1;33m.\u001b[0m\u001b[0m__init__\u001b[0m\u001b[1;33m(\u001b[0m\u001b[1;33m*\u001b[0m\u001b[0margs\u001b[0m\u001b[1;33m,\u001b[0m \u001b[1;33m**\u001b[0m\u001b[0mkwargs\u001b[0m\u001b[1;33m)\u001b[0m\u001b[1;33m\u001b[0m\u001b[1;33m\u001b[0m\u001b[0m\n\u001b[0m\u001b[0;32m     24\u001b[0m         \u001b[0mself\u001b[0m\u001b[1;33m.\u001b[0m\u001b[0m_index_skip\u001b[0m \u001b[1;33m=\u001b[0m \u001b[1;32mFalse\u001b[0m\u001b[1;33m\u001b[0m\u001b[1;33m\u001b[0m\u001b[0m\n\u001b[0;32m     25\u001b[0m \u001b[1;33m\u001b[0m\u001b[0m\n",
      "\u001b[1;32m~\\anaconda3\\envs\\pyvizenv\\lib\\site-packages\\holoviews\\element\\chart.py\u001b[0m in \u001b[0;36m__init__\u001b[1;34m(self, data, kdims, vdims, **params)\u001b[0m\n\u001b[0;32m     50\u001b[0m         \u001b[1;32mif\u001b[0m \u001b[0mlen\u001b[0m\u001b[1;33m(\u001b[0m\u001b[0mparams\u001b[0m\u001b[1;33m.\u001b[0m\u001b[0mget\u001b[0m\u001b[1;33m(\u001b[0m\u001b[1;34m'kdims'\u001b[0m\u001b[1;33m,\u001b[0m \u001b[1;33m[\u001b[0m\u001b[1;33m]\u001b[0m\u001b[1;33m)\u001b[0m\u001b[1;33m)\u001b[0m \u001b[1;33m==\u001b[0m \u001b[0mself\u001b[0m\u001b[1;33m.\u001b[0m\u001b[0m_max_kdim_count\u001b[0m \u001b[1;33m+\u001b[0m \u001b[1;36m1\u001b[0m\u001b[1;33m:\u001b[0m\u001b[1;33m\u001b[0m\u001b[1;33m\u001b[0m\u001b[0m\n\u001b[0;32m     51\u001b[0m             \u001b[0mself\u001b[0m\u001b[1;33m.\u001b[0m\u001b[0mparam\u001b[0m\u001b[1;33m.\u001b[0m\u001b[0mwarning\u001b[0m\u001b[1;33m(\u001b[0m\u001b[1;34m'Chart elements should only be supplied a single kdim'\u001b[0m\u001b[1;33m)\u001b[0m\u001b[1;33m\u001b[0m\u001b[1;33m\u001b[0m\u001b[0m\n\u001b[1;32m---> 52\u001b[1;33m         \u001b[0msuper\u001b[0m\u001b[1;33m(\u001b[0m\u001b[0mChart\u001b[0m\u001b[1;33m,\u001b[0m \u001b[0mself\u001b[0m\u001b[1;33m)\u001b[0m\u001b[1;33m.\u001b[0m\u001b[0m__init__\u001b[0m\u001b[1;33m(\u001b[0m\u001b[0mdata\u001b[0m\u001b[1;33m,\u001b[0m \u001b[1;33m**\u001b[0m\u001b[0mparams\u001b[0m\u001b[1;33m)\u001b[0m\u001b[1;33m\u001b[0m\u001b[1;33m\u001b[0m\u001b[0m\n\u001b[0m\u001b[0;32m     53\u001b[0m \u001b[1;33m\u001b[0m\u001b[0m\n\u001b[0;32m     54\u001b[0m     \u001b[1;32mdef\u001b[0m \u001b[0m__getitem__\u001b[0m\u001b[1;33m(\u001b[0m\u001b[0mself\u001b[0m\u001b[1;33m,\u001b[0m \u001b[0mindex\u001b[0m\u001b[1;33m)\u001b[0m\u001b[1;33m:\u001b[0m\u001b[1;33m\u001b[0m\u001b[1;33m\u001b[0m\u001b[0m\n",
      "\u001b[1;32m~\\anaconda3\\envs\\pyvizenv\\lib\\site-packages\\holoviews\\core\\data\\__init__.py\u001b[0m in \u001b[0;36m__init__\u001b[1;34m(self, data, kdims, vdims, **kwargs)\u001b[0m\n\u001b[0;32m    343\u001b[0m         \u001b[1;33m(\u001b[0m\u001b[0mdata\u001b[0m\u001b[1;33m,\u001b[0m \u001b[0mself\u001b[0m\u001b[1;33m.\u001b[0m\u001b[0minterface\u001b[0m\u001b[1;33m,\u001b[0m \u001b[0mdims\u001b[0m\u001b[1;33m,\u001b[0m \u001b[0mextra_kws\u001b[0m\u001b[1;33m)\u001b[0m \u001b[1;33m=\u001b[0m \u001b[0minitialized\u001b[0m\u001b[1;33m\u001b[0m\u001b[1;33m\u001b[0m\u001b[0m\n\u001b[0;32m    344\u001b[0m         \u001b[0msuper\u001b[0m\u001b[1;33m(\u001b[0m\u001b[0mDataset\u001b[0m\u001b[1;33m,\u001b[0m \u001b[0mself\u001b[0m\u001b[1;33m)\u001b[0m\u001b[1;33m.\u001b[0m\u001b[0m__init__\u001b[0m\u001b[1;33m(\u001b[0m\u001b[0mdata\u001b[0m\u001b[1;33m,\u001b[0m \u001b[1;33m**\u001b[0m\u001b[0mdict\u001b[0m\u001b[1;33m(\u001b[0m\u001b[0mkwargs\u001b[0m\u001b[1;33m,\u001b[0m \u001b[1;33m**\u001b[0m\u001b[0mdict\u001b[0m\u001b[1;33m(\u001b[0m\u001b[0mdims\u001b[0m\u001b[1;33m,\u001b[0m \u001b[1;33m**\u001b[0m\u001b[0mextra_kws\u001b[0m\u001b[1;33m)\u001b[0m\u001b[1;33m)\u001b[0m\u001b[1;33m)\u001b[0m\u001b[1;33m\u001b[0m\u001b[1;33m\u001b[0m\u001b[0m\n\u001b[1;32m--> 345\u001b[1;33m         \u001b[0mself\u001b[0m\u001b[1;33m.\u001b[0m\u001b[0minterface\u001b[0m\u001b[1;33m.\u001b[0m\u001b[0mvalidate\u001b[0m\u001b[1;33m(\u001b[0m\u001b[0mself\u001b[0m\u001b[1;33m,\u001b[0m \u001b[0mvalidate_vdims\u001b[0m\u001b[1;33m)\u001b[0m\u001b[1;33m\u001b[0m\u001b[1;33m\u001b[0m\u001b[0m\n\u001b[0m\u001b[0;32m    346\u001b[0m \u001b[1;33m\u001b[0m\u001b[0m\n\u001b[0;32m    347\u001b[0m         \u001b[1;31m# Handle _pipeline property\u001b[0m\u001b[1;33m\u001b[0m\u001b[1;33m\u001b[0m\u001b[1;33m\u001b[0m\u001b[0m\n",
      "\u001b[1;32m~\\anaconda3\\envs\\pyvizenv\\lib\\site-packages\\holoviews\\core\\data\\pandas.py\u001b[0m in \u001b[0;36mvalidate\u001b[1;34m(cls, dataset, vdims)\u001b[0m\n\u001b[0;32m    156\u001b[0m             raise DataError(\"Supplied data does not contain specified \"\n\u001b[0;32m    157\u001b[0m                             \u001b[1;34m\"dimensions, the following dimensions were \"\u001b[0m\u001b[1;33m\u001b[0m\u001b[1;33m\u001b[0m\u001b[0m\n\u001b[1;32m--> 158\u001b[1;33m                             \"not found: %s\" % repr(not_found), cls)\n\u001b[0m\u001b[0;32m    159\u001b[0m \u001b[1;33m\u001b[0m\u001b[0m\n\u001b[0;32m    160\u001b[0m \u001b[1;33m\u001b[0m\u001b[0m\n",
      "\u001b[1;31mDataError\u001b[0m: Supplied data does not contain specified dimensions, the following dimensions were not found: ['numberSold']\n\nPandasInterface expects tabular data, for more information on supported datatypes see http://holoviews.org/user_guide/Tabular_Datasets.html"
     ]
    }
   ],
   "source": [
    "property_top_level(\"unit 15 10 12 third avenue campsie\")"
   ]
  },
  {
   "cell_type": "code",
   "execution_count": null,
   "id": "e18be6c2",
   "metadata": {},
   "outputs": [],
   "source": []
  },
  {
   "cell_type": "code",
   "execution_count": null,
   "id": "88cebaca",
   "metadata": {},
   "outputs": [],
   "source": []
  },
  {
   "cell_type": "code",
   "execution_count": null,
   "id": "fa727816",
   "metadata": {},
   "outputs": [],
   "source": []
  }
 ],
 "metadata": {
  "kernelspec": {
   "display_name": "Python [conda env:pyvizenv]",
   "language": "python",
   "name": "conda-env-pyvizenv-py"
  },
  "language_info": {
   "codemirror_mode": {
    "name": "ipython",
    "version": 3
   },
   "file_extension": ".py",
   "mimetype": "text/x-python",
   "name": "python",
   "nbconvert_exporter": "python",
   "pygments_lexer": "ipython3",
   "version": "3.7.11"
  }
 },
 "nbformat": 4,
 "nbformat_minor": 5
}
